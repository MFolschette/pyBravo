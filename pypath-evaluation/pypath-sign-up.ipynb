{
 "cells": [
  {
   "cell_type": "markdown",
   "metadata": {},
   "source": [
    "Upstream signaling network reconstruction\n",
    "===============================\n",
    "\n",
    "The following code use [pyPath library](https://github.com/saezlab/pypath) to reconstruct signaling network from a list of biological entities (csv format) and querying [OmnipathDB](http://omnipathdb.org/).\n",
    "\n",
    "## 1. Load function\n",
    "\n",
    "Import modules:"
   ]
  },
  {
   "cell_type": "code",
   "execution_count": 1,
   "metadata": {},
   "outputs": [
    {
     "name": "stdout",
     "output_type": "stream",
     "text": [
      "\n",
      "\t=== d i s c l a i m e r ===\n",
      "\n",
      "\tAll data accessed through this module,\n",
      "\teither as redistributed copy or downloaded using the\n",
      "\tprogrammatic interfaces included in the present module,\n",
      "\tare free to use at least for academic research or\n",
      "\teducation purposes.\n",
      "\tPlease be aware of the licenses of all the datasets\n",
      "\tyou use in your analysis, and please give appropriate\n",
      "\tcredits for the original sources when you publish your\n",
      "\tresults. To find out more about data sources please\n",
      "\tlook at `pypath.resources.descriptions` or\n",
      "\thttp://omnipathdb.org/info and \n",
      "\t`pypath.resources.urls.urls`.\n",
      "\n",
      "[2020-05-06 16:15:24] [pypath] \n",
      "\t- session ID: `dzwlm`\n",
      "\t- working directory: `/home/marie/Project/pyBravo/pypath-evaluation`\n",
      "\t- logfile: `/home/marie/Project/pyBravo/pypath-evaluation/pypath_log/pypath-dzwlm.log`\n",
      "\t- pypath version: 0.10.6\n"
     ]
    }
   ],
   "source": [
    "#!/usr/bin/env python\n",
    "import csv\n",
    "import os\n",
    "import time\n",
    "import pypath\n",
    "from pypath.share import curl\n",
    "from pypath.resources import data_formats"
   ]
  },
  {
   "cell_type": "code",
   "execution_count": 2,
   "metadata": {},
   "outputs": [],
   "source": [
    "def _upstream_signaling(pa, max_depth, to_be_explore, already_explored=[], current_depth=0, network_sif = []):\n",
    "    \"\"\"\n",
    "    Param:\n",
    "    pa: pypath env, \n",
    "    max_depth: maximum level of reconstruction, \n",
    "    to_be_explore: list of entities, \n",
    "    already_explored=[], \n",
    "    current_depth=0, \n",
    "    network_sif = []\n",
    "    \"\"\"\n",
    "    \n",
    "    # Stopping criteria 1\n",
    "    if current_depth >= max_depth:\n",
    "        print(\"Exploring alted due to maximum depth\")\n",
    "        return network_sif\n",
    "    else:\n",
    "        print('Exploration depth ' + str(current_depth))\n",
    "    # Stopping criteria 2\n",
    "    if len(to_be_explore) == 0:\n",
    "        print(\"Exploring done\")\n",
    "        return(network_sif)\n",
    "    # Start exploring\n",
    "    new_to_be_explored = []\n",
    "    for gene in to_be_explore:\n",
    "        # get entity that get affected by MYC using vertex object (inhibition, stimulation or other)\n",
    "        regulators_list = list(pa.gs_affects(gene))\n",
    "        already_explored.append(gene)\n",
    "        # get direction and sign of interation\n",
    "        for reg in range(len(regulators_list)):\n",
    "            # direction and sign\n",
    "            edge = pa.get_edge(regulators_list[reg][\"name\"], gene)\n",
    "            dirs = edge['dirs']\n",
    "            sign_check = dirs.get_sign(dirs.reverse) # reverse: source ===> target\n",
    "            # A pair of boolean values means if the interaction is stimulation and if it is inhibition, respectively [True, False] \n",
    "            if sign_check[0] == True and sign_check[1] == False:\n",
    "                sign = 'stimulation'\n",
    "            elif sign_check[0] == False and sign_check[1] == True: \n",
    "                sign = 'inhibition'\n",
    "            elif sign_check[0] == True and sign_check[1] == True:\n",
    "                sign = 'stimulation_and_inhibition'\n",
    "            else:\n",
    "                sign = 'unknown'\n",
    "            if regulators_list[reg][\"label\"] not in already_explored:\n",
    "                new_to_be_explored.append(regulators_list[reg][\"label\"])\n",
    "            # ID, name, sign and provenance\n",
    "            network_sif.append({\"source_id\":regulators_list[reg][\"name\"], \"source_name\":regulators_list[reg][\"label\"], \\\n",
    "                \"provenance\":list(regulators_list[reg][\"sources\"]), \"target_name\":gene, \"sign\":sign})\n",
    "    print(\"Depth explored \" + str(current_depth))\n",
    "    current_depth += 1\n",
    "    _upstream_signaling(pa, max_depth, new_to_be_explored, already_explored, current_depth, network_sif)\n",
    "    return network_sif\n",
    "\n",
    "\n",
    "def _print_to_csv(network, output_path):\n",
    "    \"\"\"\n",
    "    Param: network, path of output file\n",
    "    \"\"\"\n",
    "    # set headers\n",
    "    headers = (\"source_id,source_name,target_name,sign,provenance\\n\")\n",
    "    f = open(output_path, \"w+\")\n",
    "    f.write(headers)\n",
    "    f.close()\n",
    "    # write network\n",
    "    f = open(output_path + \"-temp\", \"w+\")\n",
    "    for e in network:\n",
    "        f.write(str(e['source_id']) + \",\")\n",
    "        f.write(e['source_name'] + \",\")\n",
    "        f.write(e['target_name'] + \",\")\n",
    "        f.write(e['sign'] + \",\")\n",
    "        f.write(str(' '.join(e['provenance'])) + \"\\n\")\n",
    "    f.close()\n",
    "    # remove duplicates\n",
    "    os.system(\"sort \" + output_path + \"-temp | uniq -c >> \" + output_path )\n",
    "    os.system(\"rm \" + output_path + \"-temp\")\n",
    "    print(\"Output file printed.\")\n"
   ]
  },
  {
   "cell_type": "markdown",
   "metadata": {},
   "source": [
    "## 2. Configuration"
   ]
  },
  {
   "cell_type": "code",
   "execution_count": 3,
   "metadata": {},
   "outputs": [],
   "source": [
    "MAX_DEPTH = 8\n",
    "INPUT_GENES = []\n",
    "inputfile_path = 'input-910.csv'\n",
    "outfile_path = 'md08-pypath_omnipathDB.csv'"
   ]
  },
  {
   "cell_type": "markdown",
   "metadata": {},
   "source": [
    "## 3. Read input file"
   ]
  },
  {
   "cell_type": "code",
   "execution_count": 4,
   "metadata": {},
   "outputs": [],
   "source": [
    "with open(inputfile_path, 'rt') as csvfile:\n",
    "    spamreader = csv.reader(csvfile, delimiter=',', quotechar='\"')\n",
    "    for row in spamreader:\n",
    "        INPUT_GENES.append(row[0])"
   ]
  },
  {
   "cell_type": "markdown",
   "metadata": {},
   "source": [
    "## 4. Main"
   ]
  },
  {
   "cell_type": "code",
   "execution_count": 5,
   "metadata": {},
   "outputs": [],
   "source": [
    "# Init pypath\n",
    "from pypath.legacy.main import PyPath\n",
    "pa = PyPath()"
   ]
  },
  {
   "cell_type": "code",
   "execution_count": 6,
   "metadata": {},
   "outputs": [
    {
     "name": "stdout",
     "output_type": "stream",
     "text": [
      "[2020-05-06 16:18:30] [network] `ramilowski_interactions`: Could not find file or dataio function or failed preprocessing.\n"
     ]
    }
   ],
   "source": [
    "# Load databases\n",
    "with curl.cache_off():\n",
    "   pa.load_resources(data_formats.pathway)"
   ]
  },
  {
   "cell_type": "code",
   "execution_count": 7,
   "metadata": {},
   "outputs": [
    {
     "name": "stdout",
     "output_type": "stream",
     "text": [
      "Exploration depth 0\n",
      "Depth explored 0\n",
      "Exploration depth 1\n",
      "Depth explored 1\n",
      "Exploration depth 2\n",
      "Depth explored 2\n",
      "Exploration depth 3\n",
      "Depth explored 3\n",
      "Exploration depth 4\n",
      "Depth explored 4\n",
      "Exploration depth 5\n",
      "Depth explored 5\n",
      "Exploration depth 6\n",
      "Depth explored 6\n",
      "Exploration depth 7\n",
      "Depth explored 7\n",
      "Exploring alted due to maximum depth\n",
      "--- Upstream signaling network in 59.92 seconds ---\n",
      "Output file printed.\n"
     ]
    }
   ],
   "source": [
    "start_time = time.time()\n",
    "network = _upstream_signaling(pa, MAX_DEPTH, INPUT_GENES)\n",
    "elapsed_time = round((time.time() - start_time), 2)\n",
    "print(\"--- Upstream signaling network in %s seconds ---\" % elapsed_time)\n",
    "_print_to_csv(network, outfile_path)"
   ]
  },
  {
   "cell_type": "code",
   "execution_count": null,
   "metadata": {},
   "outputs": [],
   "source": []
  }
 ],
 "metadata": {
  "celltoolbar": "Format de la Cellule Texte Brut",
  "kernelspec": {
   "display_name": "Python 3",
   "language": "python",
   "name": "python3"
  },
  "language_info": {
   "codemirror_mode": {
    "name": "ipython",
    "version": 3
   },
   "file_extension": ".py",
   "mimetype": "text/x-python",
   "name": "python",
   "nbconvert_exporter": "python",
   "pygments_lexer": "ipython3",
   "version": "3.7.6"
  }
 },
 "nbformat": 4,
 "nbformat_minor": 2
}
