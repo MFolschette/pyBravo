{
 "cells": [
  {
   "cell_type": "markdown",
   "metadata": {},
   "source": [
    "# Upstream regulation network reconstruction, with synonym expansion, and network unification (based on standard names)\n",
    "\n",
    "The following code defines the main parameter and data considered as input: \n",
    "- SPARQL_ENDPOINT : the main PathwayCommons (PC) SPARQL endpoint \n",
    "- CHUNKS_SIZE : the number of genes to be processed within each PC query\n",
    "- MAX_DEPTH : the maximum depth of exploration, can be null to explore the full regulation graph\n",
    "- DATA_SOURCES : used to limit the data source to be explored. Must be a list of values from : bind, biogrid, corum, ctd, dip, drugbank, hprd, humancyc, inoh, intact, kegg, mirtarbase, netpath, panther, pid, psp, reactome, reconx, smpdb, wp, intact_complex, msigdb. "
   ]
  },
  {
   "cell_type": "code",
   "execution_count": 1,
   "metadata": {},
   "outputs": [],
   "source": [
    "from typing import List, Any\n",
    "\n",
    "from IPython.display import display, Markdown, Latex\n",
    "from rdflib import Graph, RDF, RDFS, Namespace\n",
    "from SPARQLWrapper import SPARQLWrapper, JSON\n",
    "from string import Template\n",
    "\n",
    "import networkx as nx\n",
    "import matplotlib.pyplot as plt\n",
    "#from nxpd import draw\n",
    "\n",
    "import requests\n",
    "import json\n",
    "import io\n",
    "import time\n",
    "import csv\n",
    "\n",
    "#INPUT_GENES = ['JUN/FOS', 'SCN5A']\n",
    "INPUT_GENES = ['COL1A1']\n",
    "#INPUT_GENES = ['SCN5A', 'HEY2']\n",
    "\n",
    "SPARQL_ENDPOINT = \"http://rdf.pathwaycommons.org/sparql\"  # type: str\n",
    "CHUNKS_SIZE = 40  # type: int\n",
    "MAX_DEPTH = 5 # type: int\n",
    "SKIP_SMALL_MOLECULES = True # type: Boolean\n",
    "#DATA_SOURCES = ['pid', 'humancyc', 'panther', 'msigdb']\n",
    "DATA_SOURCES = []  # type: List[str]\n",
    "\n",
    "HAS_MAX_DEPTH = False\n",
    "try:\n",
    "  MAX_DEPTH\n",
    "except NameError:\n",
    "  HAS_MAX_DEPTH = False\n",
    "else:\n",
    "  HAS_MAX_DEPTH = True\n",
    "\n",
    "HAS_DATA_SOURCES = False\n",
    "try:\n",
    "  DATA_SOURCES\n",
    "except NameError:\n",
    "  HAS_DATA_SOURCES = False\n",
    "else:\n",
    "  HAS_DATA_SOURCES = True"
   ]
  },
  {
   "cell_type": "code",
   "execution_count": 2,
   "metadata": {},
   "outputs": [
    {
     "name": "stdout",
     "output_type": "stream",
     "text": [
      "--- Memory foot print cache ---\n",
      "index_syn size : 244398\n",
      "index_std size : 161611\n"
     ]
    }
   ],
   "source": [
    "#def init_gene_synonyms_cache():\n",
    "#    cache = []\n",
    "#    with open('Homo_sapiens.gene_info', newline='') as csvfile:\n",
    "#        reader = csv.reader(csvfile, delimiter='\\t', quotechar='|')\n",
    "#        for row in reader:\n",
    "#            entry = {'key':row[2], 'synonym':row[4].split('|')}\n",
    "#            cache.append(entry)\n",
    "#    return cache\n",
    "\n",
    "def init_gene_synonyms_cache():\n",
    "    index_syn = {}\n",
    "    index_std = {}\n",
    "    with open('Homo_sapiens.gene_info', newline='') as csvfile:\n",
    "        reader = csv.reader(csvfile, delimiter='\\t', quotechar='|')\n",
    "        for row in reader:\n",
    "            index_std[row[2]] = row[4].split('|')\n",
    "            \n",
    "            index_syn[row[2]] = row[2]\n",
    "            for syn in row[4].split('|'):\n",
    "                index_syn[syn] = row[2]\n",
    "    return index_std, index_syn\n",
    "\n",
    "#cache = init_gene_synonyms_cache()\n",
    "\n",
    "#print('--- Memory foot print cache v1 ---')\n",
    "#s = 0\n",
    "#for e in cache:\n",
    "#    s += 1 + len(e['synonym'])\n",
    "#print('Cache size : '+str(s))\n",
    "\n",
    "print('--- Memory foot print cache ---')\n",
    "index_std, index_syn = init_gene_synonyms_cache()\n",
    "print('index_syn size : ' + str(len(index_syn.keys()) * 2))\n",
    "s = 0\n",
    "for key, value in index_std.items():\n",
    "    s += 1 + len(value)\n",
    "print('index_std size : ' + str(s))"
   ]
  },
  {
   "cell_type": "code",
   "execution_count": 3,
   "metadata": {},
   "outputs": [
    {
     "name": "stdout",
     "output_type": "stream",
     "text": [
      "ABG has for synonyms: ['A1BG', 'A1B', 'GAB', 'HYST2477']\n",
      "ABG has for standard name: A1BG\n",
      "Time = 0.0003859996795654297\n",
      "A has for synonyms: []\n"
     ]
    }
   ],
   "source": [
    "def fast_get_std_name(n, index_syn):\n",
    "    return index_syn[n]\n",
    "\n",
    "def fast_get_synonyms(n, index_std, index_syn):\n",
    "    try:\n",
    "        std = index_syn[n]\n",
    "    except:\n",
    "        std = None\n",
    "    try:\n",
    "        synonyms = index_std[std]\n",
    "    except:\n",
    "        synonyms = []\n",
    "    \n",
    "    all_names = []\n",
    "    if std != None:    \n",
    "        all_names = [std] + synonyms\n",
    "    else:\n",
    "        all_names = synonyms\n",
    "    if n in all_names:\n",
    "        all_names.remove(n) \n",
    "    return all_names\n",
    "\n",
    "def fast_are_synonyms(n, m, index_syn):\n",
    "    try:\n",
    "        index_syn[n]\n",
    "    except:\n",
    "        return False\n",
    "    try:\n",
    "        index_syn[m]\n",
    "    except:\n",
    "        return False\n",
    "    return (index_syn[n] == index_syn[m])\n",
    "\n",
    "start = time.time()\n",
    "print('ABG has for synonyms: ' + str(fast_get_synonyms('ABG', index_std=index_std, index_syn=index_syn)))\n",
    "print('ABG has for standard name: ' + str(fast_get_std_name('ABG', index_syn=index_syn)))\n",
    "elapsed = time.time() - start\n",
    "print('Time = ' + str(elapsed))\n",
    "print('A has for synonyms: ' + str(fast_get_synonyms('A', index_std=index_std, index_syn=index_syn)))"
   ]
  },
  {
   "cell_type": "code",
   "execution_count": 4,
   "metadata": {},
   "outputs": [],
   "source": [
    "def expandGeneNames(toBeExplored):\n",
    "    expansion_suffixes = [' mRna', ' protein']\n",
    "    new_names = []\n",
    "    for gene in toBeExplored:\n",
    "        for suf in expansion_suffixes:\n",
    "            new_names.append(str(gene+suf))\n",
    "    return (toBeExplored+new_names)\n",
    "\n",
    "def removeSuffixForUnification(name):\n",
    "    expansion_suffixes = [' mRna', ' protein', ' mRNA', ' mutant form', ' complex', ' modified form']\n",
    "    for suf in expansion_suffixes:\n",
    "        if suf in name:\n",
    "            print('\\t\\t! removing suffix '+str(suf)+' for '+str(name))\n",
    "            name = name.replace(suf, '')\n",
    "    return name\n",
    "\n",
    "#print(INPUT_GENES)\n",
    "#print()\n",
    "#print(expandGeneNames(INPUT_GENES))\n",
    "#print(removeSuffixForUnification('SCN5A mRna'))\n",
    "#print(removeSuffixForUnification('SCN5A protein'))\n",
    "#print(removeSuffixForUnification('SCN5A mRna protein'))\n",
    "#print(removeSuffixForUnification('SCN5A'))"
   ]
  },
  {
   "cell_type": "markdown",
   "metadata": {},
   "source": [
    "# 1. Pathway Commons template SPARQL query\n",
    "The query will be post-processed to integrate filters on gene names `$filter_Chunks`, for skipping small molecules `$filter_SkipSmallMollecules`, and considering only a subset of data sources `$filter_DataSources`. "
   ]
  },
  {
   "cell_type": "code",
   "execution_count": 5,
   "metadata": {},
   "outputs": [],
   "source": [
    "tpl_select_reg_query = \"\"\"\n",
    "PREFIX bp: <http://www.biopax.org/release/biopax-level3.owl#>\n",
    "PREFIX rdf: <http://www.w3.org/1999/02/22-rdf-syntax-ns#>\n",
    "PREFIX xsd: <http://www.w3.org/2001/XMLSchema#> \n",
    "\n",
    "SELECT DISTINCT ?controllerName ?controlType ?controlledName ?ds WHERE {\n",
    "    $filter_Chunks\n",
    "    $filter_SkipSmallMollecules\n",
    "    $filter_DataSources\n",
    "    \n",
    "    {?participant bp:displayName ?controlledName .} UNION\n",
    "    {?participant bp:name ?controlledName .}\n",
    "    ?participant rdf:type ?controlledType . \n",
    "        \n",
    "    {?controller bp:displayName ?controllerName .} UNION\n",
    "    {?controller bp:name ?controllerName .}\n",
    "    ?controller rdf:type ?controllerType . \n",
    "    \n",
    "    ?controlled bp:participant ?participant .\n",
    "\n",
    "    ?tempReac a bp:TemplateReactionRegulation ; \n",
    "        bp:controlled ?controlled ; \n",
    "        bp:controller ?controller ; \n",
    "        bp:controlType ?controlType ; \n",
    "        bp:dataSource ?source . \n",
    "} \n",
    "\"\"\""
   ]
  },
  {
   "cell_type": "markdown",
   "metadata": {},
   "source": [
    "The query is based on the BioPax ontology. It aims at matching a graph pattern on the full Pathway Commons knowledge base. The following diagram shows variable graph nodes (dashed circles), fixed nodes (rectangle), and what we search for in red. "
   ]
  },
  {
   "cell_type": "code",
   "execution_count": 6,
   "metadata": {},
   "outputs": [
    {
     "data": {
      "image/png": "[encoded data removed]",
      "text/plain": [
       "<IPython.core.display.Image object>"
      ]
     },
     "execution_count": 6,
     "metadata": {},
     "output_type": "execute_result"
    }
   ],
   "source": [
    "from nxpd import draw\n",
    "bgp = nx.DiGraph()\n",
    "bgp.graph['dpi'] = 120\n",
    "\n",
    "bgp.add_node(\"?controllerName\", color=\"red\")\n",
    "bgp.add_node(\"?controlType\", color=\"red\")\n",
    "bgp.add_node(\"?controlledName\", color=\"red\")\n",
    "\n",
    "bgp.add_edge(\"?participant\", \"?controlledName\", label=\"displayName\")\n",
    "bgp.add_edge(\"?participant\", \"?controlledType\", label=\"is-a\")\n",
    "bgp.add_edge(\"?controller\", \"?controllerName\", label=\"displayName\")\n",
    "bgp.add_edge(\"?controller\", \"?controllerType\", label=\"is-a\")\n",
    "bgp.add_edge(\"?controlled\", \"?participant\", label=\"participant\")\n",
    "bgp.add_edge(\"?tempReac\", \"TemplateReactionRegulation\", label=\"is-a\")\n",
    "bgp.add_edge(\"?tempReac\", \"?controlled\", label=\"controlled\")\n",
    "bgp.add_edge(\"?tempReac\", \"?controller\", label=\"controller\")\n",
    "bgp.add_edge(\"?tempReac\", \"?controlType\", label=\"controlType\")\n",
    "bgp.add_edge(\"?tempReac\", \"?source\", label=\"dataSource\")\n",
    "for e in bgp.edges():\n",
    "    for i in range(0,2):\n",
    "        if \"?\" in e[i]:\n",
    "            bgp.add_node(e[i], style='dashed')\n",
    "        else: \n",
    "            bgp.add_node(e[i], shape='rectangle')\n",
    "    \n",
    "draw(bgp, show='ipynb')"
   ]
  },
  {
   "cell_type": "markdown",
   "metadata": {},
   "source": [
    "### Splitting a list of genes based on `CHUNKS_SIZE`"
   ]
  },
  {
   "cell_type": "code",
   "execution_count": 7,
   "metadata": {},
   "outputs": [],
   "source": [
    "def gen_chunks(list_of_genes):\n",
    "    \"\"\"\n",
    "    \"\"\"\n",
    "    chunks_list = []\n",
    "    chunk = []\n",
    "    cpt = 0\n",
    "    for gene in list_of_genes:\n",
    "        chunk.append(gene)\n",
    "        cpt += 1\n",
    "        if ((cpt % CHUNKS_SIZE) == 0):\n",
    "            chunks_list.append(chunk)\n",
    "            chunk = []\n",
    "    if (len(chunk) > 0):\n",
    "        chunks_list.append(chunk)\n",
    "    return chunks_list"
   ]
  },
  {
   "cell_type": "markdown",
   "metadata": {},
   "source": [
    "### Generation of a SPARQL Filter clause to restrict data sources\n",
    "Produces something like\n",
    "```\n",
    "FILTER (?source IN (<http://pathwaycommons.org/pc2/pid>, <http://pathwaycommons.org/pc2/humancyc>))\n",
    "```"
   ]
  },
  {
   "cell_type": "code",
   "execution_count": 8,
   "metadata": {},
   "outputs": [],
   "source": [
    "def gen_data_source_filter(data_sources):\n",
    "    \"\"\"\n",
    "    generates a SPARQL Filter clause aimed at \n",
    "    limiting the possible values of a ?source vairable\n",
    "    \"\"\"\n",
    "    filter_clause = ''\n",
    "    if len(data_sources) > 0 : \n",
    "        filter_clause = 'FILTER (?source IN ('\n",
    "        for ds in data_sources :\n",
    "            dsUri = '<http://pathwaycommons.org/pc2/' + ds.lower() + '>'\n",
    "            filter_clause = filter_clause + dsUri + ', '\n",
    "        k = filter_clause.rfind(\", \")\n",
    "        filter_clause = filter_clause[:k]\n",
    "        filter_clause = filter_clause + ')) .'\n",
    "    return filter_clause"
   ]
  },
  {
   "cell_type": "markdown",
   "metadata": {},
   "source": [
    "### Generation of a SPARQL Filter clause to restrict gene/protein/etc. names\n",
    "Produces something like\n",
    "```\n",
    "FILTER (\n",
    "    ((?controlledName = \"JUN\"^^xsd:string) && (?controllerName != \"JUN\"^^xsd:string))\n",
    "    || ((?controlledName = \"FOS\"^^xsd:string) && (?controllerName != \"FOS\"^^xsd:string))\n",
    "```"
   ]
  },
  {
   "cell_type": "code",
   "execution_count": 9,
   "metadata": {},
   "outputs": [],
   "source": [
    "def gen_chunks_filter(chunks):\n",
    "    \"\"\"\n",
    "    \"\"\"\n",
    "    filter_clause = ''\n",
    "    if len(chunks) > 0 : \n",
    "        filter_clause = 'FILTER ( \\n'\n",
    "        for g in chunks :\n",
    "            filter_clause += '((?controlledName = \"' + g + '\"^^xsd:string) && (?controllerName != \"' + g + '\"^^xsd:string)) \\n'\n",
    "            filter_clause +=' || '\n",
    "        k = filter_clause.rfind(\" || \")\n",
    "        filter_clause = filter_clause[:k]\n",
    "        filter_clause += ' ) .'\n",
    "    return filter_clause"
   ]
  },
  {
   "cell_type": "markdown",
   "metadata": {},
   "source": [
    "### OPTIMIZATION : FILTER -> VALUES"
   ]
  },
  {
   "cell_type": "code",
   "execution_count": 10,
   "metadata": {},
   "outputs": [],
   "source": [
    "def gen_chunks_values_constraint(chunks):\n",
    "    \"\"\"\n",
    "    Generation of a SPARQL VALUES clause to restrict gene/protein/etc. names\n",
    "    Produces something like\n",
    "        VALUES ?controlledName {\"hsa-miR-6079\"^^xsd:string \"hsa-miR-4452\"^^xsd:string \"hsa-miR-6512-5p\"^^xsd:string \"RBPJ\"^^xsd:string \"NICD\"^^xsd:string}\n",
    "    \"\"\"\n",
    "    filter_clause = ''\n",
    "    if len(chunks) > 0 :\n",
    "        filter_clause = 'VALUES ?controlledName { \\n'\n",
    "        for g in chunks :\n",
    "            filter_clause += '\"' + g + '\"^^xsd:string '\n",
    "        k = filter_clause.rfind(\" \")\n",
    "        filter_clause = filter_clause[:k]\n",
    "        filter_clause += ' } .'\n",
    "    return filter_clause"
   ]
  },
  {
   "cell_type": "markdown",
   "metadata": {},
   "source": [
    "### Generation of a SPARQL Filter clause to exclude small molecules\n",
    "Produces something like\n",
    "```\n",
    "FILTER( str(?controllerType) != \"http://www.biopax.org/release/biopax-level3.owl#SmallMolecule\")\n",
    "```"
   ]
  },
  {
   "cell_type": "code",
   "execution_count": 11,
   "metadata": {},
   "outputs": [],
   "source": [
    "def gen_small_mol_filter(skip_small_molecules = True):\n",
    "    if skip_small_molecules:\n",
    "        return 'FILTER( str(?controllerType) != \"http://www.biopax.org/release/biopax-level3.owl#SmallMolecule\")  .'\n",
    "    else:\n",
    "        return ''"
   ]
  },
  {
   "cell_type": "markdown",
   "metadata": {},
   "source": [
    "# 2. Upstream regulation algorithm\n",
    "Recursive exploration with two stopping criteria: \n",
    "- nothing new to explore\n",
    "- the maximum exploration depth is reached"
   ]
  },
  {
   "cell_type": "code",
   "execution_count": 12,
   "metadata": {},
   "outputs": [],
   "source": [
    "def upstream_regulation(to_be_explored, already_explored, sif_network, depth, explored_reg):\n",
    "    \"\"\"\n",
    "    \"\"\"\n",
    "    \n",
    "    \"\"\" 1st stopping criteria \"\"\"\n",
    "    if len(to_be_explored) == 0:\n",
    "        print(\"Exploring done\")\n",
    "        return sif_network\n",
    "    \n",
    "    \"\"\" 2nd stopping criteria \"\"\"\n",
    "    if (HAS_MAX_DEPTH and (depth >= MAX_DEPTH)):\n",
    "        print(\"Exploring alted due to maximum depth\")\n",
    "        return sif_network\n",
    "    \n",
    "    print()\n",
    "    print('exploration depth ' + str(depth))\n",
    "    print('to be explored ' + str(to_be_explored))\n",
    "    \n",
    "    \"\"\"\"\"\"\n",
    "    \"\"\" Decomposing protein complexes \"\"\"\n",
    "    \"\"\"\"\"\"\n",
    "    new_to_be_explored = []\n",
    "    for name in to_be_explored:\n",
    "        splits = name.split('/')\n",
    "        if len(splits) > 1 : \n",
    "            print(name + ' decomposed into ' + str(splits))\n",
    "            new_to_be_explored.extend(splits)\n",
    "            for s in splits:\n",
    "                sif_network.append({\"source\":s, \"relation\":\"PART_OF\", \"target\":name})\n",
    "    \n",
    "    for new in new_to_be_explored:\n",
    "        if new not in to_be_explored:\n",
    "                to_be_explored.append(new)\n",
    "    print('to be explored after complex decomposition ' + str(to_be_explored))\n",
    "    \n",
    "    \"\"\"\"\"\"\n",
    "    \"\"\" Expanding the list with synonyms \"\"\"\n",
    "    \"\"\"\"\"\"\n",
    "    new_to_be_explored = []\n",
    "    for name in to_be_explored:\n",
    "        synonyms = fast_get_synonyms(name, index_std=index_std, index_syn=index_syn)\n",
    "        for s in synonyms:\n",
    "            if s not in \"-\":\n",
    "                new_to_be_explored.append(s)\n",
    "    if len(new_to_be_explored) > 0:\n",
    "        print('new synonmys to be explored:' + str(new_to_be_explored))\n",
    "    for new in new_to_be_explored:\n",
    "        if new not in to_be_explored:\n",
    "                to_be_explored.append(new)\n",
    "\n",
    "    \"\"\"\"\"\"\n",
    "    \"\"\" Expanding the list with [' mRna', ' protein'] \"\"\"\n",
    "    \"\"\"\"\"\"\n",
    "    new_to_be_explored = expandGeneNames(to_be_explored)   \n",
    "    for new in new_to_be_explored:\n",
    "        if new not in to_be_explored:\n",
    "                to_be_explored.append(new)\n",
    "    \n",
    "    \"\"\"\"\"\"\n",
    "    \"\"\" Grouping genes into chunks to be processed remotely by block \"\"\"\n",
    "    \"\"\"\"\"\"\n",
    "    chunks = gen_chunks(to_be_explored)\n",
    "    to_be_explored = []\n",
    "    \n",
    "    \"\"\"\"\"\"\n",
    "    \"\"\" Network reconstruction \"\"\"\n",
    "    \"\"\"\"\"\"\n",
    "    for regulators in chunks :\n",
    "        print('exploring ' + str(regulators))\n",
    "        query = Template(tpl_select_reg_query)\n",
    "        \n",
    "        fds = gen_data_source_filter(DATA_SOURCES)\n",
    "        #fchunks = gen_chunks_filter(regulators)\n",
    "        fchunks = gen_chunks_values_constraint(regulators)\n",
    "        ssm = gen_small_mol_filter(SKIP_SMALL_MOLECULES)\n",
    "        \n",
    "        q = query.substitute(filter_DataSources = fds,\n",
    "                    filter_SkipSmallMollecules = ssm, \n",
    "                    filter_Chunks = fchunks)\n",
    "        \n",
    "#        print(\"=====================\")\n",
    "#        print(q)\n",
    "#        print(\"=====================\")\n",
    "        \n",
    "        sparql = SPARQLWrapper(SPARQL_ENDPOINT)\n",
    "        sparql.setQuery(q)\n",
    "        sparql.setReturnFormat(JSON)\n",
    "        results = sparql.query().convert()\n",
    "        \n",
    "        already_explored.extend(regulators)\n",
    "        #print('already explored ' + str(already_explored))\n",
    "        \n",
    "        for result in results[\"results\"][\"bindings\"]:\n",
    "            source, reg_type, target = result[\"controllerName\"][\"value\"], result[\"controlType\"][\"value\"], result[\"controlledName\"][\"value\"]\n",
    "            sif_network.append({\"source\":source, \"relation\":reg_type, \"target\":target})\n",
    "            #print(source + ' --- ' + reg_type + ' --> ' + target)\n",
    "            \n",
    "            source = removeSuffixForUnification(source)\n",
    "            target = removeSuffixForUnification(target)\n",
    "            \n",
    "            if source not in already_explored:\n",
    "                if source not in to_be_explored:\n",
    "                    to_be_explored.append(source)\n",
    "                    explored_reg += 1\n",
    "                    #print('Adding ' + source + ', in to_be_explored')\n",
    "            #else:\n",
    "                #print('skipping ' + source + ', already_explored')\n",
    "        \n",
    "        print()\n",
    "        print('Explored ' + str(explored_reg)+ ' regulators')\n",
    "        \n",
    "    depth += 1\n",
    "    upstream_regulation(to_be_explored, already_explored, sif_network, depth, explored_reg)\n",
    "    \n",
    "    return sif_network"
   ]
  },
  {
   "cell_type": "markdown",
   "metadata": {},
   "source": [
    "# 3. RUNNING the algorithm\n",
    "based on the `INPUT_GENES` list. "
   ]
  },
  {
   "cell_type": "code",
   "execution_count": 13,
   "metadata": {
    "scrolled": false
   },
   "outputs": [
    {
     "name": "stdout",
     "output_type": "stream",
     "text": [
      "\n",
      "exploration depth 0\n",
      "to be explored ['COL1A1']\n",
      "to be explored after complex decomposition ['COL1A1']\n",
      "new synonmys to be explored:['EDSARTH1', 'EDSC', 'OI1', 'OI2', 'OI3', 'OI4']\n",
      "exploring ['COL1A1', 'EDSARTH1', 'EDSC', 'OI1', 'OI2', 'OI3', 'OI4', 'COL1A1 mRna', 'COL1A1 protein', 'EDSARTH1 mRna', 'EDSARTH1 protein', 'EDSC mRna', 'EDSC protein', 'OI1 mRna', 'OI1 protein', 'OI2 mRna', 'OI2 protein', 'OI3 mRna', 'OI3 protein', 'OI4 mRna', 'OI4 protein']\n",
      "\n",
      "Explored 99 regulators\n",
      "\n",
      "exploration depth 1\n",
      "to be explored ['hsa-miR-143-3p', 'hsa-miR-29b-3p', 'hsa-miR-29c-3p', 'GTF3A', 'hsa-miR-7162-5p', 'hsa-miR-412-3p', 'STAT6 (dimer)', 'hsa-miR-4776-5p', 'hsa-miR-4800-5p', 'hsa-miR-3619-3p', 'hsa-miR-516b-3p', 'hsa-miR-516a-3p', 'hsa-miR-133a-3p', 'hsa-miR-124-3p', 'hsa-miR-4533', 'hsa-miR-4644', 'hsa-miR-4736', 'hsa-miR-5196-5p', 'hsa-miR-548ah-5p', 'hsa-miR-1249-5p', 'hsa-miR-1253', 'hsa-miR-3122', 'hsa-miR-6745', 'hsa-miR-6747-5p', 'hsa-miR-6752-5p', 'hsa-miR-6758-5p', 'hsa-miR-6880-5p', 'hsa-miR-7847-3p', 'hsa-miR-874-5p', 'hsa-miR-887-5p', 'hsa-miR-940', 'hsa-miR-1301-3p', 'hsa-miR-1587', 'hsa-miR-2278', 'hsa-miR-2392', 'hsa-miR-2467-3p', 'hsa-miR-3620-5p', 'hsa-miR-363-5p', 'hsa-miR-3665', 'hsa-miR-3911', 'hsa-miR-3913-5p', 'hsa-miR-4455', 'hsa-miR-4468', 'hsa-miR-4492', 'hsa-miR-4498', 'hsa-miR-450a-1-3p', 'hsa-miR-4524a-3p', 'hsa-miR-6829-5p', 'hsa-miR-6842-5p', 'hsa-miR-6847-5p', 'hsa-miR-6856-5p', 'hsa-miR-6893-5p', 'hsa-miR-6894-5p', 'hsa-miR-7106-5p', 'hsa-miR-7110-5p', 'hsa-miR-4741', 'hsa-miR-4747-5p', 'hsa-miR-4779', 'hsa-miR-6797-5p', 'hsa-miR-6804-5p', 'hsa-miR-6808-5p', 'hsa-miR-6814-5p', 'hsa-miR-6825-5p', 'hsa-miR-1827', 'hsa-miR-3150b-3p', 'hsa-miR-3605-5p', 'hsa-miR-3609', 'hsa-miR-4784', 'hsa-miR-4786-3p', 'hsa-miR-5001-5p', 'hsa-miR-5008-5p', 'hsa-miR-503-5p', 'hsa-miR-5047', 'hsa-miR-5091', 'hsa-miR-5192', 'hsa-miR-29b-1-5p', 'hsa-miR-185-5p', 'hsa-miR-129-5p', 'hsa-miR-1184', 'hsa-miR-3942-3p', 'hsa-miR-3978', 'hsa-miR-4251', 'hsa-miR-4257', 'hsa-miR-4306', 'hsa-miR-4324', 'hsa-miR-4433b-3p', 'hsa-miR-4656', 'hsa-miR-4660', 'hsa-miR-4675', 'hsa-miR-5699-5p', 'hsa-miR-5739', 'hsa-miR-6513-5p', 'hsa-miR-6515-5p', 'hsa-miR-6770-5p', 'hsa-miR-7114-5p', 'hsa-miR-7154-3p', 'hsa-miR-762', 'hsa-miR-765', 'hsa-miR-766-5p']\n",
      "to be explored after complex decomposition ['hsa-miR-143-3p', 'hsa-miR-29b-3p', 'hsa-miR-29c-3p', 'GTF3A', 'hsa-miR-7162-5p', 'hsa-miR-412-3p', 'STAT6 (dimer)', 'hsa-miR-4776-5p', 'hsa-miR-4800-5p', 'hsa-miR-3619-3p', 'hsa-miR-516b-3p', 'hsa-miR-516a-3p', 'hsa-miR-133a-3p', 'hsa-miR-124-3p', 'hsa-miR-4533', 'hsa-miR-4644', 'hsa-miR-4736', 'hsa-miR-5196-5p', 'hsa-miR-548ah-5p', 'hsa-miR-1249-5p', 'hsa-miR-1253', 'hsa-miR-3122', 'hsa-miR-6745', 'hsa-miR-6747-5p', 'hsa-miR-6752-5p', 'hsa-miR-6758-5p', 'hsa-miR-6880-5p', 'hsa-miR-7847-3p', 'hsa-miR-874-5p', 'hsa-miR-887-5p', 'hsa-miR-940', 'hsa-miR-1301-3p', 'hsa-miR-1587', 'hsa-miR-2278', 'hsa-miR-2392', 'hsa-miR-2467-3p', 'hsa-miR-3620-5p', 'hsa-miR-363-5p', 'hsa-miR-3665', 'hsa-miR-3911', 'hsa-miR-3913-5p', 'hsa-miR-4455', 'hsa-miR-4468', 'hsa-miR-4492', 'hsa-miR-4498', 'hsa-miR-450a-1-3p', 'hsa-miR-4524a-3p', 'hsa-miR-6829-5p', 'hsa-miR-6842-5p', 'hsa-miR-6847-5p', 'hsa-miR-6856-5p', 'hsa-miR-6893-5p', 'hsa-miR-6894-5p', 'hsa-miR-7106-5p', 'hsa-miR-7110-5p', 'hsa-miR-4741', 'hsa-miR-4747-5p', 'hsa-miR-4779', 'hsa-miR-6797-5p', 'hsa-miR-6804-5p', 'hsa-miR-6808-5p', 'hsa-miR-6814-5p', 'hsa-miR-6825-5p', 'hsa-miR-1827', 'hsa-miR-3150b-3p', 'hsa-miR-3605-5p', 'hsa-miR-3609', 'hsa-miR-4784', 'hsa-miR-4786-3p', 'hsa-miR-5001-5p', 'hsa-miR-5008-5p', 'hsa-miR-503-5p', 'hsa-miR-5047', 'hsa-miR-5091', 'hsa-miR-5192', 'hsa-miR-29b-1-5p', 'hsa-miR-185-5p', 'hsa-miR-129-5p', 'hsa-miR-1184', 'hsa-miR-3942-3p', 'hsa-miR-3978', 'hsa-miR-4251', 'hsa-miR-4257', 'hsa-miR-4306', 'hsa-miR-4324', 'hsa-miR-4433b-3p', 'hsa-miR-4656', 'hsa-miR-4660', 'hsa-miR-4675', 'hsa-miR-5699-5p', 'hsa-miR-5739', 'hsa-miR-6513-5p', 'hsa-miR-6515-5p', 'hsa-miR-6770-5p', 'hsa-miR-7114-5p', 'hsa-miR-7154-3p', 'hsa-miR-762', 'hsa-miR-765', 'hsa-miR-766-5p']\n",
      "new synonmys to be explored:['AP2', 'TFIIIA']\n",
      "exploring ['hsa-miR-143-3p', 'hsa-miR-29b-3p', 'hsa-miR-29c-3p', 'GTF3A', 'hsa-miR-7162-5p', 'hsa-miR-412-3p', 'STAT6 (dimer)', 'hsa-miR-4776-5p', 'hsa-miR-4800-5p', 'hsa-miR-3619-3p', 'hsa-miR-516b-3p', 'hsa-miR-516a-3p', 'hsa-miR-133a-3p', 'hsa-miR-124-3p', 'hsa-miR-4533', 'hsa-miR-4644', 'hsa-miR-4736', 'hsa-miR-5196-5p', 'hsa-miR-548ah-5p', 'hsa-miR-1249-5p', 'hsa-miR-1253', 'hsa-miR-3122', 'hsa-miR-6745', 'hsa-miR-6747-5p', 'hsa-miR-6752-5p', 'hsa-miR-6758-5p', 'hsa-miR-6880-5p', 'hsa-miR-7847-3p', 'hsa-miR-874-5p', 'hsa-miR-887-5p', 'hsa-miR-940', 'hsa-miR-1301-3p', 'hsa-miR-1587', 'hsa-miR-2278', 'hsa-miR-2392', 'hsa-miR-2467-3p', 'hsa-miR-3620-5p', 'hsa-miR-363-5p', 'hsa-miR-3665', 'hsa-miR-3911']\n",
      "\n",
      "Explored 99 regulators\n",
      "exploring ['hsa-miR-3913-5p', 'hsa-miR-4455', 'hsa-miR-4468', 'hsa-miR-4492', 'hsa-miR-4498', 'hsa-miR-450a-1-3p', 'hsa-miR-4524a-3p', 'hsa-miR-6829-5p', 'hsa-miR-6842-5p', 'hsa-miR-6847-5p', 'hsa-miR-6856-5p', 'hsa-miR-6893-5p', 'hsa-miR-6894-5p', 'hsa-miR-7106-5p', 'hsa-miR-7110-5p', 'hsa-miR-4741', 'hsa-miR-4747-5p', 'hsa-miR-4779', 'hsa-miR-6797-5p', 'hsa-miR-6804-5p', 'hsa-miR-6808-5p', 'hsa-miR-6814-5p', 'hsa-miR-6825-5p', 'hsa-miR-1827', 'hsa-miR-3150b-3p', 'hsa-miR-3605-5p', 'hsa-miR-3609', 'hsa-miR-4784', 'hsa-miR-4786-3p', 'hsa-miR-5001-5p', 'hsa-miR-5008-5p', 'hsa-miR-503-5p', 'hsa-miR-5047', 'hsa-miR-5091', 'hsa-miR-5192', 'hsa-miR-29b-1-5p', 'hsa-miR-185-5p', 'hsa-miR-129-5p', 'hsa-miR-1184', 'hsa-miR-3942-3p']\n",
      "\n",
      "Explored 99 regulators\n",
      "exploring ['hsa-miR-3978', 'hsa-miR-4251', 'hsa-miR-4257', 'hsa-miR-4306', 'hsa-miR-4324', 'hsa-miR-4433b-3p', 'hsa-miR-4656', 'hsa-miR-4660', 'hsa-miR-4675', 'hsa-miR-5699-5p', 'hsa-miR-5739', 'hsa-miR-6513-5p', 'hsa-miR-6515-5p', 'hsa-miR-6770-5p', 'hsa-miR-7114-5p', 'hsa-miR-7154-3p', 'hsa-miR-762', 'hsa-miR-765', 'hsa-miR-766-5p', 'AP2', 'TFIIIA', 'hsa-miR-143-3p mRna', 'hsa-miR-143-3p protein', 'hsa-miR-29b-3p mRna', 'hsa-miR-29b-3p protein', 'hsa-miR-29c-3p mRna', 'hsa-miR-29c-3p protein', 'GTF3A mRna', 'GTF3A protein', 'hsa-miR-7162-5p mRna', 'hsa-miR-7162-5p protein', 'hsa-miR-412-3p mRna', 'hsa-miR-412-3p protein', 'STAT6 (dimer) mRna', 'STAT6 (dimer) protein', 'hsa-miR-4776-5p mRna', 'hsa-miR-4776-5p protein', 'hsa-miR-4800-5p mRna', 'hsa-miR-4800-5p protein', 'hsa-miR-3619-3p mRna']\n",
      "\n",
      "Explored 99 regulators\n",
      "exploring ['hsa-miR-3619-3p protein', 'hsa-miR-516b-3p mRna', 'hsa-miR-516b-3p protein', 'hsa-miR-516a-3p mRna', 'hsa-miR-516a-3p protein', 'hsa-miR-133a-3p mRna', 'hsa-miR-133a-3p protein', 'hsa-miR-124-3p mRna', 'hsa-miR-124-3p protein', 'hsa-miR-4533 mRna', 'hsa-miR-4533 protein', 'hsa-miR-4644 mRna', 'hsa-miR-4644 protein', 'hsa-miR-4736 mRna', 'hsa-miR-4736 protein', 'hsa-miR-5196-5p mRna', 'hsa-miR-5196-5p protein', 'hsa-miR-548ah-5p mRna', 'hsa-miR-548ah-5p protein', 'hsa-miR-1249-5p mRna', 'hsa-miR-1249-5p protein', 'hsa-miR-1253 mRna', 'hsa-miR-1253 protein', 'hsa-miR-3122 mRna', 'hsa-miR-3122 protein', 'hsa-miR-6745 mRna', 'hsa-miR-6745 protein', 'hsa-miR-6747-5p mRna', 'hsa-miR-6747-5p protein', 'hsa-miR-6752-5p mRna', 'hsa-miR-6752-5p protein', 'hsa-miR-6758-5p mRna', 'hsa-miR-6758-5p protein', 'hsa-miR-6880-5p mRna', 'hsa-miR-6880-5p protein', 'hsa-miR-7847-3p mRna', 'hsa-miR-7847-3p protein', 'hsa-miR-874-5p mRna', 'hsa-miR-874-5p protein', 'hsa-miR-887-5p mRna']\n",
      "\n",
      "Explored 99 regulators\n",
      "exploring ['hsa-miR-887-5p protein', 'hsa-miR-940 mRna', 'hsa-miR-940 protein', 'hsa-miR-1301-3p mRna', 'hsa-miR-1301-3p protein', 'hsa-miR-1587 mRna', 'hsa-miR-1587 protein', 'hsa-miR-2278 mRna', 'hsa-miR-2278 protein', 'hsa-miR-2392 mRna', 'hsa-miR-2392 protein', 'hsa-miR-2467-3p mRna', 'hsa-miR-2467-3p protein', 'hsa-miR-3620-5p mRna', 'hsa-miR-3620-5p protein', 'hsa-miR-363-5p mRna', 'hsa-miR-363-5p protein', 'hsa-miR-3665 mRna', 'hsa-miR-3665 protein', 'hsa-miR-3911 mRna', 'hsa-miR-3911 protein', 'hsa-miR-3913-5p mRna', 'hsa-miR-3913-5p protein', 'hsa-miR-4455 mRna', 'hsa-miR-4455 protein', 'hsa-miR-4468 mRna', 'hsa-miR-4468 protein', 'hsa-miR-4492 mRna', 'hsa-miR-4492 protein', 'hsa-miR-4498 mRna', 'hsa-miR-4498 protein', 'hsa-miR-450a-1-3p mRna', 'hsa-miR-450a-1-3p protein', 'hsa-miR-4524a-3p mRna', 'hsa-miR-4524a-3p protein', 'hsa-miR-6829-5p mRna', 'hsa-miR-6829-5p protein', 'hsa-miR-6842-5p mRna', 'hsa-miR-6842-5p protein', 'hsa-miR-6847-5p mRna']\n"
     ]
    },
    {
     "name": "stdout",
     "output_type": "stream",
     "text": [
      "\n",
      "Explored 99 regulators\n",
      "exploring ['hsa-miR-6847-5p protein', 'hsa-miR-6856-5p mRna', 'hsa-miR-6856-5p protein', 'hsa-miR-6893-5p mRna', 'hsa-miR-6893-5p protein', 'hsa-miR-6894-5p mRna', 'hsa-miR-6894-5p protein', 'hsa-miR-7106-5p mRna', 'hsa-miR-7106-5p protein', 'hsa-miR-7110-5p mRna', 'hsa-miR-7110-5p protein', 'hsa-miR-4741 mRna', 'hsa-miR-4741 protein', 'hsa-miR-4747-5p mRna', 'hsa-miR-4747-5p protein', 'hsa-miR-4779 mRna', 'hsa-miR-4779 protein', 'hsa-miR-6797-5p mRna', 'hsa-miR-6797-5p protein', 'hsa-miR-6804-5p mRna', 'hsa-miR-6804-5p protein', 'hsa-miR-6808-5p mRna', 'hsa-miR-6808-5p protein', 'hsa-miR-6814-5p mRna', 'hsa-miR-6814-5p protein', 'hsa-miR-6825-5p mRna', 'hsa-miR-6825-5p protein', 'hsa-miR-1827 mRna', 'hsa-miR-1827 protein', 'hsa-miR-3150b-3p mRna', 'hsa-miR-3150b-3p protein', 'hsa-miR-3605-5p mRna', 'hsa-miR-3605-5p protein', 'hsa-miR-3609 mRna', 'hsa-miR-3609 protein', 'hsa-miR-4784 mRna', 'hsa-miR-4784 protein', 'hsa-miR-4786-3p mRna', 'hsa-miR-4786-3p protein', 'hsa-miR-5001-5p mRna']\n",
      "\n",
      "Explored 99 regulators\n",
      "exploring ['hsa-miR-5001-5p protein', 'hsa-miR-5008-5p mRna', 'hsa-miR-5008-5p protein', 'hsa-miR-503-5p mRna', 'hsa-miR-503-5p protein', 'hsa-miR-5047 mRna', 'hsa-miR-5047 protein', 'hsa-miR-5091 mRna', 'hsa-miR-5091 protein', 'hsa-miR-5192 mRna', 'hsa-miR-5192 protein', 'hsa-miR-29b-1-5p mRna', 'hsa-miR-29b-1-5p protein', 'hsa-miR-185-5p mRna', 'hsa-miR-185-5p protein', 'hsa-miR-129-5p mRna', 'hsa-miR-129-5p protein', 'hsa-miR-1184 mRna', 'hsa-miR-1184 protein', 'hsa-miR-3942-3p mRna', 'hsa-miR-3942-3p protein', 'hsa-miR-3978 mRna', 'hsa-miR-3978 protein', 'hsa-miR-4251 mRna', 'hsa-miR-4251 protein', 'hsa-miR-4257 mRna', 'hsa-miR-4257 protein', 'hsa-miR-4306 mRna', 'hsa-miR-4306 protein', 'hsa-miR-4324 mRna', 'hsa-miR-4324 protein', 'hsa-miR-4433b-3p mRna', 'hsa-miR-4433b-3p protein', 'hsa-miR-4656 mRna', 'hsa-miR-4656 protein', 'hsa-miR-4660 mRna', 'hsa-miR-4660 protein', 'hsa-miR-4675 mRna', 'hsa-miR-4675 protein', 'hsa-miR-5699-5p mRna']\n",
      "\n",
      "Explored 99 regulators\n",
      "exploring ['hsa-miR-5699-5p protein', 'hsa-miR-5739 mRna', 'hsa-miR-5739 protein', 'hsa-miR-6513-5p mRna', 'hsa-miR-6513-5p protein', 'hsa-miR-6515-5p mRna', 'hsa-miR-6515-5p protein', 'hsa-miR-6770-5p mRna', 'hsa-miR-6770-5p protein', 'hsa-miR-7114-5p mRna', 'hsa-miR-7114-5p protein', 'hsa-miR-7154-3p mRna', 'hsa-miR-7154-3p protein', 'hsa-miR-762 mRna', 'hsa-miR-762 protein', 'hsa-miR-765 mRna', 'hsa-miR-765 protein', 'hsa-miR-766-5p mRna', 'hsa-miR-766-5p protein', 'AP2 mRna', 'AP2 protein', 'TFIIIA mRna', 'TFIIIA protein']\n",
      "\n",
      "Explored 99 regulators\n",
      "Exploring done\n",
      "--- Upstream regulation network in 7.05 seconds ---\n",
      "Number of nodes = 100\n",
      "Number of edges = 99\n"
     ]
    }
   ],
   "source": [
    "start_time = time.time()\n",
    "\n",
    "reconstructed_network = upstream_regulation(INPUT_GENES, [], [], depth=0, explored_reg=0)\n",
    "\n",
    "elapsed_time = round((time.time() - start_time), 2)\n",
    "print(\"--- Upstream regulation network in %s seconds ---\" % elapsed_time)\n",
    "\n",
    "G = nx.DiGraph()\n",
    "for e in reconstructed_network:\n",
    "#    print(e['source'] + ' --- ' + e['regulation'] + ' --> ' + e['target'])\n",
    "    G.add_edge(e['source'], e['target'], \n",
    "               color = 'g' if (e['relation'] in 'ACTIVATION') else 'r',\n",
    "               label=e['relation'])\n",
    "\n",
    "print('Number of nodes = ' + str(len(G.nodes())))\n",
    "print('Number of edges = ' + str(len(G.edges())))"
   ]
  },
  {
   "cell_type": "code",
   "execution_count": null,
   "metadata": {},
   "outputs": [],
   "source": [
    "def read_input_genes(filename):\n",
    "    res = []\n",
    "    with open(filename, newline='') as csvfile:\n",
    "        reader = csv.reader(csvfile, delimiter=' ', quotechar='|')\n",
    "        for row in reader:\n",
    "            res.append(''.join(row))\n",
    "    return res\n",
    "\n",
    "input_genes = read_input_genes('/Users/gaignard-a/Documents/Dev/BRAvo/nathalie-TF.csv')"
   ]
  },
  {
   "cell_type": "code",
   "execution_count": null,
   "metadata": {},
   "outputs": [],
   "source": [
    "def write_to_SIF(graph, filename):\n",
    "    with open(filename, 'w', newline='') as csvfile:\n",
    "        sif_writer = csv.writer(csvfile, delimiter='\\t')\n",
    "        for e in G.edges(data='label'):\n",
    "            sif_writer.writerow([e[0], e[2], e[1]])\n",
    "    print('SIF network written to ' + filename)\n",
    "\n",
    "write_to_SIF(G, 'out.sif')\n"
   ]
  },
  {
   "cell_type": "code",
   "execution_count": null,
   "metadata": {},
   "outputs": [],
   "source": [
    "import operator\n",
    "centrality = nx.degree_centrality(G)\n",
    "#centrality = nx.closeness_centrality(G)\n",
    "#centrality = nx.betweenness_centrality(G)\n",
    "sorted_centrality = reversed(sorted(centrality.items(), key=operator.itemgetter(1)))\n",
    "sorted_centrality = list(sorted_centrality)\n",
    "cpt = 0\n",
    "md = \"\"\"\n",
    "| Gene | Degree Centrality |\n",
    "|------|------|\n",
    "\"\"\"\n",
    "for g in sorted_centrality:\n",
    "    md += \"| \" + g[0] + \" | \" + str(g[1]) + \" | \\n\"\n",
    "    cpt += 1\n",
    "    if cpt > 9:\n",
    "        break\n",
    "#print(md)\n",
    "display(Markdown(md))"
   ]
  },
  {
   "cell_type": "code",
   "execution_count": null,
   "metadata": {},
   "outputs": [],
   "source": [
    "edges = G.edges()\n",
    "colors = [G[u][v]['color'] for u,v in edges]\n",
    "\n",
    "nx.draw_spring(G, \n",
    "               with_labels=True, \n",
    "               edge_color = colors,\n",
    "               node_color = 'bisque',\n",
    "               font_weight='light', \n",
    "               node_size = 2000, \n",
    "               width = 2)\n",
    "plt.show()"
   ]
  },
  {
   "cell_type": "markdown",
   "metadata": {},
   "source": [
    "# 4. Synonym-based network simplification"
   ]
  },
  {
   "cell_type": "code",
   "execution_count": null,
   "metadata": {},
   "outputs": [],
   "source": [
    "def fast_reg_network_syn_simp(graph, index_syn):\n",
    "    H = graph.copy()\n",
    "    cpt = 0\n",
    "    nodes_size = len(H.nodes())\n",
    "    for n in H.nodes():    \n",
    "        #print('for each ' + str(n))\n",
    "        for m in H.nodes():\n",
    "            if n not in m:\n",
    "                #print('\\tfor each ' + str(m))\n",
    "                if (fast_are_synonyms(n,m, index_syn=index_syn)):\n",
    "                    key = index_syn[n]\n",
    "                    if n not in key:\n",
    "                        #print('\\t\\t' + str(n) + ' is synonym with ' + str(m))\n",
    "                        print('\\t\\t' + 'merging node ' + str(n) + ' into node ' + str(key))\n",
    "                        try:\n",
    "                            H = nx.contracted_nodes(H, key, n)\n",
    "                        except:\n",
    "                            continue\n",
    "                    if m not in key:\n",
    "                        print('\\t\\t' + 'merging node ' + str(m) + ' into node ' + str(key))\n",
    "                        try:\n",
    "                            H = nx.contracted_nodes(H, key, m)\n",
    "                        except:\n",
    "                            continue\n",
    "    return H"
   ]
  },
  {
   "cell_type": "code",
   "execution_count": null,
   "metadata": {
    "scrolled": false
   },
   "outputs": [],
   "source": [
    "start_time = time.time()\n",
    "G_prime = fast_reg_network_syn_simp(G, index_syn)\n",
    "elapsed_time = round((time.time() - start_time), 2)\n",
    "print(\"--- Network simplification in %s seconds ---\" % elapsed_time)\n",
    "\n",
    "write_to_SIF(G_prime, 'out_second.sif')\n",
    "print('Nodes after simplification = ' + str(len(G_prime.nodes())))\n",
    "print('Edges after simplification = ' + str(len(G_prime.edges())))"
   ]
  },
  {
   "cell_type": "code",
   "execution_count": null,
   "metadata": {},
   "outputs": [],
   "source": [
    "edges = G_prime.edges()\n",
    "colors = [G_prime[u][v]['color'] for u,v in edges]\n",
    "\n",
    "nx.draw_spring(G_prime, \n",
    "               with_labels=True, \n",
    "               edge_color = colors,\n",
    "               node_color = 'bisque',\n",
    "               font_weight='light', \n",
    "               node_size = 2000, \n",
    "               width = 2)\n",
    "plt.show()"
   ]
  }
 ],
 "metadata": {
  "kernelspec": {
   "display_name": "Python 3",
   "language": "python",
   "name": "python3"
  },
  "language_info": {
   "codemirror_mode": {
    "name": "ipython",
    "version": 3
   },
   "file_extension": ".py",
   "mimetype": "text/x-python",
   "name": "python",
   "nbconvert_exporter": "python",
   "pygments_lexer": "ipython3",
   "version": "3.5.4"
  }
 },
 "nbformat": 4,
 "nbformat_minor": 2
}
