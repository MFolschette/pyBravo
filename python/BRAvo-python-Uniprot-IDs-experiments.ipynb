{
 "cells": [
  {
   "cell_type": "markdown",
   "metadata": {},
   "source": [
    "# Load the 910 input genes"
   ]
  },
  {
   "cell_type": "code",
   "execution_count": 2,
   "metadata": {},
   "outputs": [],
   "source": [
    "import time\n",
    "import csv\n",
    "from IPython.display import display, Markdown, Latex\n",
    "import networkx as nx\n",
    "import bravo.regulation as regulation\n",
    "import bravo.signaling as signaling\n",
    "import bravo.config as config\n",
    "import bravo.util as util\n",
    "import pyBravo as bravo_main\n",
    "\n",
    "def read_input_genes(filename):\n",
    "    res = []\n",
    "    with open(filename, newline='') as csvfile:\n",
    "        reader = csv.reader(csvfile, delimiter=' ', quotechar='|')\n",
    "        for row in reader:\n",
    "            res.append(''.join(row))\n",
    "    return res\n",
    "\n",
    "#genes = read_input_genes('910-genes.csv')\n",
    "genes = ['SCN5A', 'SCN3A', 'HEY2']\n",
    "#print(genes)"
   ]
  },
  {
   "cell_type": "markdown",
   "metadata": {},
   "source": [
    "# bp:xref based search for Uniprot IDs"
   ]
  },
  {
   "cell_type": "code",
   "execution_count": 3,
   "metadata": {},
   "outputs": [
    {
     "data": {
      "application/vnd.jupyter.widget-view+json": {
       "model_id": "7c0122977044482f8c431900bdeb07e7",
       "version_major": 2,
       "version_minor": 0
      },
      "text/plain": [
       "IntProgress(value=0, max=3)"
      ]
     },
     "metadata": {},
     "output_type": "display_data"
    },
    {
     "name": "stdout",
     "output_type": "stream",
     "text": [
      "\n",
      "PREFIX bp: <http://www.biopax.org/release/biopax-level3.owl#>\n",
      "PREFIX rdf: <http://www.w3.org/1999/02/22-rdf-syntax-ns#>\n",
      "PREFIX xsd: <http://www.w3.org/2001/XMLSchema#>\n",
      "\n",
      "SELECT DISTINCT ?name ?xref ?id WHERE {\n",
      "\n",
      "    VALUES ?name { \n",
      "\"SCN5A\"^^xsd:string \"SCN3A\"^^xsd:string \"HEY2\"^^xsd:string } .\n",
      "\n",
      "    ?controller bp:displayName ?name .\n",
      "    ?controller bp:xref ?xref .\n",
      "    FILTER(regex(?xref,\"uniprot\"))\n",
      "    ?xref bp:id ?id .\n",
      "}\n",
      "\n",
      "3 gene names screened\n",
      "3 Uniprot ids retrieved\n",
      "\n",
      "\n",
      "{'SCN5A': 'P15389', 'HEY2': 'Q9UBP5', 'SCN3A': 'Q9NY46'}\n"
     ]
    }
   ],
   "source": [
    "from string import Template\n",
    "from SPARQLWrapper import SPARQLWrapper, JSON\n",
    "from ipywidgets import IntProgress\n",
    "from IPython.display import display\n",
    "\n",
    "f = IntProgress(min=0, max=len(genes)) # instantiate the bar\n",
    "display(f) # display the bar\n",
    "\n",
    "query_template = \"\"\"\n",
    "PREFIX bp: <http://www.biopax.org/release/biopax-level3.owl#>\n",
    "PREFIX rdf: <http://www.w3.org/1999/02/22-rdf-syntax-ns#>\n",
    "PREFIX xsd: <http://www.w3.org/2001/XMLSchema#>\n",
    "\n",
    "SELECT DISTINCT ?name ?xref ?id WHERE {\n",
    "\n",
    "    $inject_values\n",
    "\n",
    "    ?controller bp:displayName ?name .\n",
    "    ?controller bp:xref ?xref .\n",
    "    FILTER(regex(?xref,\"uniprot\"))\n",
    "    ?xref bp:id ?id .\n",
    "}\n",
    "\"\"\"\n",
    "\n",
    "genes_ids = {}\n",
    "\n",
    "chunks = util.gen_chunks(genes, miniSize=50)\n",
    "for i, chunk in enumerate(chunks):\n",
    "    #if i > 0:\n",
    "    #    break\n",
    "    #print(chunk)\n",
    "    values_constraint = util.gen_chunks_values_constraint(chunks=chunk, variable_name='?name')\n",
    "    \n",
    "    query = Template(query_template)\n",
    "    q = query.substitute(inject_values = values_constraint)\n",
    "    print(q)\n",
    "    \n",
    "    sparql = SPARQLWrapper('http://134.158.247.161/sparql/')\n",
    "    #sparql = SPARQLWrapper('http://rdf.pathwaycommons.org/sparql/')\n",
    "    sparql.setQuery(q)\n",
    "    sparql.setReturnFormat(JSON)\n",
    "    results = sparql.query().convert()\n",
    "    for result in results[\"results\"][\"bindings\"]:        \n",
    "        #print('{} {} {}'.format(result['name']['value'], result['xref']['value'], result['id']['value']))\n",
    "        genes_ids[result['name']['value']] = result['id']['value']\n",
    "        f.value += 1\n",
    "    f.value = (i+1)*50\n",
    "\n",
    "f.value = len(genes)\n",
    "\n",
    "print('{} gene names screened'.format(len(genes)))\n",
    "print('{} Uniprot ids retrieved'.format(len(genes_ids.keys())))\n",
    "print()        \n",
    "print()   \n",
    "\n",
    "print(genes_ids)\n",
    "    "
   ]
  },
  {
   "cell_type": "markdown",
   "metadata": {},
   "source": [
    "# bp:entityReference based search for Uniprot IDs"
   ]
  },
  {
   "cell_type": "code",
   "execution_count": 4,
   "metadata": {},
   "outputs": [
    {
     "data": {
      "application/vnd.jupyter.widget-view+json": {
       "model_id": "b77c7f48197f471e86f31f9f4890a758",
       "version_major": 2,
       "version_minor": 0
      },
      "text/plain": [
       "IntProgress(value=0, max=3)"
      ]
     },
     "metadata": {},
     "output_type": "display_data"
    },
    {
     "name": "stdout",
     "output_type": "stream",
     "text": [
      "3 gene names screened\n",
      "3 ids retrieved\n",
      "\n",
      "\n",
      "{'SCN5A': 'http://identifiers.org/ncbigene/6331', 'SCN3A': 'http://pathwaycommons.org/pc11/#RnaReference_13ab90a0df2718899257bb84f521ade4', 'HEY2': 'http://identifiers.org/ncbigene/23493'}\n"
     ]
    }
   ],
   "source": [
    "from string import Template\n",
    "from SPARQLWrapper import SPARQLWrapper, JSON\n",
    "from ipywidgets import IntProgress\n",
    "from IPython.display import display\n",
    "\n",
    "f = IntProgress(min=0, max=len(genes)) # instantiate the bar\n",
    "display(f) # display the bar\n",
    "\n",
    "query_template = \"\"\"\n",
    "PREFIX bp: <http://www.biopax.org/release/biopax-level3.owl#>\n",
    "PREFIX rdf: <http://www.w3.org/1999/02/22-rdf-syntax-ns#>\n",
    "PREFIX xsd: <http://www.w3.org/2001/XMLSchema#>\n",
    "\n",
    "SELECT DISTINCT ?name ?xref ?id WHERE {\n",
    "\n",
    "    $inject_values\n",
    "\n",
    "    ?controller bp:displayName ?name .\n",
    "    ?controller bp:entityReference ?id .\n",
    "}\n",
    "\"\"\"\n",
    "\n",
    "#l = \"a b c d e f g h i j k l m n o p q r s t u v w x y z\".split()\n",
    "\n",
    "genes_ids = {}\n",
    "\n",
    "chunks = util.gen_chunks(genes, miniSize=50)\n",
    "for i, chunk in enumerate(chunks):\n",
    "    #if i > 0:\n",
    "    #    break\n",
    "    #print(chunk)\n",
    "    values_constraint = util.gen_chunks_values_constraint(chunks=chunk, variable_name='?name')\n",
    "    \n",
    "    query = Template(query_template)\n",
    "    q = query.substitute(inject_values = values_constraint)\n",
    "#    print(q)\n",
    "    \n",
    "    sparql = SPARQLWrapper('http://134.158.247.161/sparql/')\n",
    "    #sparql = SPARQLWrapper('http://rdf.pathwaycommons.org/sparql/')\n",
    "    sparql.setQuery(q)\n",
    "    sparql.setReturnFormat(JSON)\n",
    "    results = sparql.query().convert()\n",
    "    for result in results[\"results\"][\"bindings\"]:        \n",
    "        #print('{} {} {}'.format(result['name']['value'], result['xref']['value'], result['id']['value']))\n",
    "        genes_ids[result['name']['value']] = result['id']['value']\n",
    "        f.value += 1\n",
    "    f.value = (i+1)*50\n",
    "\n",
    "f.value = len(genes)\n",
    "\n",
    "print('{} gene names screened'.format(len(genes)))\n",
    "print('{} ids retrieved'.format(len(genes_ids.keys())))\n",
    "print()        \n",
    "print()   \n",
    "\n",
    "print(genes_ids)\n",
    "    "
   ]
  },
  {
   "cell_type": "markdown",
   "metadata": {},
   "source": [
    "# ID-based search for regulators (level-1 neighbors)"
   ]
  },
  {
   "cell_type": "code",
   "execution_count": 10,
   "metadata": {
    "scrolled": true
   },
   "outputs": [
    {
     "name": "stdout",
     "output_type": "stream",
     "text": [
      "3 gene names screened\n",
      "10 controller ids retrieved\n",
      "\n",
      "{'SCN5A': 'http://identifiers.org/ncbigene/6331', 'SCN3A': 'http://pathwaycommons.org/pc11/#RnaReference_13ab90a0df2718899257bb84f521ade4', 'HEY2': 'http://identifiers.org/ncbigene/23493'}\n",
      "\n",
      "['http://identifiers.org/uniprot/P25490', 'http://identifiers.org/uniprot/P98177', 'http://identifiers.org/uniprot/P14921', 'http://identifiers.org/uniprot/P28069', 'http://identifiers.org/uniprot/P14859', 'http://identifiers.org/uniprot/Q9UJU2', 'http://identifiers.org/uniprot/Q99811', 'http://identifiers.org/uniprot/P43694', 'http://identifiers.org/uniprot/P15036', 'http://identifiers.org/uniprot/Q99697']\n",
      "CPU times: user 2.57 ms, sys: 1.08 ms, total: 3.65 ms\n",
      "Wall time: 131 ms\n"
     ]
    }
   ],
   "source": [
    "%%time\n",
    "\n",
    "def gen_IDs_values_constraint(chunks, variable_name):\n",
    "    \"\"\"\n",
    "    Generation of a SPARQL VALUES clause to restrict gene/protein/etc. names\n",
    "    Produces something like\n",
    "        VALUES ?controlledName {<hsa-miR-6079> <>}\n",
    "    \"\"\"\n",
    "    filter_clause = ''\n",
    "    if len(chunks) > 0 :\n",
    "        filter_clause = 'VALUES ' + variable_name + ' { \\n'\n",
    "        for g in chunks :\n",
    "            #print(g)\n",
    "            filter_clause += ' <' + g + '> \\n'\n",
    "        #filter_clause = filter_clause[:k]\n",
    "        filter_clause += ' } .'\n",
    "    return filter_clause\n",
    "\n",
    "regulation_query_template = \"\"\"\n",
    "PREFIX bp: <http://www.biopax.org/release/biopax-level3.owl#> \n",
    "PREFIX rdf: <http://www.w3.org/1999/02/22-rdf-syntax-ns#> \n",
    "PREFIX xsd: <http://www.w3.org/2001/XMLSchema#> \n",
    "\n",
    "SELECT DISTINCT ?controllerName ?controller_id ?controlType ?controlledName ?source WHERE {\n",
    "    \n",
    "    $inject_values\n",
    "    \n",
    "    ?participant bp:entityReference ?id .\n",
    "    ?participant bp:displayName ?controlledName . \n",
    "    ?participant rdf:type ?controlledType .  \n",
    "\n",
    "    ?controlled bp:participant ?participant . \n",
    "\n",
    "    ?tempReac a bp:TemplateReactionRegulation ; \n",
    "        bp:controlled ?controlled ; \n",
    "        bp:controller ?controller ;  \n",
    "        bp:dataSource/bp:displayName ?source . \n",
    "    \n",
    "    OPTIONAL {?tempReac bp:controlType ?controlType}\n",
    "    \n",
    "    ?controller bp:displayName ?controllerName . \n",
    "    ?controller rdf:type ?controllerType . \n",
    "    ?controller bp:entityReference ?controller_id .\n",
    "} \n",
    "\"\"\"\n",
    "\n",
    "uniprot_ids = [genes_ids[x] for x in genes_ids.keys()]\n",
    "#print(uniprot_to_be_explored)\n",
    "\n",
    "genes_controllers_ids = {}\n",
    "chunks = util.gen_chunks(uniprot_ids, miniSize=50)\n",
    "for i, chunk in enumerate(chunks):\n",
    "    #if i > 0:\n",
    "    #    break\n",
    "    #print(chunk)\n",
    "    values_constraint = gen_IDs_values_constraint(chunks=chunk, variable_name='?id')\n",
    "    #print(values_constraint)\n",
    "    query = Template(regulation_query_template)\n",
    "    q = query.substitute(inject_values = values_constraint)\n",
    "    #print()\n",
    "    #print(q)\n",
    "    \n",
    "    #sparql = SPARQLWrapper('http://134.158.247.161/sparql/')\n",
    "    #sparql = SPARQLWrapper('http://rdf.pathwaycommons.org/sparql/')\n",
    "    sparql.setQuery(q)\n",
    "    sparql.setReturnFormat(JSON)\n",
    "    results = sparql.query().convert()\n",
    "    for result in results[\"results\"][\"bindings\"]:        \n",
    "        #print('{} {} {}'.format(result['name']['value'], result['xref']['value'], result['id']['value']))\n",
    "        genes_controllers_ids[result['controllerName']['value']+'_controller'] = result['controller_id']['value']\n",
    "        f.value += 1\n",
    "    f.value = (i+1)*50\n",
    "\n",
    "f.value = len(genes)\n",
    "\n",
    "print('{} gene names screened'.format(len(genes)))\n",
    "print('{} controller ids retrieved'.format(len(genes_controllers_ids.keys())))\n",
    "print() \n",
    "\n",
    "print(genes_ids)\n",
    "print() \n",
    "print(list(genes_controllers_ids.values()))\n",
    "\n"
   ]
  },
  {
   "cell_type": "code",
   "execution_count": null,
   "metadata": {},
   "outputs": [],
   "source": []
  },
  {
   "cell_type": "code",
   "execution_count": null,
   "metadata": {},
   "outputs": [],
   "source": []
  },
  {
   "cell_type": "code",
   "execution_count": null,
   "metadata": {},
   "outputs": [],
   "source": []
  },
  {
   "cell_type": "code",
   "execution_count": null,
   "metadata": {},
   "outputs": [],
   "source": [
    "from concurrent.futures import ThreadPoolExecutor\n",
    "from time import sleep\n",
    " \n",
    "def return_after_5_secs(message):\n",
    "    sleep(5)\n",
    "    return message\n",
    " \n",
    "pool = ThreadPoolExecutor(3)\n",
    " \n",
    "future = pool.submit(return_after_5_secs, (\"hello\"))\n",
    "while not future.done():\n",
    "    sleep(0.8)\n",
    "    print(future.done())\n",
    "print(future.result())"
   ]
  },
  {
   "cell_type": "code",
   "execution_count": null,
   "metadata": {},
   "outputs": [],
   "source": [
    "from concurrent.futures import ThreadPoolExecutor, ProcessPoolExecutor, as_completed, FIRST_COMPLETED, ALL_COMPLETED\n",
    "from time import sleep\n",
    "from random import randint\n",
    "\n",
    "def return_after_5_secs(num):\n",
    "    sleep(randint(1, 2))\n",
    "    return \"Return of {}\".format(num)\n",
    " \n",
    "pool = ThreadPoolExecutor(5)\n",
    "#pool = ProcessPoolExecutor(5)\n",
    "futures = []\n",
    "for x in range(10):\n",
    "    futures.append(pool.submit(return_after_5_secs, x))\n",
    "    \n",
    "#for x in as_completed(futures):\n",
    "#    print(x.result())\n",
    "sleep(2)\n",
    "done, not_done = wait(futures, return_when=FIRST_COMPLETED)\n",
    "for i, f in enumerate(done): \n",
    "    print('First completed {} --> {}'.format(i,f.result()))"
   ]
  },
  {
   "cell_type": "markdown",
   "metadata": {},
   "source": [
    "# Upstream regulation network reconstruction\n",
    "\n",
    "The following lines of code specify that regulation will be expored at depth 3 (`config.MAX_DEPTH = 3`), on all datasources except *mirtarbase* (`config.DATA_SOURCES = set(ds) - set(['mirtarbase'])`), on a set of 3 genes `['SCN3A', 'SCN5A', 'HEY2']`. \n",
    "\n",
    "The regulation graph reconstruction is called with \n",
    "```\n",
    "reconstructed_network = regulation.upstream_regulation(gene_list, \n",
    "                                                       already_explored = [], \n",
    "                                                       sif_network = [], \n",
    "                                                       current_depth = 0, \n",
    "                                                       explored_reg = 0)\n",
    "```\n",
    "\n",
    "Parameters are set to default values to allow re-execution of this cell without side-effect of previous executions. "
   ]
  },
  {
   "cell_type": "code",
   "execution_count": null,
   "metadata": {
    "scrolled": true
   },
   "outputs": [],
   "source": [
    "start_time = time.time()\n",
    "\n",
    "# global options\n",
    "config.MAX_DEPTH = 3\n",
    "config.HAS_MAX_DEPTH = True\n",
    "config.FAST = True\n",
    "config.DECOMPOSE_COMPLEXES = True\n",
    "config.EXTEND_WITH_SYNONYMS = True\n",
    "config.EXTEND_WITH_SUFFIXES = True\n",
    "config.UNKNOWN = True\n",
    "config.VERBOSE = False\n",
    "\n",
    "\"\"\" all possible data sources \"\"\"\n",
    "ds = ['bind', 'biogrid', 'corum',\n",
    "                'ctd', 'dip', 'drugbank', 'hprd', 'humancyc', 'inoh',\n",
    "                'intact', 'kegg', 'mirtarbase', 'netpath', 'panther',\n",
    "                'pid', 'psp', 'reactome', 'reconx', 'smpdb', 'wp',\n",
    "                'intact_complex', 'msigdb']\n",
    "\n",
    "\"\"\" removing mirtarbase \"\"\"\n",
    "config.DATA_SOURCES = set(ds) - set(['mirtarbase'])\n",
    "\n",
    "\"\"\" specifiyng inputs \"\"\"\n",
    "gene_list = ['SCN3A', 'SCN5A', 'HEY2']\n",
    "#gene_list = read_input_genes('iLiverCancer1715.target')\n",
    "\n",
    "\"\"\" reconstruction call \"\"\"\n",
    "reconstructed_network = regulation.upstream_regulation(gene_list, \n",
    "                                                       already_explored = [], \n",
    "                                                       sif_network = [], \n",
    "                                                       current_depth = 0, \n",
    "                                                       explored_reg = 0)\n",
    "\n",
    "elapsed_time = round((time.time() - start_time), 2)\n",
    "\n",
    "print(\"--- Upstream regulation network in %s seconds ---\" % elapsed_time)"
   ]
  },
  {
   "cell_type": "markdown",
   "metadata": {},
   "source": [
    "## Metrics and SIF export of the regulation network"
   ]
  },
  {
   "cell_type": "code",
   "execution_count": null,
   "metadata": {
    "scrolled": false
   },
   "outputs": [],
   "source": [
    "G = bravo_main.build_nx_digraph(reconstructed_network)"
   ]
  },
  {
   "cell_type": "code",
   "execution_count": null,
   "metadata": {
    "scrolled": true
   },
   "outputs": [],
   "source": [
    "G_unified = util.fast_reg_network_unification(G, util.index_syn)\n",
    "print('Nodes after synonym-based unification = ' + str(len(G_unified.nodes())))\n",
    "print('Edges after synonym-based unification = ' + str(len(G_unified.edges())))"
   ]
  },
  {
   "cell_type": "code",
   "execution_count": null,
   "metadata": {
    "scrolled": true
   },
   "outputs": [],
   "source": [
    "md = bravo_main.get_centrality_as_md(G_unified)\n",
    "display(Markdown(md))"
   ]
  },
  {
   "cell_type": "code",
   "execution_count": null,
   "metadata": {},
   "outputs": [],
   "source": [
    "bravo_main.write_to_SIF(G_unified, 'tutorial-regulation.sif')\n",
    "bravo_main.write_provenance(G_unified, 'tutorial-regulation-prov.csv')"
   ]
  },
  {
   "cell_type": "markdown",
   "metadata": {},
   "source": [
    "---"
   ]
  },
  {
   "cell_type": "markdown",
   "metadata": {},
   "source": [
    "# Upstream signaling network reconstruction\n",
    "\n",
    "These lines would test the regulation network reconstruction on all data sources, and stop at depth 4.  \n",
    "```\n",
    "config.MAX_DEPTH = 4\n",
    "config.DATA_SOURCES = ['ctd', 'pid']\n",
    "```\n",
    "\n",
    "```\n",
    "reconstructed_network = bravo.upstream_signaling(['SCN5A', 'SCN3A', 'HEY2'], \n",
    "        already_explored = [], \n",
    "        sif_network = [], \n",
    "        current_depth = 0, \n",
    "        explored_reg = 0)\n",
    ")\n",
    "```\n"
   ]
  },
  {
   "cell_type": "code",
   "execution_count": null,
   "metadata": {
    "scrolled": true
   },
   "outputs": [],
   "source": [
    "start_time = time.time()\n",
    "\n",
    "# global options\n",
    "config.MAX_DEPTH = 4\n",
    "config.HAS_MAX_DEPTH = True\n",
    "config.DECOMPOSE_COMPLEXES = True\n",
    "config.EXTEND_WITH_SYNONYMS = True\n",
    "config.EXTEND_WITH_SUFFIXES = True\n",
    "config.FINE_GRAINED_SIGNALING_SIF = False\n",
    "config.FAST = True\n",
    "config.UNKNOWN = True\n",
    "config.VERBOSE = False\n",
    "\n",
    "\"\"\" all possible data sources \"\"\"\n",
    "ds = ['bind', 'biogrid', 'corum',\n",
    "                'ctd', 'dip', 'drugbank', 'hprd', 'humancyc', 'inoh',\n",
    "                'intact', 'kegg', 'mirtarbase', 'netpath', 'panther',\n",
    "                'pid', 'psp', 'reactome', 'reconx', 'smpdb', 'wp',\n",
    "                'intact_complex', 'msigdb']\n",
    "\n",
    "config.DATA_SOURCES = ds\n",
    "\n",
    "\"\"\" reconstruction call \"\"\"\n",
    "reconstructed_network = signaling.upstream_signaling(['SCN5A', 'SCN3A', 'HEY2'], \n",
    "                                                     already_explored = [], \n",
    "                                                     sif_network = [], \n",
    "                                                     current_depth = 0, \n",
    "                                                     explored_reg = 0)\n",
    "\n",
    "elapsed_time = round((time.time() - start_time), 2)\n",
    "print(\"--- Upstream signaling network assembled in %s seconds ---\" % elapsed_time)"
   ]
  },
  {
   "cell_type": "code",
   "execution_count": null,
   "metadata": {
    "scrolled": false
   },
   "outputs": [],
   "source": [
    "G = bravo_main.build_nx_digraph(reconstructed_network)"
   ]
  },
  {
   "cell_type": "code",
   "execution_count": null,
   "metadata": {
    "scrolled": true
   },
   "outputs": [],
   "source": [
    "G_unified = util.fast_reg_network_unification(G, util.index_syn)\n",
    "print('Nodes after synonym-based unification = ' + str(len(G_unified.nodes())))\n",
    "print('Edges after synonym-based unification = ' + str(len(G_unified.edges())))"
   ]
  },
  {
   "cell_type": "code",
   "execution_count": null,
   "metadata": {
    "scrolled": true
   },
   "outputs": [],
   "source": [
    "md = bravo_main.get_centrality_as_md(G_unified)\n",
    "display(Markdown(md))"
   ]
  },
  {
   "cell_type": "code",
   "execution_count": null,
   "metadata": {},
   "outputs": [],
   "source": [
    "bravo_main.write_to_SIF(G_unified, 'tutorial-signaling.sif')\n",
    "bravo_main.write_provenance(G_unified, 'tutorial-signaling-prov.csv')"
   ]
  },
  {
   "cell_type": "code",
   "execution_count": null,
   "metadata": {},
   "outputs": [],
   "source": []
  }
 ],
 "metadata": {
  "kernelspec": {
   "display_name": "Python 3",
   "language": "python",
   "name": "python3"
  },
  "language_info": {
   "codemirror_mode": {
    "name": "ipython",
    "version": 3
   },
   "file_extension": ".py",
   "mimetype": "text/x-python",
   "name": "python",
   "nbconvert_exporter": "python",
   "pygments_lexer": "ipython3",
   "version": "3.6.7"
  }
 },
 "nbformat": 4,
 "nbformat_minor": 2
}
