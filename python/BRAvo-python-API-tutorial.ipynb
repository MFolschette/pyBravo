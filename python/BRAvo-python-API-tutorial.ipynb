{
 "cells": [
  {
   "cell_type": "code",
   "execution_count": 1,
   "metadata": {},
   "outputs": [
    {
     "name": "stdout",
     "output_type": "stream",
     "text": [
      "--- Memory foot print cache ---\n",
      "index_syn size : 244398\n",
      "index_std size : 161611\n"
     ]
    }
   ],
   "source": [
    "import time\n",
    "from IPython.display import display, Markdown, Latex\n",
    "import networkx as nx\n",
    "import bravo.regulation as bravo\n",
    "import pyBravo as bravo_main"
   ]
  },
  {
   "cell_type": "markdown",
   "metadata": {},
   "source": [
    "## Upstream regulation network reconstruction\n",
    "Here is a sample call to the reconstruction algorithm. Two genes are specified as input. We only explore one level of regulation, for `pid`, `kegg`, `msigdb`, and `panther` data sources. \n",
    "\n",
    "To explore all regulation chains, you set the `max_depth` parameter to `None`. \n",
    "To explore all available data sources, you can set the `data_sources` parameter tp `[]`. \n",
    "\n",
    "That would lead to the following call: \n",
    "`reconstructed_network = bravo.upstream_regulation(['JUN/FOS', 'SCN5A'], max_depth=None, data_sources=[])`"
   ]
  },
  {
   "cell_type": "code",
   "execution_count": 2,
   "metadata": {
    "scrolled": true
   },
   "outputs": [
    {
     "name": "stdout",
     "output_type": "stream",
     "text": [
      "\n",
      "exploration depth 0\n",
      "to be explored ['HEY2', 'SCN5A']\n",
      "to be explored after complex decomposition ['HEY2', 'SCN5A']\n",
      "new synonmys to be explored:['CHF1', 'GRIDLOCK', 'GRL', 'HERP1', 'HESR2', 'HRT2', 'bHLHb32', 'CDCD2', 'CMD1E', 'CMPD2', 'HB1', 'HB2', 'HBBD', 'HH1', 'ICCD', 'IVF', 'LQT3', 'Nav1.5', 'PFHB1', 'SSS1', 'VF1']\n",
      "exploring ['HEY2', 'SCN5A', 'CHF1', 'GRIDLOCK', 'GRL', 'HERP1', 'HESR2', 'HRT2', 'bHLHb32', 'CDCD2', 'CMD1E', 'CMPD2', 'HB1', 'HB2', 'HBBD', 'HH1', 'ICCD', 'IVF', 'LQT3', 'Nav1.5', 'PFHB1', 'SSS1', 'VF1', 'HEY2 mRna', 'HEY2 protein', 'SCN5A mRna', 'SCN5A protein', 'CHF1 mRna', 'CHF1 protein', 'GRIDLOCK mRna', 'GRIDLOCK protein', 'GRL mRna', 'GRL protein', 'HERP1 mRna', 'HERP1 protein', 'HESR2 mRna', 'HESR2 protein', 'HRT2 mRna', 'HRT2 protein', 'bHLHb32 mRna']\n",
      "\n",
      "Explored 19 regulators\n",
      "exploring ['bHLHb32 protein', 'CDCD2 mRna', 'CDCD2 protein', 'CMD1E mRna', 'CMD1E protein', 'CMPD2 mRna', 'CMPD2 protein', 'HB1 mRna', 'HB1 protein', 'HB2 mRna', 'HB2 protein', 'HBBD mRna', 'HBBD protein', 'HH1 mRna', 'HH1 protein', 'ICCD mRna', 'ICCD protein', 'IVF mRna', 'IVF protein', 'LQT3 mRna', 'LQT3 protein', 'Nav1.5 mRna', 'Nav1.5 protein', 'PFHB1 mRna', 'PFHB1 protein', 'SSS1 mRna', 'SSS1 protein', 'VF1 mRna', 'VF1 protein']\n",
      "\n",
      "Explored 19 regulators\n",
      "\n",
      "exploration depth 1\n",
      "to be explored ['TCF3', 'ESRRA', 'MAZ', 'TAp73a (tetramer)', 'EGR3', 'REPIN1', 'ZEB1', 'RBPJ/NICD', 'LEF1', 'FOXJ2', 'JUN', 'MYOD1', 'PRRX2', 'EGR2', 'SP3', 'MYB', 'SF1', 'TFAP2C', 'TFAP2A']\n",
      "RBPJ/NICD decomposed into ['RBPJ', 'NICD']\n",
      "to be explored after complex decomposition ['TCF3', 'ESRRA', 'MAZ', 'TAp73a (tetramer)', 'EGR3', 'REPIN1', 'ZEB1', 'RBPJ/NICD', 'LEF1', 'FOXJ2', 'JUN', 'MYOD1', 'PRRX2', 'EGR2', 'SP3', 'MYB', 'SF1', 'TFAP2C', 'TFAP2A', 'RBPJ', 'NICD']\n",
      "new synonmys to be explored:['TCF7L1', 'TCF-3', 'ERR1', 'ERRa', 'ERRalpha', 'ESRL1', 'NR3B1', 'PUR1', 'Pur-1', 'SAF-1', 'SAF-2', 'SAF-3', 'ZF87', 'ZNF801', 'Zif87', 'EGR-3', 'PILOT', 'AP4', 'RIP60', 'ZNF464', 'Zfp464', 'AREB6', 'BZP', 'DELTAEF1', 'FECD6', 'NIL2A', 'PPCD3', 'TCF8', 'ZFHEP', 'ZFHX1A', 'LEF-1', 'TCF10', 'TCF1ALPHA', 'TCF7L3', 'FHX', 'AP-1', 'AP1', 'c-Jun', 'p39', 'MYF3', 'MYOD', 'PUM', 'bHLHc1', 'PMX2', 'PRX2', 'AT591', 'CMT1D', 'CMT4E', 'KROX20', 'SPR2', 'Cmyb', 'c-myb', 'c-myb_CDS', 'efg', 'BBP', 'D11S636', 'MBBP', 'ZCCHC25', 'ZFM1', 'ZNF162', 'AP2-GAMMA', 'ERF1', 'TFAP2G', 'hAP-2g', 'AP-2', 'AP-2alpha', 'AP2TF', 'BOFS', 'TFAP2', 'AOS3', 'CBF1', 'IGKJRB', 'IGKJRB1', 'KBF2', 'RBP-J', 'RBPJK', 'RBPSUH', 'SUH', 'csl']\n",
      "exploring ['TCF3', 'ESRRA', 'MAZ', 'TAp73a (tetramer)', 'EGR3', 'REPIN1', 'ZEB1', 'RBPJ/NICD', 'LEF1', 'FOXJ2', 'JUN', 'MYOD1', 'PRRX2', 'EGR2', 'SP3', 'MYB', 'SF1', 'TFAP2C', 'TFAP2A', 'RBPJ', 'NICD', 'TCF7L1', 'TCF-3', 'ERR1', 'ERRa', 'ERRalpha', 'ESRL1', 'NR3B1', 'PUR1', 'Pur-1', 'SAF-1', 'SAF-2', 'SAF-3', 'ZF87', 'ZNF801', 'Zif87', 'EGR-3', 'PILOT', 'AP4', 'RIP60']\n",
      "\n",
      "Explored 148 regulators\n",
      "exploring ['ZNF464', 'Zfp464', 'AREB6', 'BZP', 'DELTAEF1', 'FECD6', 'NIL2A', 'PPCD3', 'TCF8', 'ZFHEP', 'ZFHX1A', 'LEF-1', 'TCF10', 'TCF1ALPHA', 'TCF7L3', 'FHX', 'AP-1', 'AP1', 'c-Jun', 'p39', 'MYF3', 'MYOD', 'PUM', 'bHLHc1', 'PMX2', 'PRX2', 'AT591', 'CMT1D', 'CMT4E', 'KROX20', 'SPR2', 'Cmyb', 'c-myb', 'c-myb_CDS', 'efg', 'BBP', 'D11S636', 'MBBP', 'ZCCHC25', 'ZFM1']\n",
      "\n",
      "Explored 148 regulators\n",
      "exploring ['ZNF162', 'AP2-GAMMA', 'ERF1', 'TFAP2G', 'hAP-2g', 'AP-2', 'AP-2alpha', 'AP2TF', 'BOFS', 'TFAP2', 'AOS3', 'CBF1', 'IGKJRB', 'IGKJRB1', 'KBF2', 'RBP-J', 'RBPJK', 'RBPSUH', 'SUH', 'csl', 'TCF3 mRna', 'TCF3 protein', 'ESRRA mRna', 'ESRRA protein', 'MAZ mRna', 'MAZ protein', 'TAp73a (tetramer) mRna', 'TAp73a (tetramer) protein', 'EGR3 mRna', 'EGR3 protein', 'REPIN1 mRna', 'REPIN1 protein', 'ZEB1 mRna', 'ZEB1 protein', 'RBPJ/NICD mRna', 'RBPJ/NICD protein', 'LEF1 mRna', 'LEF1 protein', 'FOXJ2 mRna', 'FOXJ2 protein']\n",
      "\n",
      "Explored 148 regulators\n",
      "exploring ['JUN mRna', 'JUN protein', 'MYOD1 mRna', 'MYOD1 protein', 'PRRX2 mRna', 'PRRX2 protein', 'EGR2 mRna', 'EGR2 protein', 'SP3 mRna', 'SP3 protein', 'MYB mRna', 'MYB protein', 'SF1 mRna', 'SF1 protein', 'TFAP2C mRna', 'TFAP2C protein', 'TFAP2A mRna', 'TFAP2A protein', 'RBPJ mRna', 'RBPJ protein', 'NICD mRna', 'NICD protein', 'TCF7L1 mRna', 'TCF7L1 protein', 'TCF-3 mRna', 'TCF-3 protein', 'ERR1 mRna', 'ERR1 protein', 'ERRa mRna', 'ERRa protein', 'ERRalpha mRna', 'ERRalpha protein', 'ESRL1 mRna', 'ESRL1 protein', 'NR3B1 mRna', 'NR3B1 protein', 'PUR1 mRna', 'PUR1 protein', 'Pur-1 mRna', 'Pur-1 protein']\n",
      "\n",
      "Explored 148 regulators\n",
      "exploring ['SAF-1 mRna', 'SAF-1 protein', 'SAF-2 mRna', 'SAF-2 protein', 'SAF-3 mRna', 'SAF-3 protein', 'ZF87 mRna', 'ZF87 protein', 'ZNF801 mRna', 'ZNF801 protein', 'Zif87 mRna', 'Zif87 protein', 'EGR-3 mRna', 'EGR-3 protein', 'PILOT mRna', 'PILOT protein', 'AP4 mRna', 'AP4 protein', 'RIP60 mRna', 'RIP60 protein', 'ZNF464 mRna', 'ZNF464 protein', 'Zfp464 mRna', 'Zfp464 protein', 'AREB6 mRna', 'AREB6 protein', 'BZP mRna', 'BZP protein', 'DELTAEF1 mRna', 'DELTAEF1 protein', 'FECD6 mRna', 'FECD6 protein', 'NIL2A mRna', 'NIL2A protein', 'PPCD3 mRna', 'PPCD3 protein', 'TCF8 mRna', 'TCF8 protein', 'ZFHEP mRna', 'ZFHEP protein']\n",
      "\n",
      "Explored 148 regulators\n",
      "exploring ['ZFHX1A mRna', 'ZFHX1A protein', 'LEF-1 mRna', 'LEF-1 protein', 'TCF10 mRna', 'TCF10 protein', 'TCF1ALPHA mRna', 'TCF1ALPHA protein', 'TCF7L3 mRna', 'TCF7L3 protein', 'FHX mRna', 'FHX protein', 'AP-1 mRna', 'AP-1 protein', 'AP1 mRna', 'AP1 protein', 'c-Jun mRna', 'c-Jun protein', 'p39 mRna', 'p39 protein', 'MYF3 mRna', 'MYF3 protein', 'MYOD mRna', 'MYOD protein', 'PUM mRna', 'PUM protein', 'bHLHc1 mRna', 'bHLHc1 protein', 'PMX2 mRna', 'PMX2 protein', 'PRX2 mRna', 'PRX2 protein', 'AT591 mRna', 'AT591 protein', 'CMT1D mRna', 'CMT1D protein', 'CMT4E mRna', 'CMT4E protein', 'KROX20 mRna', 'KROX20 protein']\n",
      "\n",
      "Explored 148 regulators\n",
      "exploring ['SPR2 mRna', 'SPR2 protein', 'Cmyb mRna', 'Cmyb protein', 'c-myb mRna', 'c-myb protein', 'c-myb_CDS mRna', 'c-myb_CDS protein', 'efg mRna', 'efg protein', 'BBP mRna', 'BBP protein', 'D11S636 mRna', 'D11S636 protein', 'MBBP mRna', 'MBBP protein', 'ZCCHC25 mRna', 'ZCCHC25 protein', 'ZFM1 mRna', 'ZFM1 protein', 'ZNF162 mRna', 'ZNF162 protein', 'AP2-GAMMA mRna', 'AP2-GAMMA protein', 'ERF1 mRna', 'ERF1 protein', 'TFAP2G mRna', 'TFAP2G protein', 'hAP-2g mRna', 'hAP-2g protein', 'AP-2 mRna', 'AP-2 protein', 'AP-2alpha mRna', 'AP-2alpha protein', 'AP2TF mRna', 'AP2TF protein', 'BOFS mRna', 'BOFS protein', 'TFAP2 mRna', 'TFAP2 protein']\n",
      "\n",
      "Explored 148 regulators\n",
      "exploring ['AOS3 mRna', 'AOS3 protein', 'CBF1 mRna', 'CBF1 protein', 'IGKJRB mRna', 'IGKJRB protein', 'IGKJRB1 mRna', 'IGKJRB1 protein', 'KBF2 mRna', 'KBF2 protein', 'RBP-J mRna', 'RBP-J protein', 'RBPJK mRna', 'RBPJK protein', 'RBPSUH mRna', 'RBPSUH protein', 'SUH mRna', 'SUH protein', 'csl mRna', 'csl protein']\n",
      "\n",
      "Explored 148 regulators\n",
      "Exploring alted due to maximum depth\n",
      "--- Upstream regulation network in 22.11 seconds ---\n"
     ]
    }
   ],
   "source": [
    "start_time = time.time()\n",
    "\n",
    "bravo.DECOMPOSE_COMPLEXES = True\n",
    "bravo.EXTEND_WITH_SYNONYMS = True\n",
    "bravo.EXTEND_WITH_SUFFIXES = True\n",
    "\n",
    "reconstructed_network = bravo.upstream_regulation(['HEY2', 'SCN5A'], \n",
    "                                                  max_depth=2, \n",
    "                                                  data_sources=['pid', 'kegg', 'msigdb', 'panther'])\n",
    "elapsed_time = round((time.time() - start_time), 2)\n",
    "\n",
    "print(\"--- Upstream regulation network in %s seconds ---\" % elapsed_time)"
   ]
  },
  {
   "cell_type": "code",
   "execution_count": 3,
   "metadata": {
    "scrolled": false
   },
   "outputs": [
    {
     "name": "stdout",
     "output_type": "stream",
     "text": [
      "Number of nodes = 153\n",
      "Number of edges = 337\n"
     ]
    }
   ],
   "source": [
    "G = bravo_main.build_nx_digraph(reconstructed_network)"
   ]
  },
  {
   "cell_type": "code",
   "execution_count": 4,
   "metadata": {
    "scrolled": false
   },
   "outputs": [
    {
     "data": {
      "text/markdown": [
       "\n",
       "| Gene | Degree Centrality |\n",
       "|------|------|\n",
       "| EGR2 | 0.316 | \n",
       "| EGR3 | 0.257 | \n",
       "| ESRRA | 0.211 | \n",
       "| MAZ | 0.191 | \n",
       "| LEF1 | 0.184 | \n",
       "| JUN | 0.171 | \n",
       "| MYB | 0.158 | \n",
       "| ZEB1 | 0.138 | \n",
       "| SP3 | 0.132 | \n",
       "| RBPJ | 0.118 | \n"
      ],
      "text/plain": [
       "<IPython.core.display.Markdown object>"
      ]
     },
     "metadata": {},
     "output_type": "display_data"
    }
   ],
   "source": [
    "md = bravo_main.get_centrality_as_md(G)\n",
    "display(Markdown(md))"
   ]
  },
  {
   "cell_type": "code",
   "execution_count": 5,
   "metadata": {},
   "outputs": [
    {
     "name": "stdout",
     "output_type": "stream",
     "text": [
      "SIF network written to tutorial.sif\n",
      "Basic regulation reaction provenance written to tutorial-prov.csv\n"
     ]
    }
   ],
   "source": [
    "bravo_main.write_to_SIF(G, 'tutorial.sif')\n",
    "bravo_main.write_provenance(G, 'tutorial-prov.csv')"
   ]
  },
  {
   "cell_type": "code",
   "execution_count": null,
   "metadata": {},
   "outputs": [],
   "source": []
  }
 ],
 "metadata": {
  "kernelspec": {
   "display_name": "Python 3",
   "language": "python",
   "name": "python3"
  },
  "language_info": {
   "codemirror_mode": {
    "name": "ipython",
    "version": 3
   },
   "file_extension": ".py",
   "mimetype": "text/x-python",
   "name": "python",
   "nbconvert_exporter": "python",
   "pygments_lexer": "ipython3",
   "version": "3.5.4"
  }
 },
 "nbformat": 4,
 "nbformat_minor": 2
}
