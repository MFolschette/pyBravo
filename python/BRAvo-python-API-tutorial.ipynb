{
 "cells": [
  {
   "cell_type": "code",
   "execution_count": 1,
   "metadata": {},
   "outputs": [],
   "source": [
    "import time\n",
    "from IPython.display import display, Markdown, Latex\n",
    "import networkx as nx\n",
    "import bravo.regulation as bravo\n",
    "import main as bravo_main"
   ]
  },
  {
   "cell_type": "markdown",
   "metadata": {},
   "source": [
    "## Upstream regulation network reconstruction\n",
    "Here is a sample call to the reconstruction algorithm. Two genes are specified as input. We only explore one level of regulation, for `pid`, `kegg`, `msigdb`, and `panther` data sources. \n",
    "\n",
    "To explore all regulation chains, you set the `max_depth` parameter to `None`. \n",
    "To explore all available data sources, you can set the `data_sources` parameter tp `[]`. \n",
    "\n",
    "That would lead to the following call: \n",
    "`reconstructed_network = bravo.upstream_regulation(['JUN/FOS', 'SCN5A'], max_depth=None, data_sources=[])`"
   ]
  },
  {
   "cell_type": "code",
   "execution_count": 2,
   "metadata": {
    "scrolled": true
   },
   "outputs": [
    {
     "name": "stdout",
     "output_type": "stream",
     "text": [
      "\n",
      "exploration depth 0\n",
      "to be explored ['JUN/FOS', 'SCN5A']\n",
      "JUN/FOS decomposed into ['JUN', 'FOS']\n",
      "to be explored after complex decomposition ['JUN/FOS', 'SCN5A', 'JUN', 'FOS']\n",
      "exploring ['JUN/FOS', 'SCN5A', 'JUN', 'FOS']\n",
      "\n",
      "\n",
      "exploration depth 1\n",
      "to be explored ['MAZ', 'POU3F2', 'CREB1', 'CEBPA', 'SPZ1', 'ICER', 'TCF3', 'ATF3', 'ERK1-2/ELK1', 'FOXM1C', 'ESRRA', 'SRF', 'MYOD1', 'SRF(dimer)/MAL(dimer)', 'JUN/ATF2', 'MEIS1', 'EGR3', 'ERK1-2-active', 'STAT5 (dimer)-active', 'p300', 'ATF2', 'REPIN1', 'ZEB1', 'GATA1', 'LEF1', 'ELK1/SRF', 'Calcineurin A alpha-beta B1', 'AP1', 'SMAD3/SMAD4/JUN/FOS', 'RHOA/GTP', 'TCR/CD3/MHC II/CD4', 'IL12/IL12R/TYK2/JAK2', 'JDP2', 'Jnk1', 'ATF2/c-Jun', 'ELK1', 'JNK1-2-active', 'ATF1', 'NRF1', 'PAX2', 'TBP', 'ATF4', 'YY1', 'FOXF2', 'HSF2', 'STAT5B', 'PAX4', 'SP1', 'STAT5A', 'EGR2', 'MTF1', 'SP3', 'HSF1', 'FOXN1', 'MYB', 'ALX4', 'SF1', 'TFAP2C', 'TFAP2A', 'POU2F1', 'HNF1A', 'CEBPD', 'IRF7']\n",
      "ERK1-2/ELK1 decomposed into ['ERK1-2', 'ELK1']\n",
      "SRF(dimer)/MAL(dimer) decomposed into ['SRF(dimer)', 'MAL(dimer)']\n",
      "JUN/ATF2 decomposed into ['JUN', 'ATF2']\n",
      "ELK1/SRF decomposed into ['ELK1', 'SRF']\n",
      "SMAD3/SMAD4/JUN/FOS decomposed into ['SMAD3', 'SMAD4', 'JUN', 'FOS']\n",
      "RHOA/GTP decomposed into ['RHOA', 'GTP']\n",
      "TCR/CD3/MHC II/CD4 decomposed into ['TCR', 'CD3', 'MHC II', 'CD4']\n",
      "IL12/IL12R/TYK2/JAK2 decomposed into ['IL12', 'IL12R', 'TYK2', 'JAK2']\n",
      "ATF2/c-Jun decomposed into ['ATF2', 'c-Jun']\n",
      "to be explored after complex decomposition ['MAZ', 'POU3F2', 'CREB1', 'CEBPA', 'SPZ1', 'ICER', 'TCF3', 'ATF3', 'ERK1-2/ELK1', 'FOXM1C', 'ESRRA', 'SRF', 'MYOD1', 'SRF(dimer)/MAL(dimer)', 'JUN/ATF2', 'MEIS1', 'EGR3', 'ERK1-2-active', 'STAT5 (dimer)-active', 'p300', 'ATF2', 'REPIN1', 'ZEB1', 'GATA1', 'LEF1', 'ELK1/SRF', 'Calcineurin A alpha-beta B1', 'AP1', 'SMAD3/SMAD4/JUN/FOS', 'RHOA/GTP', 'TCR/CD3/MHC II/CD4', 'IL12/IL12R/TYK2/JAK2', 'JDP2', 'Jnk1', 'ATF2/c-Jun', 'ELK1', 'JNK1-2-active', 'ATF1', 'NRF1', 'PAX2', 'TBP', 'ATF4', 'YY1', 'FOXF2', 'HSF2', 'STAT5B', 'PAX4', 'SP1', 'STAT5A', 'EGR2', 'MTF1', 'SP3', 'HSF1', 'FOXN1', 'MYB', 'ALX4', 'SF1', 'TFAP2C', 'TFAP2A', 'POU2F1', 'HNF1A', 'CEBPD', 'IRF7', 'ERK1-2', 'SRF(dimer)', 'MAL(dimer)', 'JUN', 'SMAD3', 'SMAD4', 'FOS', 'RHOA', 'GTP', 'TCR', 'CD3', 'MHC II', 'CD4', 'IL12', 'IL12R', 'TYK2', 'JAK2', 'c-Jun']\n",
      "exploring ['MAZ', 'POU3F2', 'CREB1', 'CEBPA', 'SPZ1', 'ICER', 'TCF3', 'ATF3', 'ERK1-2/ELK1', 'FOXM1C', 'ESRRA', 'SRF', 'MYOD1', 'SRF(dimer)/MAL(dimer)', 'JUN/ATF2', 'MEIS1', 'EGR3', 'ERK1-2-active', 'STAT5 (dimer)-active', 'p300', 'ATF2', 'REPIN1', 'ZEB1', 'GATA1', 'LEF1', 'ELK1/SRF', 'Calcineurin A alpha-beta B1', 'AP1', 'SMAD3/SMAD4/JUN/FOS', 'RHOA/GTP']\n",
      "\n",
      "exploring ['TCR/CD3/MHC II/CD4', 'IL12/IL12R/TYK2/JAK2', 'JDP2', 'Jnk1', 'ATF2/c-Jun', 'ELK1', 'JNK1-2-active', 'ATF1', 'NRF1', 'PAX2', 'TBP', 'ATF4', 'YY1', 'FOXF2', 'HSF2', 'STAT5B', 'PAX4', 'SP1', 'STAT5A', 'EGR2', 'MTF1', 'SP3', 'HSF1', 'FOXN1', 'MYB', 'ALX4', 'SF1', 'TFAP2C', 'TFAP2A', 'POU2F1']\n",
      "\n",
      "exploring ['HNF1A', 'CEBPD', 'IRF7', 'ERK1-2', 'SRF(dimer)', 'MAL(dimer)', 'JUN', 'SMAD3', 'SMAD4', 'FOS', 'RHOA', 'GTP', 'TCR', 'CD3', 'MHC II', 'CD4', 'IL12', 'IL12R', 'TYK2', 'JAK2', 'c-Jun']\n",
      "\n",
      "Exploring alted due to maximum depth\n",
      "--- Upstream regulation network in 8.82 seconds ---\n"
     ]
    }
   ],
   "source": [
    "start_time = time.time()\n",
    "reconstructed_network = bravo.upstream_regulation(['JUN/FOS', 'SCN5A'], \n",
    "                                                  max_depth=2, \n",
    "                                                  data_sources=['pid', 'kegg', 'msigdb', 'panther'])\n",
    "elapsed_time = round((time.time() - start_time), 2)\n",
    "\n",
    "print(\"--- Upstream regulation network in %s seconds ---\" % elapsed_time)"
   ]
  },
  {
   "cell_type": "code",
   "execution_count": 3,
   "metadata": {
    "scrolled": false
   },
   "outputs": [
    {
     "name": "stdout",
     "output_type": "stream",
     "text": [
      "Number of nodes = 236\n",
      "Number of edges = 793\n"
     ]
    }
   ],
   "source": [
    "G = bravo_main.build_nx_digraph(reconstructed_network)"
   ]
  },
  {
   "cell_type": "code",
   "execution_count": 4,
   "metadata": {
    "scrolled": false
   },
   "outputs": [
    {
     "data": {
      "text/markdown": [
       "\n",
       "| Gene | Degree Centrality |\n",
       "|------|------|\n",
       "| POU2F1 | 0.23 | \n",
       "| EGR2 | 0.209 | \n",
       "| FOS | 0.191 | \n",
       "| PAX2 | 0.183 | \n",
       "| MAZ | 0.174 | \n",
       "| EGR3 | 0.166 | \n",
       "| HNF1A | 0.157 | \n",
       "| ESRRA | 0.149 | \n",
       "| MEIS1 | 0.149 | \n",
       "| JUN | 0.145 | \n"
      ],
      "text/plain": [
       "<IPython.core.display.Markdown object>"
      ]
     },
     "metadata": {},
     "output_type": "display_data"
    }
   ],
   "source": [
    "md = bravo_main.get_centrality_as_md(G)\n",
    "display(Markdown(md))"
   ]
  },
  {
   "cell_type": "code",
   "execution_count": 5,
   "metadata": {},
   "outputs": [
    {
     "name": "stdout",
     "output_type": "stream",
     "text": [
      "SIF network written to tutorial.sif\n",
      "Basic regulation reaction provenance written to tutorial-prov.csv\n"
     ]
    }
   ],
   "source": [
    "bravo_main.write_to_SIF(G, 'tutorial.sif')\n",
    "bravo_main.write_provenance(G, 'tutorial-prov.csv')"
   ]
  },
  {
   "cell_type": "code",
   "execution_count": null,
   "metadata": {},
   "outputs": [],
   "source": []
  }
 ],
 "metadata": {
  "kernelspec": {
   "display_name": "Python 3",
   "language": "python",
   "name": "python3"
  },
  "language_info": {
   "codemirror_mode": {
    "name": "ipython",
    "version": 3
   },
   "file_extension": ".py",
   "mimetype": "text/x-python",
   "name": "python",
   "nbconvert_exporter": "python",
   "pygments_lexer": "ipython3",
   "version": "3.5.4"
  }
 },
 "nbformat": 4,
 "nbformat_minor": 2
}
