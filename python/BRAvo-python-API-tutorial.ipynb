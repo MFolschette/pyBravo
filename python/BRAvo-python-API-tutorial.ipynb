{
 "cells": [
  {
   "cell_type": "code",
   "execution_count": 26,
   "metadata": {},
   "outputs": [],
   "source": [
    "import time\n",
    "import csv\n",
    "from IPython.display import display, Markdown, Latex\n",
    "import networkx as nx\n",
    "import bravo.regulation as regulation\n",
    "import bravo.signaling as signaling\n",
    "import bravo.config as config\n",
    "import bravo.util as util\n",
    "import pyBravo as bravo_main\n",
    "\n",
    "def read_input_genes(filename):\n",
    "    res = []\n",
    "    with open(filename, newline='') as csvfile:\n",
    "        reader = csv.reader(csvfile, delimiter=' ', quotechar='|')\n",
    "        for row in reader:\n",
    "            res.append(''.join(row))\n",
    "    return res"
   ]
  },
  {
   "cell_type": "markdown",
   "metadata": {},
   "source": [
    "# Upstream regulation network reconstruction\n",
    "\n",
    "The following lines of code specify that regulation will be expored at depth 3 (`config.MAX_DEPTH = 3`), on all datasources except *mirtarbase* (`config.DATA_SOURCES = set(ds) - set(['mirtarbase'])`), on a set of 3 genes `['SCN3A', 'SCN5A', 'HEY2']`. \n",
    "\n",
    "The regulation graph reconstruction is called with \n",
    "```\n",
    "reconstructed_network = regulation.upstream_regulation(gene_list, \n",
    "                                                       already_explored = [], \n",
    "                                                       sif_network = [], \n",
    "                                                       current_depth = 0, \n",
    "                                                       explored_reg = 0)\n",
    "```\n",
    "\n",
    "Parameters are set to default values to allow re-execution of this cell without side-effect of previous executions. "
   ]
  },
  {
   "cell_type": "code",
   "execution_count": 86,
   "metadata": {
    "scrolled": true
   },
   "outputs": [
    {
     "name": "stdout",
     "output_type": "stream",
     "text": [
      "\n",
      "exploration depth 0\n",
      "to be explored ['SCN3A', 'SCN5A', 'HEY2']\n",
      "\n",
      "to be explored after complex decomposition ['SCN3A', 'SCN5A', 'HEY2']\n",
      "new synonmys to be explored:['EIEE62', 'FFEVF4', 'NAC3', 'Nav1.3', 'CDCD2', 'CMD1E', 'CMPD2', 'HB1', 'HB2', 'HBBD', 'HH1', 'ICCD', 'IVF', 'LQT3', 'Nav1.5', 'PFHB1', 'SSS1', 'VF1', 'CHF1', 'GRIDLOCK', 'GRL', 'HERP1', 'HESR2', 'HRT2', 'bHLHb32']\n",
      "exploring ['SCN3A', 'SCN5A', 'HEY2', 'EIEE62', 'FFEVF4', 'NAC3', 'Nav1.3', 'CDCD2', 'CMD1E', 'CMPD2', 'HB1', 'HB2', 'HBBD', 'HH1', 'ICCD', 'IVF', 'LQT3', 'Nav1.5', 'PFHB1', 'SSS1', 'VF1', 'CHF1', 'GRIDLOCK', 'GRL', 'HERP1', 'HESR2', 'HRT2', 'bHLHb32', 'SCN3A mRna', 'SCN3A protein', 'SCN5A mRna', 'SCN5A protein', 'HEY2 mRna', 'HEY2 protein', 'EIEE62 mRna', 'EIEE62 protein', 'FFEVF4 mRna', 'FFEVF4 protein', 'NAC3 mRna', 'NAC3 protein', 'Nav1.3 mRna', 'Nav1.3 protein', 'CDCD2 mRna', 'CDCD2 protein', 'CMD1E mRna', 'CMD1E protein', 'CMPD2 mRna', 'CMPD2 protein', 'HB1 mRna', 'HB1 protein']\n",
      "\n",
      "Explored 2 regulators\n",
      "exploring ['HB2 mRna', 'HB2 protein', 'HBBD mRna', 'HBBD protein', 'HH1 mRna', 'HH1 protein', 'ICCD mRna', 'ICCD protein', 'IVF mRna', 'IVF protein', 'LQT3 mRna', 'LQT3 protein', 'Nav1.5 mRna', 'Nav1.5 protein', 'PFHB1 mRna', 'PFHB1 protein', 'SSS1 mRna', 'SSS1 protein', 'VF1 mRna', 'VF1 protein', 'CHF1 mRna', 'CHF1 protein', 'GRIDLOCK mRna', 'GRIDLOCK protein', 'GRL mRna', 'GRL protein', 'HERP1 mRna', 'HERP1 protein', 'HESR2 mRna', 'HESR2 protein', 'HRT2 mRna', 'HRT2 protein', 'bHLHb32 mRna', 'bHLHb32 protein']\n",
      "\n",
      "Explored 2 regulators\n",
      "\n",
      "exploration depth 1\n",
      "to be explored ['TAp73a (tetramer)', 'RBPJ/NICD']\n",
      "\n",
      "RBPJ/NICD decomposed into ['RBPJ', 'NICD']\n",
      "to be explored after complex decomposition ['TAp73a (tetramer)', 'RBPJ/NICD', 'RBPJ', 'NICD']\n",
      "new synonmys to be explored:['AOS3', 'CBF1', 'IGKJRB', 'IGKJRB1', 'KBF2', 'RBP-J', 'RBPJK', 'RBPSUH', 'SUH', 'csl']\n",
      "exploring ['TAp73a (tetramer)', 'RBPJ/NICD', 'RBPJ', 'NICD', 'AOS3', 'CBF1', 'IGKJRB', 'IGKJRB1', 'KBF2', 'RBP-J', 'RBPJK', 'RBPSUH', 'SUH', 'csl', 'TAp73a (tetramer) mRna', 'TAp73a (tetramer) protein', 'RBPJ/NICD mRna', 'RBPJ/NICD protein', 'RBPJ mRna', 'RBPJ protein', 'NICD mRna', 'NICD protein', 'AOS3 mRna', 'AOS3 protein', 'CBF1 mRna', 'CBF1 protein', 'IGKJRB mRna', 'IGKJRB protein', 'IGKJRB1 mRna', 'IGKJRB1 protein', 'KBF2 mRna', 'KBF2 protein', 'RBP-J mRna', 'RBP-J protein', 'RBPJK mRna', 'RBPJK protein', 'RBPSUH mRna', 'RBPSUH protein', 'SUH mRna', 'SUH protein', 'csl mRna', 'csl protein']\n",
      "\n",
      "Explored 2 regulators\n",
      "Exploring done\n",
      "--- Upstream regulation network in 0.98 seconds ---\n"
     ]
    }
   ],
   "source": [
    "start_time = time.time()\n",
    "\n",
    "# global options\n",
    "config.MAX_DEPTH = 3\n",
    "config.FAST = True\n",
    "config.DECOMPOSE_COMPLEXES = True\n",
    "config.EXTEND_WITH_SYNONYMS = True\n",
    "config.EXTEND_WITH_SUFFIXES = True\n",
    "config.VERBOSE = False\n",
    "\n",
    "\"\"\" all possible data sources \"\"\"\n",
    "ds = ['bind', 'biogrid', 'corum',\n",
    "                'ctd', 'dip', 'drugbank', 'hprd', 'humancyc', 'inoh',\n",
    "                'intact', 'kegg', 'mirtarbase', 'netpath', 'panther',\n",
    "                'pid', 'psp', 'reactome', 'reconx', 'smpdb', 'wp',\n",
    "                'intact_complex', 'msigdb']\n",
    "\n",
    "\"\"\" removing mirtarbase \"\"\"\n",
    "config.DATA_SOURCES = set(ds) - set(['mirtarbase'])\n",
    "\n",
    "\"\"\" specifiyng inputs \"\"\"\n",
    "gene_list = ['SCN3A', 'SCN5A', 'HEY2']\n",
    "#gene_list = read_input_genes('iLiverCancer1715.target')\n",
    "\n",
    "\"\"\" reconstruction call \"\"\"\n",
    "reconstructed_network = regulation.upstream_regulation(gene_list, \n",
    "                                                       already_explored = [], \n",
    "                                                       sif_network = [], \n",
    "                                                       current_depth = 0, \n",
    "                                                       explored_reg = 0)\n",
    "\n",
    "elapsed_time = round((time.time() - start_time), 2)\n",
    "\n",
    "print(\"--- Upstream regulation network in %s seconds ---\" % elapsed_time)"
   ]
  },
  {
   "cell_type": "markdown",
   "metadata": {},
   "source": [
    "## Metrics and SIF export of the regulation network"
   ]
  },
  {
   "cell_type": "code",
   "execution_count": 87,
   "metadata": {
    "scrolled": false
   },
   "outputs": [
    {
     "name": "stdout",
     "output_type": "stream",
     "text": [
      "Number of nodes = 5\n",
      "Number of edges = 4\n"
     ]
    }
   ],
   "source": [
    "G = bravo_main.build_nx_digraph(reconstructed_network)"
   ]
  },
  {
   "cell_type": "code",
   "execution_count": 88,
   "metadata": {
    "scrolled": true
   },
   "outputs": [
    {
     "name": "stdout",
     "output_type": "stream",
     "text": [
      "Nodes after synonym-based unification = 5\n",
      "Edges after synonym-based unification = 4\n"
     ]
    }
   ],
   "source": [
    "G_unified = util.fast_reg_network_unification(G, util.index_syn)\n",
    "print('Nodes after synonym-based unification = ' + str(len(G_unified.nodes())))\n",
    "print('Edges after synonym-based unification = ' + str(len(G_unified.edges())))"
   ]
  },
  {
   "cell_type": "code",
   "execution_count": 89,
   "metadata": {
    "scrolled": true
   },
   "outputs": [
    {
     "data": {
      "text/markdown": [
       "\n",
       "| Node | Degree Centrality |\n",
       "|------|------|\n",
       "| RBPJ/NICD | 0.75 | \n",
       "| HEY2 | 0.5 | \n",
       "| NICD | 0.25 | \n",
       "| RBPJ | 0.25 | \n",
       "| TAp73a (tetramer) | 0.25 | \n"
      ],
      "text/plain": [
       "<IPython.core.display.Markdown object>"
      ]
     },
     "metadata": {},
     "output_type": "display_data"
    }
   ],
   "source": [
    "md = bravo_main.get_centrality_as_md(G_unified)\n",
    "display(Markdown(md))"
   ]
  },
  {
   "cell_type": "code",
   "execution_count": 84,
   "metadata": {},
   "outputs": [
    {
     "name": "stdout",
     "output_type": "stream",
     "text": [
      "SIF network written to tutorial-regulation.sif\n",
      "Basic regulation reaction provenance written to tutorial-regulation-prov.csv\n"
     ]
    }
   ],
   "source": [
    "bravo_main.write_to_SIF(G_unified, 'tutorial-regulation.sif')\n",
    "bravo_main.write_provenance(G_unified, 'tutorial-regulation-prov.csv')"
   ]
  },
  {
   "cell_type": "markdown",
   "metadata": {},
   "source": [
    "---"
   ]
  },
  {
   "cell_type": "markdown",
   "metadata": {},
   "source": [
    "# Upstream signaling network reconstruction\n",
    "\n",
    "These lines would test the regulation network reconstruction on all data sources, and stop at depth 4.  \n",
    "```\n",
    "config.MAX_DEPTH = 4\n",
    "config.DATA_SOURCES = ['ctd', 'pid']\n",
    "```\n",
    "\n",
    "```\n",
    "reconstructed_network = bravo.upstream_signaling(['SCN5A', 'SCN3A', 'HEY2'], \n",
    "        already_explored = [], \n",
    "        sif_network = [], \n",
    "        current_depth = 0, \n",
    "        explored_reg = 0)\n",
    ")\n",
    "```\n"
   ]
  },
  {
   "cell_type": "code",
   "execution_count": 113,
   "metadata": {
    "scrolled": true
   },
   "outputs": [
    {
     "name": "stdout",
     "output_type": "stream",
     "text": [
      "\n",
      "exploration depth 0\n",
      "to be explored after complex decomposition ['SCN5A', 'SCN3A', 'HEY2']\n",
      "new synonmys to be explored:['CDCD2', 'CMD1E', 'CMPD2', 'HB1', 'HB2', 'HBBD', 'HH1', 'ICCD', 'IVF', 'LQT3', 'Nav1.5', 'PFHB1', 'SSS1', 'VF1', 'EIEE62', 'FFEVF4', 'NAC3', 'Nav1.3', 'CHF1', 'GRIDLOCK', 'GRL', 'HERP1', 'HESR2', 'HRT2', 'bHLHb32']\n",
      "\n",
      "Explored 4 regulators\n",
      "\n",
      "exploration depth 1\n",
      "to be explored after complex decomposition ['NOTCH3 coactivator complex', 'Fyn', 'CAMK2D', 'PKACA']\n",
      "new synonmys to be explored:['CAMKD', 'PRKACA', 'PPNAD4']\n",
      "\n",
      "Explored 23 regulators\n",
      "\n",
      "exploration depth 2\n",
      "netrin 1/DCC/FAK/Fyn decomposed into ['netrin 1', 'DCC', 'FAK', 'Fyn']\n",
      "CSK/PAG1 decomposed into ['CSK', 'PAG1']\n",
      "netrin 1/UNC5B decomposed into ['netrin 1', 'UNC5B']\n",
      "Tie2/Ang2 decomposed into ['Tie2', 'Ang2']\n",
      "Ephrin A5/EPHA5 decomposed into ['Ephrin A5', 'EPHA5']\n",
      "RHOA/GTP decomposed into ['RHOA', 'GTP']\n",
      "Nephrin/NEPH1/podocin decomposed into ['Nephrin', 'NEPH1', 'podocin']\n",
      "Complex (Sema3A/Neuropilin 1/ PlexinA1) decomposed into ['Complex (Sema3A', 'Neuropilin 1', ' PlexinA1)']\n",
      "Complex (Integrin beta/Integrin _alpha/ Caveolin/Integrin _alpha/ Integrin beta/Collagen/ Laminin/Fibronectin) decomposed into ['Complex (Integrin beta', 'Integrin _alpha', ' Caveolin', 'Integrin _alpha', ' Integrin beta', 'Collagen', ' Laminin', 'Fibronectin)']\n",
      "to be explored after complex decomposition ['netrin 1/DCC/FAK/Fyn', 'CSK/PAG1', 'CD45', 'SHP1', 'PPP1R1B', 'netrin 1/UNC5B', 'Tie2/Ang2', 'Ephrin A5/EPHA5', 'RHOA/GTP', 'Nephrin/NEPH1/podocin', 'CASR', 'PDGFRB', 'Complex (Sema3A/Neuropilin 1/ PlexinA1)', 'RIPK3', 'CSK', 'Complex (Integrin beta/Integrin _alpha/ Caveolin/Integrin _alpha/ Integrin beta/Collagen/ Laminin/Fibronectin)', 'PDK1', 'Syk', 'AXL', 'netrin 1', 'DCC', 'FAK', 'Fyn', 'PAG1', 'UNC5B', 'Tie2', 'Ang2', 'Ephrin A5', 'EPHA5', 'RHOA', 'GTP', 'Nephrin', 'NEPH1', 'podocin', 'Complex (Sema3A', 'Neuropilin 1', ' PlexinA1)', 'Complex (Integrin beta', 'Integrin _alpha', ' Caveolin', ' Integrin beta', 'Collagen', ' Laminin', 'Fibronectin)']\n",
      "new synonmys to be explored:['PTPRC', 'B220', 'CD45R', 'GP180', 'L-CA', 'LCA', 'LY5', 'T200', 'NR0B2', 'SHP', 'DARPP-32', 'DARPP32', 'CAR', 'EIG8', 'FHH', 'FIH', 'GPRC2A', 'HHC', 'HHC1', 'HYPOC1', 'NSHPT', 'PCAR1', 'hCasR', 'CD140B', 'IBGC4', 'IMF1', 'JTK12', 'KOGS', 'PDGFR', 'PDGFR-1', 'PDGFR1', 'PENTT', 'RIP3', 'PDPK1', 'PDPK2', 'PDPK2P', 'PRO0461', 'ARK', 'JTK11', 'Tyro7', 'UFO', 'CRC18', 'CRCR1', 'HGPPS2', 'IGDCC1', 'MRMV1', 'NTN1R1', 'PTK2', 'FADK', 'FAK1', 'FRNK', 'PPP1R71', 'p125FAK', 'pp125FAK', 'CBP', 'PAG', 'UNC5H2', 'p53RDL1', 'CEK7', 'EHK-1', 'EHK1', 'EK7', 'HEK7', 'TYRO4', 'ARH12', 'ARHA', 'RHO12', 'RHOH12', 'MTG1', 'GTPBP7', 'KIRREL1', 'KIRREL']\n",
      "\n",
      "Explored 208 regulators\n",
      "\n",
      "Explored 225 regulators\n",
      "\n",
      "Explored 225 regulators\n",
      "\n",
      "exploration depth 3\n",
      "alphav/beta3 Integrin/Tumstatin decomposed into ['alphav', 'beta3 Integrin', 'Tumstatin']\n",
      "Antigen/IgE/Fc epsilon R1/LYN/SYK decomposed into ['Antigen', 'IgE', 'Fc epsilon R1', 'LYN', 'SYK']\n",
      "alpha4/beta7 Integrin decomposed into ['alpha4', 'beta7 Integrin']\n",
      "Ephrin A1/EPHA2 decomposed into ['Ephrin A1', 'EPHA2']\n",
      "TCR/CD3/MHC II/CD4/LCK/ZAP-70 decomposed into ['TCR', 'CD3', 'MHC II', 'CD4', 'LCK', 'ZAP-70']\n",
      "PDGF-BB/PDGFRB (dimer)/SHP2 decomposed into ['PDGF-BB', 'PDGFRB (dimer)', 'SHP2']\n",
      "VEGFR2 homodimer/VEGFA homodimer/Src decomposed into ['VEGFR2 homodimer', 'VEGFA homodimer', 'Src']\n",
      "alphav/beta3 Integrin/Talin decomposed into ['alphav', 'beta3 Integrin', 'Talin']\n",
      "RET51/GFRalpha1/GDNF decomposed into ['RET51', 'GFRalpha1', 'GDNF']\n",
      "LPA/LPA1-2-3 decomposed into ['LPA', 'LPA1-2-3']\n",
      "alpha4/beta1 Integrin/VCAM1/Paxillin decomposed into ['alpha4', 'beta1 Integrin', 'VCAM1', 'Paxillin']\n",
      "Ephrin B1/EPHB1-2 decomposed into ['Ephrin B1', 'EPHB1-2']\n",
      "alphav/beta3 Integrin/Del1 decomposed into ['alphav', 'beta3 Integrin', 'Del1']\n",
      "VEGF/Rho/ROCK/alphav/beta3 Integrin decomposed into ['VEGF', 'Rho', 'ROCK', 'alphav', 'beta3 Integrin']\n",
      "alphav/beta3 Integrin/JAM-A decomposed into ['alphav', 'beta3 Integrin', 'JAM-A']\n",
      "nectin-1(dimer)/I-afadin/I-afadin/nectin-3(dimer/I-afadin/I-afadin decomposed into ['nectin-1(dimer)', 'I-afadin', 'I-afadin', 'nectin-3(dimer', 'I-afadin', 'I-afadin']\n",
      "TCR/CD3/MHC I/CD8/LCK/ZAP-70 decomposed into ['TCR', 'CD3', 'MHC I', 'CD8', 'LCK', 'ZAP-70']\n",
      "Complex (VEGFR-2/VEGF) decomposed into ['Complex (VEGFR-2', 'VEGF)']\n",
      "TCR/CD3/MHC I/CD8/LCK decomposed into ['TCR', 'CD3', 'MHC I', 'CD8', 'LCK']\n",
      "TCR/CD3/MHC II/CD4/LCK decomposed into ['TCR', 'CD3', 'MHC II', 'CD4', 'LCK']\n",
      "EPO/EPOR (dimer)/JAK2 decomposed into ['EPO', 'EPOR (dimer)', 'JAK2']\n",
      "TXA2/TXA2-R family decomposed into ['TXA2', 'TXA2-R family']\n",
      "Arf6/GTP decomposed into ['Arf6', 'GTP']\n",
      "Ephrin B/EPHB1 decomposed into ['Ephrin B', 'EPHB1']\n",
      "NGF (dimer)/p75(NTR)/PKA decomposed into ['NGF (dimer)', 'p75(NTR)', 'PKA']\n",
      "alphaV/beta3 Integrin/Osteopontin decomposed into ['alphaV', 'beta3 Integrin', 'Osteopontin']\n",
      "Sema3e/Plexin-D1/Rnd2 decomposed into ['Sema3e', 'Plexin-D1', 'Rnd2']\n",
      "Eps8/RNTRE decomposed into ['Eps8', 'RNTRE']\n",
      "Ephrin B/EPHB2/RasGAP decomposed into ['Ephrin B', 'EPHB2', 'RasGAP']\n",
      "ARAP3/RAP1A/GTP decomposed into ['ARAP3', 'RAP1A', 'GTP']\n",
      "Ephrin A1/EPHA2/NCK1/GIT1 decomposed into ['Ephrin A1', 'EPHA2', 'NCK1', 'GIT1']\n",
      "G-protein alpha (i/o/z/t) subunit decomposed into ['G-protein alpha (i', 'o', 'z', 't) subunit']\n",
      "Complex (EGFR/PLC_gamma/ STAT/PI3K/ SHC/Gab/ Grb2/SOS/ GAP) decomposed into ['Complex (EGFR', 'PLC_gamma', ' STAT', 'PI3K', ' SHC', 'Gab', ' Grb2', 'SOS', ' GAP)']\n",
      "Complex (EGFR/Grb2/ SOS) decomposed into ['Complex (EGFR', 'Grb2', ' SOS)']\n",
      "Complex (FGFR1-4/Grb2/ SOS) decomposed into ['Complex (FGFR1-4', 'Grb2', ' SOS)']\n",
      "Complex (FGFR1-4/PLC_gamma/ RasGAP/PI3K/ FRS2/SHP2/ SHC/Grb2/ SOS) decomposed into ['Complex (FGFR1-4', 'PLC_gamma', ' RasGAP', 'PI3K', ' FRS2', 'SHP2', ' SHC', 'Grb2', ' SOS)']\n",
      "RAS family/GTP decomposed into ['RAS family', 'GTP']\n",
      "HMGB1/TLR4/MD2 (dimer) decomposed into ['HMGB1', 'TLR4', 'MD2 (dimer)']\n",
      "DVL/DAAM1 decomposed into ['DVL', 'DAAM1']\n",
      "Ephrin A5/EPHA3/Crk decomposed into ['Ephrin A5', 'EPHA3', 'Crk']\n",
      "S1P/S1P3/Gi decomposed into ['S1P', 'S1P3', 'Gi']\n",
      "E-cadherin/Ca2+/beta catenin/alpha catenin/p120 catenin decomposed into ['E-cadherin', 'Ca2+', 'beta catenin', 'alpha catenin', 'p120 catenin']\n",
      "LPA/LPA2/MAGI-3 decomposed into ['LPA', 'LPA2', 'MAGI-3']\n",
      "Ephrin A1/EPHA4/VSM-RhoGEF decomposed into ['Ephrin A1', 'EPHA4', 'VSM-RhoGEF']\n",
      "N-cadherin/Ca2+/p120 catenin/beta catenin-gamma catenin/alpha catenin decomposed into ['N-cadherin', 'Ca2+', 'p120 catenin', 'beta catenin-gamma catenin', 'alpha catenin']\n",
      "RAC1/GTP decomposed into ['RAC1', 'GTP']\n",
      "IL2/IL2R alpha/beta/gamma/JAK1/LCK/JAK3 decomposed into ['IL2', 'IL2R alpha', 'beta', 'gamma', 'JAK1', 'LCK', 'JAK3']\n",
      "G13/GTP/p115RhoGEF decomposed into ['G13', 'GTP', 'p115RhoGEF']\n",
      "Ephrin A5/EPHA3-4-5-6-7 decomposed into ['Ephrin A5', 'EPHA3-4-5-6-7']\n",
      "Ephrin A2/EPHA3-4-5-6-7 decomposed into ['Ephrin A2', 'EPHA3-4-5-6-7']\n",
      "G13/GTP decomposed into ['G13', 'GTP']\n",
      "S1P/S1P5/Gi decomposed into ['S1P', 'S1P5', 'Gi']\n",
      "S1P1/S1P decomposed into ['S1P1', 'S1P']\n",
      "alphaM/beta2 Integrin decomposed into ['alphaM', 'beta2 Integrin']\n",
      "VEGFR2 (dimer)/VEGFA (dimer)/Hsp90/alphav/beta3 Integrin/Vitronectin decomposed into ['VEGFR2 (dimer)', 'VEGFA (dimer)', 'Hsp90', 'alphav', 'beta3 Integrin', 'Vitronectin']\n",
      "netrin 1/UNC5A decomposed into ['netrin 1', 'UNC5A']\n",
      "Ephrin A1/EPHA1-4/Ephexin decomposed into ['Ephrin A1', 'EPHA1-4', 'Ephexin']\n",
      "to be explored after complex decomposition ['FAK fragment 1', 'Pyk2', 'alphav/beta3 Integrin/Tumstatin', 'RhoA', 'ROCK1', 'PI3K', 'Antigen/IgE/Fc epsilon R1/LYN/SYK', 'Src', 'alpha4/beta7 Integrin', 'FAK fragment 4', 'Ephrin A1/EPHA2', 'Fibronectin', 'TCR/CD3/MHC II/CD4/LCK/ZAP-70', 'PDGF-BB/PDGFRB (dimer)/SHP2', 'paxillin', 'VEGFR2 homodimer/VEGFA homodimer/Src', 'alphav/beta3 Integrin/Talin', 'protein tyrosine phosphatase activity', 'ERK1-2-active', 'RET51/GFRalpha1/GDNF', 'LPA/LPA1-2-3', 'alpha4/beta1 Integrin/VCAM1/Paxillin', 'Ephrin B1/EPHB1-2', 'alphav/beta3 Integrin/Del1', 'VEGF/Rho/ROCK/alphav/beta3 Integrin', 'alphav/beta3 Integrin/JAM-A', 'nectin-1(dimer)/I-afadin/I-afadin/nectin-3(dimer/I-afadin/I-afadin', 'Syndecan-4', 'TCR/CD3/MHC I/CD8/LCK/ZAP-70', 'FAK fragment 2', 'FAK fragment 3', 'EGF:p-6Y-EGFR:GRB2:p-5Y-GAB1:SHP2', 'Ret', 'Complex (VEGFR-2/VEGF)', 'ERK1', 'Shp-2', 'LYN', 'Yes', 'Met', 'Akt1', 'ERK2', 'EGFR', 'CDK5', 'PKG1', 'Etk', 'GSK3B', 'Grb7', 'FGR', 'MST3', 'SMURF1', 'NME7', 'NME3', 'NME4', 'NME1:NME2', 'ALDH3B2', '_U37519_1_c', 'ALDH3B1', 'ALDH1A3', 'ALDH3A1', 'NME6', 'RSK2', 'TCR/CD3/MHC I/CD8/LCK', 'TCR/CD3/MHC II/CD4/LCK', 'EPO/EPOR (dimer)/JAK2', 'ARAP3', 'TXA2/TXA2-R family', 'Arf6/GTP', 'Ephrin B/EPHB1', 'p62DOK', 'beta 2 chimerin', 'NGF (dimer)/p75(NTR)/PKA', 'alphaV/beta3 Integrin/Osteopontin', 'Sema3e/Plexin-D1/Rnd2', 'CD22', 'Grb2', 'Eps8/RNTRE', 'Ephrin B/EPHB2/RasGAP', 'ARAP3/RAP1A/GTP', 'Ephrin A1/EPHA2/NCK1/GIT1', 'SUCLG1:SUCLG2', 'G-protein alpha (i/o/z/t) subunit', 'COPII', 'Bis', 'Abl', 'ASK1', 'IGF1R', 'Succinyl CoA Synthetase', 'Chk1', 'CDK1', 'PKCT', 'PRKD1', 'GDP kinase', 'Complex (EGFR/PLC_gamma/ STAT/PI3K/ SHC/Gab/ Grb2/SOS/ GAP)', 'Complex (EGFR/Grb2/ SOS)', 'AMPKA1', 'Lck', 'GRK2', 'MELK', 'Complex (FGFR1-4/Grb2/ SOS)', 'Arg', 'Complex (FGFR1-4/PLC_gamma/ RasGAP/PI3K/ FRS2/SHP2/ SHC/Grb2/ SOS)', 'NDK 6', 'NDK', 'NDK B', 'nucleoside diphosphate kinase', 'NDK 7', \"Bis(5'-nucleosyl)-tetraphosphatase [asymmetrical]\", 'NDK 3', 'nucleoside diphosphate kinase B-like', 'Nucleoside diphosphate kinase homolog 5', 'PKM2', 'NME5', 'PKLR', 'Epac1', 'FPGT', 'POLR2H', 'PCK1', 'SUCLG2', 'PCK2', 'ADSS', 'NME', 'NUDT2', 'SUCLG1', 'NME1', 'PKM', 'NME2', 'CK2A1', 'RAS family/GTP', 'HMGB1/TLR4/MD2 (dimer)', 'DVL/DAAM1', 'Ephrin A5/EPHA3/Crk', 'Tiam1', 'ARHGEF17', 'p190RHOGEF', 'S1P/S1P3/Gi', 'E-cadherin/Ca2+/beta catenin/alpha catenin/p120 catenin', 'LPA/LPA2/MAGI-3', 'Ephrin A1/EPHA4/VSM-RhoGEF', 'N-cadherin/Ca2+/p120 catenin/beta catenin-gamma catenin/alpha catenin', 'p115RhoGEF', 'TRIO', 'RAC1/GTP', 'cell-cell signaling', 'BCR', 'IL2/IL2R alpha/beta/gamma/JAK1/LCK/JAK3', 'Centraspindlin', 'CDEP', 'ABR', 'myoGEF', 'G13/GTP/p115RhoGEF', 'ARHGEF12', 'ARHGEF3', 'Ephrin A5/EPHA3-4-5-6-7', 'p27Kip1', 'ARHGEF2', 'PDZRhoGEF', 'Ephrin A2/EPHA3-4-5-6-7', 'G13/GTP', 'adherens junction assembly', 'VsmRhoGEF', 'OBSCN', 'GrinchGEF', 'DEF6', 'Ephexin', 'ECT2', 'complement component iC3b receptor activity', 'S1P/S1P5/Gi', 'NET1', 'ARHGEF18', 'S1P1/S1P', 'alphaM/beta2 Integrin', 'DBL', 'VEGFR2 (dimer)/VEGFA (dimer)/Hsp90/alphav/beta3 Integrin/Vitronectin', 'ARHGEF10', 'VAV2', 'GEFT', 'netrin 1/UNC5A', 'smgGDS', 'AKAP13', 'Ephrin A1/EPHA1-4/Ephexin', 'ARHGEF5', 'DBS', 'Vav3', 'VAV1', 'aMb2 protein ligands', 'OCTN2', 'CPT2', 'SLC22A4, 5,15,16', 'carnitine exporter', 'CACT', 'BBOX1 dimer', 'PP2A_act', 'Spindle damage rNTP depletion Nitric oxide and inflammation Hypoxia', 'PKCZ', 'PKA', 'CAMK4', 'CK1A', 'IKKA', 'PKCA', 'CK1E', 'PKCs', 'SRC', 'alphav', 'beta3 Integrin', 'Tumstatin', 'Antigen', 'IgE', 'Fc epsilon R1', 'SYK', 'alpha4', 'beta7 Integrin', 'Ephrin A1', 'EPHA2', 'TCR', 'CD3', 'MHC II', 'CD4', 'LCK', 'ZAP-70', 'PDGF-BB', 'PDGFRB (dimer)', 'SHP2', 'VEGFR2 homodimer', 'VEGFA homodimer', 'Talin', 'RET51', 'GFRalpha1', 'GDNF', 'LPA', 'LPA1-2-3', 'beta1 Integrin', 'VCAM1', 'Paxillin', 'Ephrin B1', 'EPHB1-2', 'Del1', 'VEGF', 'Rho', 'ROCK', 'JAM-A', 'nectin-1(dimer)', 'I-afadin', 'nectin-3(dimer', 'MHC I', 'CD8', 'Complex (VEGFR-2', 'VEGF)', 'EPO', 'EPOR (dimer)', 'JAK2', 'TXA2', 'TXA2-R family', 'Arf6', 'GTP', 'Ephrin B', 'EPHB1', 'NGF (dimer)', 'p75(NTR)', 'alphaV', 'Osteopontin', 'Sema3e', 'Plexin-D1', 'Rnd2', 'Eps8', 'RNTRE', 'EPHB2', 'RasGAP', 'RAP1A', 'NCK1', 'GIT1', 'G-protein alpha (i', 'o', 'z', 't) subunit', 'Complex (EGFR', 'PLC_gamma', ' STAT', ' SHC', 'Gab', ' Grb2', 'SOS', ' GAP)', ' SOS)', 'Complex (FGFR1-4', ' RasGAP', ' FRS2', 'RAS family', 'HMGB1', 'TLR4', 'MD2 (dimer)', 'DVL', 'DAAM1', 'Ephrin A5', 'EPHA3', 'Crk', 'S1P', 'S1P3', 'Gi', 'E-cadherin', 'Ca2+', 'beta catenin', 'alpha catenin', 'p120 catenin', 'LPA2', 'MAGI-3', 'EPHA4', 'VSM-RhoGEF', 'N-cadherin', 'beta catenin-gamma catenin', 'RAC1', 'IL2', 'IL2R alpha', 'beta', 'gamma', 'JAK1', 'JAK3', 'G13', 'EPHA3-4-5-6-7', 'Ephrin A2', 'S1P5', 'S1P1', 'alphaM', 'beta2 Integrin', 'VEGFR2 (dimer)', 'VEGFA (dimer)', 'Hsp90', 'Vitronectin', 'netrin 1', 'UNC5A', 'EPHA1-4']\n",
      "new synonmys to be explored:['P160ROCK', 'ROCK-I', 'PIK3CG', 'PI3CG', 'PI3Kgamma', 'PIK3', 'p110gamma', 'p120-PI3K', 'MAPK3', 'ERK-1', 'ERT2', 'HS44KDAP', 'HUMKER1A', 'P44ERK1', 'P44MAPK', 'PRKM3', 'p44-ERK1', 'p44-MAPK', 'JTK8', 'p53Lyn', 'p56Lyn', 'YES1', 'HsT441', 'P61-YES', 'c-yes', 'SLTM', 'MAPK1', 'ERK', 'ERK-2', 'ERT1', 'MAPK2', 'P42MAPK', 'PRKM1', 'PRKM2', 'p38', 'p40', 'p41', 'p41mapk', 'p42-MAPK', 'ERBB', 'ERBB1', 'HER1', 'NISBD2', 'PIG61', 'mENA', 'LIS7', 'PSSALRE', 'PRKG1', 'AAT8', 'PKG', 'PRKG1B', 'PRKGR1B', 'cGK', 'cGK 1', 'cGK1', 'cGKI', 'cGKI-BETA', 'cGKI-alpha', 'SRC2', 'c-fgr', 'c-src2', 'p55-Fgr', 'p55c-fgr', 'p58-Fgr', 'p58c-fgr', 'STK24', 'HEL-S-95', 'MST3B', 'STE20', 'STK3', 'CFAP67', 'MN23H7', 'NDK 7', 'NDK7', 'nm23-H7', 'DR-nm23', 'NDPK-C', 'NDPKC', 'NM23-H3', 'NM23H3', 'c371H6.2', 'NDPK-D', 'NM23H4', 'nm23-H4', 'ALDH8', 'ALDH4', 'ALDH7', 'ALDH1A6', 'ALDH6', 'MCOP8', 'RALDH3', 'ALDH3', 'ALDHIII', 'IPIA-ALPHA', 'NDK 6', 'NM23-H6', 'RPS6KA3', 'CLS', 'HU-3', 'ISPK-1', 'MAPKAPK1B', 'MRX19', 'RSK', 'S6K-alpha3', 'p90-RSK2', 'pp90RSK2', 'CENTD3', 'DRAG1', 'SIGLEC-2', 'SIGLEC2', 'MAP3K5', 'MAPKKK5', 'MEKK5', 'CD221', 'IGFIR', 'IGFR', 'JTK13', 'CDC2', 'CDC28A', 'P34CDC2', 'CHDED', 'PKC-MU', 'PKCM', 'PKD', 'PRKCM', 'ADRBK1', 'BARK1', 'BETA-ARK1', 'HPK38', 'NME6', 'IPIA-ALPHA', 'NM23-H6', 'CMPK2', 'TMPK2', 'TYKi', 'UMP-CMPK2', 'NME7', 'CFAP67', 'MN23H7', 'NDK7', 'nm23-H7', 'PKM', 'CTHBP', 'HEL-S-30', 'OIP3', 'PK3', 'TCB', 'THBP1', 'NM23-H5', 'NM23H5', 'RSPH23', 'PK1', 'PKL', 'PKR', 'PKRL', 'RPK', 'GFPP', 'RPABC3', 'RPB17', 'RPB8', 'PCKDC', 'PEPCK-C', 'PEPCK1', 'PEPCKC', 'G-SCS', 'GBETA', 'GTPSCS', 'PEPCK', 'PEPCK-M', 'PEPCK2', 'ADEH', 'ADSS 2', 'APAH1', 'GALPHA', 'MTDPS9', 'SUCLA1', 'RMRP', 'CHH', 'RMRPR', 'RRP2', 'CTHBP', 'HEL-S-30', 'OIP3', 'PK3', 'PKM2', 'TCB', 'THBP1', 'NDKB', 'NDPK-B', 'NDPKB', 'NM23-H2', 'NM23B', 'PUF', 'CSNK2A1', 'CKII', 'Cka1', 'Cka2', 'OCNDS', 'P164RHOGEF', 'RHOGEF17', 'TEM4', 'p164-RhoGEF', 'ARHGEF28', 'RGNEF', 'RIP2', 'ARHGEF23', 'MEBAS', 'MRD44', 'tgat', 'RN7SL263P', 'rbc', 'FARP1', 'FARP1-IT1', 'PLEKHC2', 'PPP1R75', 'MDB', 'LARG', 'PRO2792', 'GEF3', 'STA3', 'XPLN', 'GEF', 'GEF-H1', 'GEFH1', 'LFP40', 'NEDMHM', 'P40', 'ARHGEF30', 'UNC89', 'ARHGEF10L', 'IBP', 'SLAT', 'SWAP70L', 'ARHGEF31', 'PRPF38B', 'P114-RhoGEF', 'RP78', 'MCF2', 'ARHGEF21', 'GEF10', 'SNCV', 'VAV-2', 'ARHGEF25', 'p63RhoGEF', 'AKAP-13', 'AKAP-Lbc', 'ARHGEF13', 'BRX', 'HA-3', 'Ht31', 'LBC', 'PRKA13', 'PROTO-LB', 'PROTO-LBC', 'c-lbc', 'p47', 'GEF5', 'P60', 'TIM', 'TIM1', 'MCF2L', 'ARHGEF14', 'OST', 'VAV', 'SLC22A5', 'CDSP', 'CPT1', 'CPTASE', 'IIAE4', 'SLC25A20', 'CAC', 'CaMK IV', 'CaMK-GR', 'caMK', 'CHUK', 'IKBKA', 'IKK-alpha', 'IKK1', 'NFKBIKA', 'TCF16', 'PRKCA', 'AAG6', 'PKC-alpha', 'PRKACA', 'ASV', 'SRC1', 'THC6', 'c-SRC', 'p60-Src', 'IGHE', 'p72-Syk', 'ARCC2', 'CTPA', 'CTPP1', 'CTRCT6', 'ECK', 'TRBV20OR9-2', 'CDR3', 'TCRB', 'TCRBV20S2', 'TCRBV2O', 'TCRBV2S2O', 'TRB', 'CD4mut', 'IMD22', 'LSK', 'YT16', 'p56lck', 'pp58lck', 'ZAP70', 'ADMIO2', 'IMD48', 'SRK', 'STCD', 'STD', 'TZK', 'PTPN11', 'BPTP3', 'CFC', 'JMML', 'METCDS', 'NS1', 'PTP-1D', 'PTP2C', 'SH-PTP2', 'SH-PTP3', 'ATF', 'ATF1', 'ATF2', 'HFB1-GDNF', 'HSCR3', 'AK38', 'APOA', 'LP', 'CD106', 'INCAM-100', 'VEGFA', 'MVCD1', 'VPF', 'RHOD', 'ARHD', 'RHOHP1', 'RHOM', 'CD8A', 'Leu2', 'p32', 'EPX', 'EPP', 'EPX-PEN', 'EPXD', 'JTK10', 'THCYT3', 'MTG1', 'GTPBP7', 'ELK', 'EPHT2', 'Hek6', 'NET', 'NGFR', 'CD271', 'Gp80-LNGFR', 'TNFRSF16', 'p75NTR', 'USP6NL', 'TRE2NL', 'USP6NL-IT1', 'CAPB', 'DRT', 'EK5', 'EPHT3', 'ERK', 'Hek5', 'PCBC', 'Tyro5', 'C21KG', 'G-22K', 'KREV-1', 'KREV1', 'RAP1', 'SMGP21', 'NCK', 'NCKalpha', 'nck-1', 'XYLT2', 'PXYLT2', 'XT-II', 'XT2', 'xylT-II', 'HMG-1', 'HMG1', 'HMG3', 'SBP-1', 'ARMD10', 'CD284', 'TLR-4', 'TOLL', 'DVL1P1', 'DSH', 'DVL-22', 'DVL1', 'DVL1L1', 'DVL4', 'EK4', 'ETK', 'ETK1', 'HEK', 'HEK4', 'TYRO4', 'MBTPS1', 'PCSK8', 'SKI-1', 'S1PR3', 'EDG-3', 'EDG3', 'LPB3', 'GNAI1', 'LPAR2', 'EDG-4', 'EDG4', 'LPA-2', 'MAGI3', 'dJ730K3.2', 'EK8', 'HEK8', 'SEK', 'TYRO1', 'RNASE1', 'RIB1', 'RNS1', 'IL-2', 'TCGF', 'lymphokine', 'JAK1A', 'JAK1B', 'JTK3', 'JAK-3', 'JAK3_HUMAN', 'JAKL', 'L-JAK', 'LJAK', 'GNA13', 'S1PR5', 'EDG8', 'Edg-8', 'SPPR-1', 'SPPR-2', 'S1PR1', 'CD363', 'CHEDG1', 'D1S3362', 'ECGF1', 'EDG-1', 'EDG1', 'HSP90AA1', 'EL52', 'HEL-S-65p', 'HSP86', 'HSP89A', 'HSP90A', 'HSP90N', 'HSPC1', 'HSPCA', 'HSPCAL1', 'HSPCAL4', 'HSPN', 'Hsp103', 'Hsp89', 'LAP-2', 'LAP2', 'UNC5H1']\n"
     ]
    },
    {
     "name": "stdout",
     "output_type": "stream",
     "text": [
      "\n",
      "Explored 479 regulators\n",
      "\n",
      "Explored 561 regulators\n",
      "\n",
      "Explored 645 regulators\n",
      "\n",
      "Explored 677 regulators\n",
      "\n",
      "Explored 699 regulators\n",
      "\n",
      "Explored 872 regulators\n",
      "\n",
      "Explored 893 regulators\n",
      "\n",
      "Explored 902 regulators\n",
      "\n",
      "Explored 902 regulators\n",
      "\n",
      "Explored 905 regulators\n",
      "\n",
      "Explored 906 regulators\n",
      "\n",
      "Explored 909 regulators\n",
      "\n",
      "Explored 931 regulators\n",
      "\n",
      "Explored 936 regulators\n",
      "\n",
      "Explored 939 regulators\n",
      "\n",
      "Explored 940 regulators\n",
      "Exploring alted due to maximum depth\n",
      "--- Upstream signaling network assembled in 10.6 seconds ---\n"
     ]
    }
   ],
   "source": [
    "start_time = time.time()\n",
    "\n",
    "# global options\n",
    "config.MAX_DEPTH = 4\n",
    "config.DECOMPOSE_COMPLEXES = True\n",
    "config.EXTEND_WITH_SYNONYMS = True\n",
    "config.EXTEND_WITH_SUFFIXES = True\n",
    "config.FINE_GRAINED_SIGNALING_SIF = False\n",
    "config.FAST = True\n",
    "config.VERBOSE = False\n",
    "\n",
    "\"\"\" all possible data sources \"\"\"\n",
    "ds = ['bind', 'biogrid', 'corum',\n",
    "                'ctd', 'dip', 'drugbank', 'hprd', 'humancyc', 'inoh',\n",
    "                'intact', 'kegg', 'mirtarbase', 'netpath', 'panther',\n",
    "                'pid', 'psp', 'reactome', 'reconx', 'smpdb', 'wp',\n",
    "                'intact_complex', 'msigdb']\n",
    "\n",
    "config.DATA_SOURCES = ds\n",
    "\n",
    "\"\"\" reconstruction call \"\"\"\n",
    "reconstructed_network = signaling.upstream_signaling(['SCN5A', 'SCN3A', 'HEY2'], \n",
    "                                                     already_explored = [], \n",
    "                                                     sif_network = [], \n",
    "                                                     current_depth = 0, \n",
    "                                                     explored_reg = 0)\n",
    "\n",
    "elapsed_time = round((time.time() - start_time), 2)\n",
    "print(\"--- Upstream signaling network assembled in %s seconds ---\" % elapsed_time)"
   ]
  },
  {
   "cell_type": "code",
   "execution_count": 114,
   "metadata": {
    "scrolled": false
   },
   "outputs": [
    {
     "name": "stdout",
     "output_type": "stream",
     "text": [
      "Number of nodes = 1084\n",
      "Number of edges = 1691\n"
     ]
    }
   ],
   "source": [
    "G = bravo_main.build_nx_digraph(reconstructed_network)"
   ]
  },
  {
   "cell_type": "code",
   "execution_count": 115,
   "metadata": {
    "scrolled": true
   },
   "outputs": [
    {
     "name": "stdout",
     "output_type": "stream",
     "text": [
      "\t\tmerging node SHP1 into node NR0B2\n",
      "\t\tmerging node DARPP-32 into node PPP1R1B\n",
      "\t\tmerging node PRKACA into node PRKCA\n",
      "\t\tmerging node PKCA into node PRKCA\n",
      "\t\tmerging node PRKACA into node PRKCA\n",
      "\t\tmerging node PDK1 into node PDPK1\n",
      "\t\tmerging node FAK into node PTK2\n",
      "\t\tmerging node NEPH1 into node KIRREL1\n",
      "\t\tmerging node PI3K into node PIK3CG\n",
      "\t\tmerging node ERK1 into node MAPK3\n",
      "\t\tmerging node Yes into node YES1\n",
      "\t\tmerging node Met into node SLTM\n",
      "\t\tmerging node ERK2 into node MAPK1\n",
      "\t\tmerging node ERK2 into node MAPK1\n",
      "\t\tmerging node PKG1 into node PRKG1\n",
      "\t\tmerging node cGK 1 into node PRKG1\n",
      "\t\tmerging node NDK 7 into node NME7\n",
      "\t\tmerging node NDK 6 into node NME6\n",
      "\t\tmerging node PKD into node PRKD1\n",
      "\t\tmerging node NDK 6 into node NME6\n",
      "\t\tmerging node NDK 7 into node NME7\n",
      "\t\tmerging node PKM2 into node PKM\n",
      "\t\tmerging node DBL into node MCF2\n",
      "\t\tmerging node FAK1 into node PTK2\n",
      "\t\tmerging node DARPP-32 into node PPP1R1B\n",
      "\t\tmerging node CaMK IV into node CAMK4\n",
      "\t\tmerging node FAK1 into node PTK2\n",
      "\t\tmerging node IKKA into node CHUK\n",
      "\t\tmerging node PKCA into node PRKCA\n",
      "\t\tmerging node ZAP-70 into node ZAP70\n",
      "\t\tmerging node SHP2 into node PTPN11\n",
      "\t\tmerging node ATF2 into node GDNF\n",
      "\t\tmerging node ATF1 into node GDNF\n",
      "\t\tmerging node p75(NTR) into node NGFR\n",
      "\t\tmerging node HMG1 into node HMGB1\n",
      "\t\tmerging node S1P1 into node S1PR1\n",
      "\t\tmerging node EDG-1 into node S1PR1\n",
      "\t\tmerging node Hsp90 into node HSP90AA1\n",
      "\t\tmerging node PAK1 into node PKN1\n",
      "\t\tmerging node P38B into node MAPK11\n",
      "\t\tmerging node PKCI into node PRKCI\n",
      "\t\tmerging node PKCB into node PRKCB\n",
      "\t\tmerging node KHS1 into node MAP4K5\n",
      "\t\tmerging node GCKR into node MAP4K5\n",
      "\t\tmerging node PKCB into node PRKCB\n",
      "\t\tmerging node GCKR into node MAP4K5\n",
      "\t\tmerging node MEK1 into node MAP2K1\n",
      "\t\tmerging node MKK1 into node MAP2K1\n",
      "\t\tmerging node MEK1 into node MAP2K1\n",
      "\t\tmerging node MKK2 into node MAP2K2\n",
      "\t\tmerging node MEK2 into node MAP2K2\n",
      "\t\tmerging node MKK2 into node MAP2K2\n",
      "\t\tmerging node MEK2 into node MAP2K2\n",
      "\t\tmerging node DNA-PKcs into node PRKDC\n",
      "\t\tmerging node DNAPK into node PRKDC\n",
      "\t\tmerging node MKK1 into node MAP2K1\n",
      "\t\tmerging node DNAPK into node PRKDC\n",
      "\t\tmerging node PAK1 into node PKN1\n",
      "\t\tmerging node PKCI into node PRKCI\n",
      "\t\tmerging node SLC24A6 into node SLC8B1\n",
      "\t\tmerging node TXS into node TBXAS1\n",
      "\t\tmerging node ERK into node MAPK1\n",
      "\t\tmerging node cGK 1 into node PRKG1\n",
      "\t\tmerging node ERK into node MAPK1\n",
      "\t\tmerging node PKD into node PRKD1\n",
      "\t\tmerging node CaMK IV into node CAMK4\n",
      "\t\tmerging node ATF2 into node GDNF\n",
      "\t\tmerging node JNK into node MAPK8\n",
      "\t\tmerging node JNK into node MAPK8\n",
      "\t\tmerging node ATF1 into node GDNF\n",
      "\t\tmerging node MSK1 into node RPS6KA5\n",
      "\t\tmerging node HMG1 into node HMGB1\n",
      "\t\tmerging node EDG-1 into node S1PR1\n",
      "Nodes after synonym-based unification = 1042\n",
      "Edges after synonym-based unification = 1670\n"
     ]
    }
   ],
   "source": [
    "G_unified = util.fast_reg_network_unification(G, util.index_syn)\n",
    "print('Nodes after synonym-based unification = ' + str(len(G_unified.nodes())))\n",
    "print('Edges after synonym-based unification = ' + str(len(G_unified.edges())))"
   ]
  },
  {
   "cell_type": "code",
   "execution_count": 116,
   "metadata": {
    "scrolled": true
   },
   "outputs": [
    {
     "data": {
      "text/markdown": [
       "\n",
       "| Node | Degree Centrality |\n",
       "|------|------|\n",
       "| Ca2+ | 0.159 | \n",
       "| PIK3CG | 0.082 | \n",
       "| Akt1 | 0.073 | \n",
       "| RAC1/GTP | 0.072 | \n",
       "| Src | 0.065 | \n",
       "| RHOA/GTP | 0.064 | \n",
       "| GTP | 0.059 | \n",
       "| PTK2 | 0.055 | \n",
       "| ERK1-2-active | 0.047 | \n",
       "| EGFR | 0.032 | \n"
      ],
      "text/plain": [
       "<IPython.core.display.Markdown object>"
      ]
     },
     "metadata": {},
     "output_type": "display_data"
    }
   ],
   "source": [
    "md = bravo_main.get_centrality_as_md(G_unified)\n",
    "display(Markdown(md))"
   ]
  },
  {
   "cell_type": "code",
   "execution_count": 106,
   "metadata": {},
   "outputs": [
    {
     "name": "stdout",
     "output_type": "stream",
     "text": [
      "SIF network written to tutorial-signaling.sif\n",
      "Basic regulation reaction provenance written to tutorial-signaling-prov.csv\n"
     ]
    }
   ],
   "source": [
    "bravo_main.write_to_SIF(G_unified, 'tutorial-signaling.sif')\n",
    "bravo_main.write_provenance(G_unified, 'tutorial-signaling-prov.csv')"
   ]
  },
  {
   "cell_type": "code",
   "execution_count": null,
   "metadata": {},
   "outputs": [],
   "source": []
  }
 ],
 "metadata": {
  "kernelspec": {
   "display_name": "Python 3",
   "language": "python",
   "name": "python3"
  },
  "language_info": {
   "codemirror_mode": {
    "name": "ipython",
    "version": 3
   },
   "file_extension": ".py",
   "mimetype": "text/x-python",
   "name": "python",
   "nbconvert_exporter": "python",
   "pygments_lexer": "ipython3",
   "version": "3.6.5"
  }
 },
 "nbformat": 4,
 "nbformat_minor": 2
}
