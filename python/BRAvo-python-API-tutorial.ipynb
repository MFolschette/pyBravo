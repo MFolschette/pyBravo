{
 "cells": [
  {
   "cell_type": "code",
   "execution_count": 1,
   "metadata": {},
   "outputs": [],
   "source": [
    "import time\n",
    "import csv\n",
    "from IPython.display import display, Markdown, Latex\n",
    "import networkx as nx\n",
    "import bravo.regulation as bravo_reg\n",
    "import pyBravo as bravo_main\n",
    "\n",
    "def read_input_genes(filename):\n",
    "    res = []\n",
    "    with open(filename, newline='') as csvfile:\n",
    "        reader = csv.reader(csvfile, delimiter=' ', quotechar='|')\n",
    "        for row in reader:\n",
    "            res.append(''.join(row))\n",
    "    return res"
   ]
  },
  {
   "cell_type": "markdown",
   "metadata": {},
   "source": [
    "## Upstream regulation network reconstruction\n",
    "\n",
    "This call would test the regulation network reconstruction on all available data sources, and stop at depth 2.  \n",
    "`reconstructed_network = bravo.upstream_regulation(['JUN/FOS', 'SCN5A'], max_depth=2)`\n",
    "\n",
    "This call would test the regulation network reconstruction on `reactome` and `msigdb` data sources, stopping when no new regulations can be found.   \n",
    "`reconstructed_network = bravo.upstream_regulation(['JUN/FOS', 'SCN5A'], data_sources=['reactome', 'msigdb'])`"
   ]
  },
  {
   "cell_type": "code",
   "execution_count": 24,
   "metadata": {
    "scrolled": false
   },
   "outputs": [
    {
     "name": "stdout",
     "output_type": "stream",
     "text": [
      "\n",
      "exploration depth 0\n",
      "to be explored ['JUN/FOS', 'SCN5A']\n",
      "\n",
      "JUN/FOS decomposed into ['JUN', 'FOS']\n",
      "to be explored after complex decomposition ['JUN/FOS', 'SCN5A', 'JUN', 'FOS']\n",
      "new synonmys to be explored:['CDCD2', 'CMD1E', 'CMPD2', 'HB1', 'HB2', 'HBBD', 'HH1', 'ICCD', 'IVF', 'LQT3', 'Nav1.5', 'PFHB1', 'SSS1', 'VF1', 'AP-1', 'AP1', 'c-Jun', 'p39', 'AP-1', 'C-FOS', 'p55']\n",
      "exploring ['JUN/FOS', 'SCN5A', 'JUN', 'FOS', 'CDCD2', 'CMD1E', 'CMPD2', 'HB1', 'HB2', 'HBBD', 'HH1', 'ICCD', 'IVF', 'LQT3', 'Nav1.5', 'PFHB1', 'SSS1', 'VF1', 'AP-1', 'AP1', 'c-Jun', 'p39', 'C-FOS', 'p55', 'JUN/FOS mRna', 'JUN/FOS protein', 'SCN5A mRna', 'SCN5A protein', 'JUN mRna', 'JUN protein', 'FOS mRna', 'FOS protein', 'CDCD2 mRna', 'CDCD2 protein', 'CMD1E mRna', 'CMD1E protein', 'CMPD2 mRna', 'CMPD2 protein', 'HB1 mRna', 'HB1 protein', 'HB2 mRna', 'HB2 protein', 'HBBD mRna', 'HBBD protein', 'HH1 mRna', 'HH1 protein', 'ICCD mRna', 'ICCD protein', 'IVF mRna', 'IVF protein']\n",
      "\t\tremoving suffix  complex for NSC 689534/Copper complex\n",
      "\t\t\t\t --> NSC 689534/Copper\n",
      "\t\tremoving suffix  protein for SLC6A3 protein mutant form\n",
      "\t\t\t\t --> SLC6A3 mutant form\n",
      "\t\tremoving suffix  mutant form for SLC6A3 mutant form\n",
      "\t\t\t\t --> SLC6A3\n",
      "\t\tremoving suffix  protein for SOD2 protein\n",
      "\t\t\t\t --> SOD2\n",
      "\t\tremoving suffix  protein for IL3 protein\n",
      "\t\t\t\t --> IL3\n",
      "\t\tremoving suffix  complex for Clioquinol/Copper complex\n",
      "\t\t\t\t --> Clioquinol/Copper\n",
      "\t\tremoving suffix  protein for Dimaprit/HRH2 protein complex\n",
      "\t\t\t\t --> Dimaprit/HRH2 complex\n",
      "\t\tremoving suffix  complex for Dimaprit/HRH2 complex\n",
      "\t\t\t\t --> Dimaprit/HRH2\n",
      "\t\tremoving suffix  complex for Organoselenium Compounds analog/Copper complex\n",
      "\t\t\t\t --> Organoselenium Compounds analog/Copper\n",
      "\t\tremoving suffix  protein for TNF protein\n",
      "\t\t\t\t --> TNF\n",
      "\t\tremoving suffix  protein for AGT protein\n",
      "\t\t\t\t --> AGT\n",
      "\t\tremoving suffix  protein for NOG protein\n",
      "\t\t\t\t --> NOG\n",
      "\t\tremoving suffix  protein for IL1B protein\n",
      "\t\t\t\t --> IL1B\n",
      "\t\tremoving suffix  protein for EGF protein\n",
      "\t\t\t\t --> EGF\n",
      "\t\tremoving suffix  protein for PDGFB protein/PDGFB protein complex\n",
      "\t\t\t\t --> PDGFB/PDGFB complex\n",
      "\t\tremoving suffix  complex for PDGFB/PDGFB complex\n",
      "\t\t\t\t --> PDGFB/PDGFB\n",
      "\t\tremoving suffix  protein for TNFSF11 protein\n",
      "\t\t\t\t --> TNFSF11\n",
      "\t\tremoving suffix  mutant form for ALPL gene mutant form\n",
      "\t\t\t\t --> ALPL gene\n",
      "\t\tremoving suffix  protein for DRD1 protein\n",
      "\t\t\t\t --> DRD1\n",
      "\t\tremoving suffix  protein for LIF protein\n",
      "\t\t\t\t --> LIF\n",
      "\t\tremoving suffix  protein for DRD3 protein\n",
      "\t\t\t\t --> DRD3\n",
      "\t\tremoving suffix  protein for PDGFB protein\n",
      "\t\t\t\t --> PDGFB\n",
      "\t\tremoving suffix  protein for TGFA protein\n",
      "\t\t\t\t --> TGFA\n",
      "\t\tremoving suffix  protein for JUN protein\n",
      "\t\t\t\t --> JUN\n",
      "\t\tremoving suffix  protein for IL1A protein\n",
      "\t\t\t\t --> IL1A\n",
      "\t\tremoving suffix  protein for GDNF protein\n",
      "\t\t\t\t --> GDNF\n",
      "\t\tremoving suffix  protein for CTF1 protein\n",
      "\t\t\t\t --> CTF1\n",
      "\t\tremoving suffix  protein for F2 protein\n",
      "\t\t\t\t --> F2\n",
      "\t\tremoving suffix  protein for AHR protein\n",
      "\t\t\t\t --> AHR\n",
      "\t\tremoving suffix  mRNA for MIR101A mRNA\n",
      "\t\t\t\t --> MIR101A\n",
      "\t\tremoving suffix  complex for Disulfiram/Copper complex\n",
      "\t\t\t\t --> Disulfiram/Copper\n",
      "\t\tremoving suffix  protein for FGF2 protein\n",
      "\t\t\t\t --> FGF2\n",
      "\t\tremoving suffix  protein for PGA5 protein\n",
      "\t\t\t\t --> PGA5\n",
      "\t\tremoving suffix  protein for NGF protein\n",
      "\t\t\t\t --> NGF\n",
      "\t\tremoving suffix  protein for BDNF protein\n",
      "\t\t\t\t --> BDNF\n",
      "\t\tremoving suffix  protein for GHRL protein\n",
      "\t\t\t\t --> GHRL\n",
      "\t\tremoving suffix  protein for APP protein modified form\n",
      "\t\t\t\t --> APP modified form\n",
      "\t\tremoving suffix  modified form for APP modified form\n",
      "\t\t\t\t --> APP\n",
      "\t\tremoving suffix  protein for CSF1 protein\n",
      "\t\t\t\t --> CSF1\n",
      "\t\tremoving suffix  protein for GAST protein\n",
      "\t\t\t\t --> GAST\n",
      "\t\tremoving suffix  protein for Histamine/HRH2 protein complex\n",
      "\t\t\t\t --> Histamine/HRH2 complex\n",
      "\t\tremoving suffix  complex for Histamine/HRH2 complex\n",
      "\t\t\t\t --> Histamine/HRH2\n",
      "\t\tremoving suffix  complex for Win 55212-2/CNR1 complex\n",
      "\t\t\t\t --> Win 55212-2/CNR1\n",
      "\t\tremoving suffix  complex for 3-(2-hydroxy-4-(1,1-dimethylheptyl)phenyl)-4-(3-hydroxypropyl)cyclohexanol/CNR1 complex\n",
      "\t\t\t\t --> 3-(2-hydroxy-4-(1,1-dimethylheptyl)phenyl)-4-(3-hydroxypropyl)cyclohexanol/CNR1\n",
      "\t\tremoving suffix  protein for IL2 protein\n",
      "\t\t\t\t --> IL2\n",
      "\t\tremoving suffix  protein for TNFSF11 protein\n",
      "\t\t\t\t --> TNFSF11\n",
      "\n",
      "Explored 62 regulators\n",
      "exploring ['LQT3 mRna', 'LQT3 protein', 'Nav1.5 mRna', 'Nav1.5 protein', 'PFHB1 mRna', 'PFHB1 protein', 'SSS1 mRna', 'SSS1 protein', 'VF1 mRna', 'VF1 protein', 'AP-1 mRna', 'AP-1 protein', 'AP1 mRna', 'AP1 protein', 'c-Jun mRna', 'c-Jun protein', 'p39 mRna', 'p39 protein', 'C-FOS mRna', 'C-FOS protein', 'p55 mRna', 'p55 protein']\n",
      "\n",
      "Explored 62 regulators\n",
      "Exploring halted due to maximum depth\n",
      "--- Upstream regulation network in 0.91 seconds ---\n"
     ]
    }
   ],
   "source": [
    "start_time = time.time()\n",
    "\n",
    "# global options\n",
    "bravo_reg.DECOMPOSE_COMPLEXES = True\n",
    "bravo_reg.EXTEND_WITH_SYNONYMS = True\n",
    "bravo_reg.EXTEND_WITH_SUFFIXES = True\n",
    "bravo_reg.VERBOSE = False\n",
    "\n",
    "\"\"\" all possible data sources \"\"\"\n",
    "ds = ['bind', 'biogrid', 'corum',\n",
    "                'ctd', 'dip', 'drugbank', 'hprd', 'humancyc', 'inoh',\n",
    "                'intact', 'kegg', 'mirtarbase', 'netpath', 'panther',\n",
    "                'pid', 'psp', 'reactome', 'reconx', 'smpdb', 'wp',\n",
    "                'intact_complex', 'msigdb']\n",
    "\n",
    "\"\"\" removing mirtarbase \"\"\"\n",
    "target_data_sources = set(ds) - set(['mirtarbase'])\n",
    "\n",
    "\"\"\" specifiyng inputs \"\"\"\n",
    "gene_list = ['JUN/FOS', 'SCN5A']\n",
    "#gene_list = read_input_genes('iLiverCancer1715.target')\n",
    "\n",
    "\"\"\" reconstruction call \"\"\"\n",
    "reconstructed_network = bravo_reg.upstream_regulation(gene_list, \n",
    "                                                      data_sources=target_data_sources, \n",
    "                                                      max_depth=1, \n",
    "                                                      already_explored = [], \n",
    "                                                      sif_network = [])\n",
    "\n",
    "elapsed_time = round((time.time() - start_time), 2)\n",
    "\n",
    "print(\"--- Upstream regulation network in %s seconds ---\" % elapsed_time)"
   ]
  },
  {
   "cell_type": "markdown",
   "metadata": {},
   "source": [
    "## Metrics and SIF export of the regulation network"
   ]
  },
  {
   "cell_type": "code",
   "execution_count": 26,
   "metadata": {
    "scrolled": false
   },
   "outputs": [
    {
     "name": "stdout",
     "output_type": "stream",
     "text": [
      "Number of nodes = 67\n",
      "Number of edges = 68\n"
     ]
    }
   ],
   "source": [
    "G = bravo_main.build_nx_digraph(reconstructed_network)"
   ]
  },
  {
   "cell_type": "code",
   "execution_count": 27,
   "metadata": {},
   "outputs": [
    {
     "name": "stdout",
     "output_type": "stream",
     "text": [
      "\t\tmerging node ATF2 into node GDNF\n",
      "\t\tmerging node ATF1 into node GDNF\n",
      "\t\tmerging node c-Jun into node JUN\n",
      "\t\tmerging node AP1 into node JUN\n",
      "\t\tmerging node c-Jun into node JUN\n",
      "\t\tmerging node AP1 into node JUN\n",
      "\t\tmerging node ATF2 into node GDNF\n",
      "\t\tmerging node ATF1 into node GDNF\n",
      "Nodes after synonym-based unification = 63\n",
      "Edges after synonym-based unification = 66\n"
     ]
    }
   ],
   "source": [
    "G_unified = bravo_reg.fast_reg_network_unification(G, bravo_reg.index_syn)\n",
    "print('Nodes after synonym-based unification = ' + str(len(G_unified.nodes())))\n",
    "print('Edges after synonym-based unification = ' + str(len(G_unified.edges())))"
   ]
  },
  {
   "cell_type": "code",
   "execution_count": 28,
   "metadata": {
    "scrolled": false
   },
   "outputs": [
    {
     "data": {
      "text/markdown": [
       "\n",
       "| Gene | Degree Centrality |\n",
       "|------|------|\n",
       "| FOS | 0.903 | \n",
       "| JUN | 0.177 | \n",
       "| JUN/FOS | 0.048 | \n",
       "| ERK1-2-active | 0.032 | \n",
       "| GDNF | 0.032 | \n",
       "| SMAD3/SMAD4/JUN/FOS | 0.016 | \n",
       "| JDP2 | 0.016 | \n",
       "| MIR101A | 0.016 | \n",
       "| ERK1-2/ELK1 | 0.016 | \n",
       "| Organoselenium Compounds analog/Copper | 0.016 | \n"
      ],
      "text/plain": [
       "<IPython.core.display.Markdown object>"
      ]
     },
     "metadata": {},
     "output_type": "display_data"
    }
   ],
   "source": [
    "md = bravo_main.get_centrality_as_md(G_unified)\n",
    "display(Markdown(md))"
   ]
  },
  {
   "cell_type": "code",
   "execution_count": 29,
   "metadata": {},
   "outputs": [
    {
     "name": "stdout",
     "output_type": "stream",
     "text": [
      "SIF network written to tutorial.sif\n",
      "Basic regulation reaction provenance written to tutorial-prov.csv\n"
     ]
    }
   ],
   "source": [
    "bravo_main.write_to_SIF(G_unified, 'tutorial.sif')\n",
    "bravo_main.write_provenance(G_unified, 'tutorial-prov.csv')"
   ]
  }
 ],
 "metadata": {
  "kernelspec": {
   "display_name": "Python 3",
   "language": "python",
   "name": "python3"
  },
  "language_info": {
   "codemirror_mode": {
    "name": "ipython",
    "version": 3
   },
   "file_extension": ".py",
   "mimetype": "text/x-python",
   "name": "python",
   "nbconvert_exporter": "python",
   "pygments_lexer": "ipython3",
   "version": "3.5.4"
  }
 },
 "nbformat": 4,
 "nbformat_minor": 2
}
