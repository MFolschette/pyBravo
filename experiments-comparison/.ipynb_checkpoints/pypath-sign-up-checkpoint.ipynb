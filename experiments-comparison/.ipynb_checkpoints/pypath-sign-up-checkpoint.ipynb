{
 "cells": [
  {
   "cell_type": "markdown",
   "metadata": {},
   "source": [
    "Upstream signaling network reconstruction\n",
    "===============================\n",
    "\n",
    "The following code use [pyPath library](https://github.com/saezlab/pypath) to reconstruct signaling network from a list of biological entities (csv format) and querying [OmnipathDB](http://omnipathdb.org/).\n",
    "\n",
    "## 1. Load function"
   ]
  },
  {
   "cell_type": "code",
   "execution_count": null,
   "metadata": {
    "collapsed": true
   },
   "outputs": [],
   "source": [
    "#!/usr/bin/env python\n",
    "import time\n",
    "import csv\n",
    "start_time = time.time()\n",
    "import pypath\n",
    "from pypath import curl\n",
    "from pypath import data_formats\n",
    "\n",
    "\n",
    "def _upstream_signaling(pa, max_depth, to_be_explore, already_explored=[], current_depth=0, network_sif = []):\n",
    "    \"\"\"\n",
    "    Param:\n",
    "    pa: pypath env, \n",
    "    max_depth, \n",
    "    to_be_explore, \n",
    "    already_explored=[], \n",
    "    current_depth=0, \n",
    "    network_sif = []\n",
    "    \"\"\"\n",
    "    \n",
    "    # Stopping criteria 1\n",
    "    if current_depth >= max_depth:\n",
    "        print(\"Exploring alted due to maximum depth\")\n",
    "        return network_sif\n",
    "    else:\n",
    "        print('Exploration depth ' + str(current_depth))\n",
    "    # Stopping criteria 2\n",
    "    if len(to_be_explore) == 0:\n",
    "        print(\"Exploring done\")\n",
    "        return(network_sif)\n",
    "    # Start exploring\n",
    "    new_to_be_explored = []\n",
    "    for gene in to_be_explore:\n",
    "        # get entity that get affected by MYC using vertex object (inhibition, stimulation or other)\n",
    "        regulators_list = list(pa.gs_affects(gene))\n",
    "        already_explored.append(gene)\n",
    "        # get direction and sign of interation\n",
    "        for reg in range(len(regulators_list)):\n",
    "            # direction and sign\n",
    "            edge = pa.get_edge(regulators_list[reg][\"name\"], gene)\n",
    "            dirs = edge['dirs']\n",
    "            sign_check = dirs.get_sign(dirs.reverse) # reverse: source ===> target\n",
    "            # A pair of boolean values means if the interaction is stimulation and if it is inhibition, respectively [True, False] \n",
    "            if sign_check[0] == True and sign_check[1] == False:\n",
    "                sign = 'stimulation'\n",
    "            elif sign_check[0] == False and sign_check[1] == True: \n",
    "                sign = 'inhibition'\n",
    "            elif sign_check[0] == True and sign_check[1] == True:\n",
    "                sign = 'stimulation_and_inhibition'\n",
    "            else:\n",
    "                sign = 'unknown'\n",
    "            if regulators_list[reg][\"label\"] not in already_explored:\n",
    "                new_to_be_explored.append(regulators_list[reg][\"label\"])\n",
    "            # ID, name, sign and provenance\n",
    "            network_sif.append({\"source_id\":regulators_list[reg][\"name\"], \"source_name\":regulators_list[reg][\"label\"], \\\n",
    "                \"provenance\":list(regulators_list[reg][\"sources\"]), \"target_name\":gene, \"sign\":sign})\n",
    "    current_depth += 1\n",
    "    print(\"Depth explored\")\n",
    "    _upstream_signaling(pa, max_depth, new_to_be_explored, already_explored, current_depth, network_sif)\n",
    "    return network_sif\n",
    "\n",
    "\n",
    "def _print_to_csv(network, output_path):\n",
    "    \"\"\"\n",
    "    Param: network\n",
    "    \"\"\"\n",
    "    f = open(output_path, \"w+\")\n",
    "    # set headers\n",
    "    f.write(\"source_id,source_name,target_name,sign,provenance\\n\")\n",
    "    for e in network:\n",
    "        f.write(e['source_id'] + \",\")\n",
    "        f.write(e['source_name'] + \",\")\n",
    "        f.write(e['target_name'] + \",\")\n",
    "        f.write(e['sign'] + \",\")\n",
    "        f.write(str(' '.join(e['provenance'])) + \"\\n\")\n",
    "    f.close()"
   ]
  },
  {
   "cell_type": "markdown",
   "metadata": {},
   "source": [
    "## 2. Configuration"
   ]
  },
  {
   "cell_type": "code",
   "execution_count": 1,
   "metadata": {},
   "outputs": [],
   "source": [
    "MAX_DEPTH = 8\n",
    "INPUT_GENES = []\n",
    "inputfile_path = 'input-910.csv'\n",
    "outfile_path = 'md08-pypath_omnipathDB.csv'"
   ]
  },
  {
   "cell_type": "markdown",
   "metadata": {},
   "source": [
    "## 3. Read input file"
   ]
  },
  {
   "cell_type": "code",
   "execution_count": null,
   "metadata": {
    "collapsed": true
   },
   "outputs": [],
   "source": [
    "with open(inputfile_path, 'rt') as csvfile:\n",
    "\tspamreader = csv.reader(csvfile, delimiter=',', quotechar='\"')\n",
    "\tfor row in spamreader:\n",
    "\t\tINPUT_GENES.append(row[0])"
   ]
  }
 ],
 "metadata": {
  "celltoolbar": "Format de la Cellule Texte Brut",
  "kernelspec": {
   "display_name": "Python 3",
   "language": "python",
   "name": "python3"
  },
  "language_info": {
   "codemirror_mode": {
    "name": "ipython",
    "version": 2
   },
   "file_extension": ".py",
   "mimetype": "text/x-python",
   "name": "python",
   "nbconvert_exporter": "python",
   "pygments_lexer": "ipython2",
   "version": "2.7.13"
  }
 },
 "nbformat": 4,
 "nbformat_minor": 2
}
