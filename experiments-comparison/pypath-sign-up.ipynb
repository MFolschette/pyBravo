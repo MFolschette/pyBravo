{
 "cells": [
  {
   "cell_type": "markdown",
   "metadata": {},
   "source": [
    "Upstream signaling network reconstruction\n",
    "===============================\n",
    "\n",
    "The following code use [pyPath library](https://github.com/saezlab/pypath) to reconstruct signaling network from a list of biological entities (csv format) and querying [OmnipathDB](http://omnipathdb.org/).\n",
    "\n",
    "## 1. Load function\n",
    "\n",
    "Import modules:"
   ]
  },
  {
   "cell_type": "code",
   "execution_count": 1,
   "metadata": {},
   "outputs": [
    {
     "name": "stdout",
     "output_type": "stream",
     "text": [
      "\t:: No MySQL support.\n",
      "\t:: No MySQL support.\n",
      "\t:: Module `fabric` not available.\n",
      "\t:: Module `hcluster` not available.\n"
     ]
    }
   ],
   "source": [
    "#!/usr/bin/env python\n",
    "import csv\n",
    "import time\n",
    "import pypath\n",
    "from pypath import curl\n",
    "from pypath import data_formats"
   ]
  },
  {
   "cell_type": "code",
   "execution_count": 2,
   "metadata": {},
   "outputs": [],
   "source": [
    "def _upstream_signaling(pa, max_depth, to_be_explore, already_explored=[], current_depth=0, network_sif = []):\n",
    "    \"\"\"\n",
    "    Param:\n",
    "    pa: pypath env, \n",
    "    max_depth: maximum level of reconstruction, \n",
    "    to_be_explore: list of entities, \n",
    "    already_explored=[], \n",
    "    current_depth=0, \n",
    "    network_sif = []\n",
    "    \"\"\"\n",
    "    \n",
    "    # Stopping criteria 1\n",
    "    if current_depth >= max_depth:\n",
    "        print(\"Exploring alted due to maximum depth\")\n",
    "        return network_sif\n",
    "    else:\n",
    "        print('Exploration depth ' + str(current_depth))\n",
    "    # Stopping criteria 2\n",
    "    if len(to_be_explore) == 0:\n",
    "        print(\"Exploring done\")\n",
    "        return(network_sif)\n",
    "    # Start exploring\n",
    "    new_to_be_explored = []\n",
    "    for gene in to_be_explore:\n",
    "        # get entity that get affected by MYC using vertex object (inhibition, stimulation or other)\n",
    "        regulators_list = list(pa.gs_affects(gene))\n",
    "        already_explored.append(gene)\n",
    "        # get direction and sign of interation\n",
    "        for reg in range(len(regulators_list)):\n",
    "            # direction and sign\n",
    "            edge = pa.get_edge(regulators_list[reg][\"name\"], gene)\n",
    "            dirs = edge['dirs']\n",
    "            sign_check = dirs.get_sign(dirs.reverse) # reverse: source ===> target\n",
    "            # A pair of boolean values means if the interaction is stimulation and if it is inhibition, respectively [True, False] \n",
    "            if sign_check[0] == True and sign_check[1] == False:\n",
    "                sign = 'stimulation'\n",
    "            elif sign_check[0] == False and sign_check[1] == True: \n",
    "                sign = 'inhibition'\n",
    "            elif sign_check[0] == True and sign_check[1] == True:\n",
    "                sign = 'stimulation_and_inhibition'\n",
    "            else:\n",
    "                sign = 'unknown'\n",
    "            if regulators_list[reg][\"label\"] not in already_explored:\n",
    "                new_to_be_explored.append(regulators_list[reg][\"label\"])\n",
    "            # ID, name, sign and provenance\n",
    "            network_sif.append({\"source_id\":regulators_list[reg][\"name\"], \"source_name\":regulators_list[reg][\"label\"], \\\n",
    "                \"provenance\":list(regulators_list[reg][\"sources\"]), \"target_name\":gene, \"sign\":sign})\n",
    "    current_depth += 1\n",
    "    print(\"Depth explored\")\n",
    "    _upstream_signaling(pa, max_depth, new_to_be_explored, already_explored, current_depth, network_sif)\n",
    "    return network_sif\n",
    "\n",
    "\n",
    "def _print_to_csv(network, output_path):\n",
    "    \"\"\"\n",
    "    Param: network, path of output file\n",
    "    \"\"\"\n",
    "    f = open(output_path, \"w+\")\n",
    "    # set headers\n",
    "    f.write(\"source_id,source_name,target_name,sign,provenance\\n\")\n",
    "    for e in network:\n",
    "        f.write(e['source_id'] + \",\")\n",
    "        f.write(e['source_name'] + \",\")\n",
    "        f.write(e['target_name'] + \",\")\n",
    "        f.write(e['sign'] + \",\")\n",
    "        f.write(str(' '.join(e['provenance'])) + \"\\n\")\n",
    "    f.close()\n",
    "\n",
    "def _get_stats(network, input_list, stats_output):\n",
    "    \"\"\"\n",
    "    Param: network, list of input entities, output file path\n",
    "    \"\"\"\n",
    "    f = open(stats_output, \"w+\")\n",
    "    nodes = []\n",
    "    edges = 0\n",
    "    cov = 0\n",
    "    for e in network:\n",
    "        nodes.append(e['source_name'])\n",
    "        nodes.append(e['target_name'])\n",
    "        edges = edges + 1\n",
    "    for i in input_list:\n",
    "        if i in nodes:\n",
    "            cov = cov + 1\n",
    "    f.write(\"number of nodes,number of edges,input belonging to output,coverage\\n\")\n",
    "    f.write(str(len(set(nodes))) + \",\")\n",
    "    f.write(str(edges) + \",\")\n",
    "    f.write(str(cov) + \",\")\n",
    "    f.write(str(cov*100/len(input_list)) + \"\\n\")\n",
    "    f.close()\n"
   ]
  },
  {
   "cell_type": "markdown",
   "metadata": {},
   "source": [
    "## 2. Configuration"
   ]
  },
  {
   "cell_type": "code",
   "execution_count": 3,
   "metadata": {},
   "outputs": [],
   "source": [
    "MAX_DEPTH = 8\n",
    "INPUT_GENES = []\n",
    "inputfile_path = 'input-910.csv'\n",
    "outfile_path = 'md08-pypath_omnipathDB.csv'\n",
    "stats_path = 'md010-stats.csv'"
   ]
  },
  {
   "cell_type": "markdown",
   "metadata": {},
   "source": [
    "## 3. Read input file"
   ]
  },
  {
   "cell_type": "code",
   "execution_count": 4,
   "metadata": {},
   "outputs": [],
   "source": [
    "with open(inputfile_path, 'rt') as csvfile:\n",
    "    spamreader = csv.reader(csvfile, delimiter=',', quotechar='\"')\n",
    "    for row in spamreader:\n",
    "        INPUT_GENES.append(row[0])"
   ]
  },
  {
   "cell_type": "markdown",
   "metadata": {},
   "source": [
    "## 4. Main"
   ]
  },
  {
   "cell_type": "code",
   "execution_count": 5,
   "metadata": {},
   "outputs": [
    {
     "name": "stdout",
     "output_type": "stream",
     "text": [
      "\n",
      "\t=== d i s c l a i m e r ===\n",
      "\n",
      "\tAll data coming with this module\n",
      "\teither as redistributed copy or downloaded using the\n",
      "\tprogrammatic interfaces included in the present module\n",
      "\tare available under public domain, are free to use at\n",
      "\tleast for academic research or education purposes.\n",
      "\tPlease be aware of the licences of all the datasets\n",
      "\tyou use in your analysis, and please give appropriate\n",
      "\tcredits for the original sources when you publish your\n",
      "\tresults. To find out more about data sources please\n",
      "\tlook at `pypath.descriptions` and\n",
      "\t`pypath.data_formats.urls`.\n",
      "\n",
      "\t> New session started,\n",
      "\tsession ID: 'dr8gc'\n",
      "\tlogfile: './log/dr8gc.log'\n",
      "\tpypath version: 0.7.120\n"
     ]
    },
    {
     "name": "stderr",
     "output_type": "stream",
     "text": [
      "        Downloading `` from www.uniprot.org -- 0.00B downloaded: : 1.34Mit [00:24, 31.4kit/s]\n"
     ]
    },
    {
     "name": "stdout",
     "output_type": "stream",
     "text": [
      "\t:: Ready. Resulted `plain text` of type unicode string.                                                                                              \n",
      "\t:: Local file at `/home/mlefebvre/.pypath/cache/582ab5c0b5fffa42fb3e8d1757901ea1-`.\n",
      " > TRIP\n",
      "\t:: Loading data from cache previously downloaded from www.trpchannel.org\n",
      "\t:: Ready. Resulted `plain text` of type unicode string.                                                                                              \n",
      "\t:: Local file at `/home/mlefebvre/.pypath/cache/fe747bcda0777e9f7cd8b1ab47db1538-show`.\n",
      "\t\tcould not find uniprot for Gơq/11\n",
      "\t\tcould not find uniprot for Ƣ-tubulin-5\n",
      "\t\tcould not find uniprot for ơ-actinin\n",
      "\t\tcould not find uniprot for ơ-actinin-1\n",
      "\t\tcould not find uniprot for ơ1-syntrophin\n",
      "\t\tcould not find uniprot for PLCƣ1\n",
      "\t\tcould not find uniprot for VAMP\n",
      "\t\tcould not find uniprot for Homer\n"
     ]
    },
    {
     "name": "stderr",
     "output_type": "stream",
     "text": [
      "        Downloading `show` from www.trpchannel.org -- 0.00B downloaded: : 125kit [00:01, 21.1kit/s]\n"
     ]
    },
    {
     "name": "stdout",
     "output_type": "stream",
     "text": [
      "\t:: Ready. Resulted `plain text` of type unicode string.                                                                                              \n",
      "\t:: Local file at `/home/mlefebvre/.pypath/cache/cb1a9773e75b45415423b000eb70a4a4-show`.\n",
      "\t\tcould not find uniprot for TRPC2\n",
      "\t:: Loading data from cache previously downloaded from www.trpchannel.org\n",
      "\t:: Ready. Resulted `plain text` of type unicode string.                                                                                              \n",
      "\t:: Local file at `/home/mlefebvre/.pypath/cache/76731af40f25e153c424547e40373728-show`.\n",
      "\t\tcould not find uniprot for 14-3-3 protein Ƣ/ơ\n",
      "\t\tcould not find uniprot for 14-3-3 protein ƥ\n",
      "\t\tcould not find uniprot for 14-3-3 protein Ƨ\n",
      "\t\tcould not find uniprot for ATP synthase Ƣ\n",
      "\t\tcould not find uniprot for Gơq\n",
      "\t\tcould not find uniprot for Gz-ơ\n",
      "\t\tcould not find uniprot for NKAơ1\n",
      "\t\tcould not find uniprot for NKAơ2\n",
      "\t\tcould not find uniprot for NKAơ3\n",
      "\t\tcould not find uniprot for ơSNAP\n",
      "\t\tcould not find uniprot for PKCƢ\n",
      "\t\tcould not find uniprot for PLCƢ1\n",
      "\t\tcould not find uniprot for PLCƣ2\n",
      "\t\tcould not find uniprot for PLCƢ2\n",
      "\t\tcould not find uniprot for PLCƢ3\n",
      "\t\tcould not find uniprot for RyR\n",
      "\t:: Loading data from cache previously downloaded from www.trpchannel.org\n",
      "\t:: Ready. Resulted `plain text` of type unicode string.                                                                                              \n",
      "\t:: Local file at `/home/mlefebvre/.pypath/cache/66325b3451fbe1d75a70d463396b725c-show`.\n",
      "\t\tcould not find uniprot for Gơi2\n",
      "\t\tcould not find uniprot for Ƣ-catenin\n",
      "\t\tcould not find uniprot for ƢV-spectrin\n",
      "\t\tcould not find uniprot for ơII-spectrin\n",
      "\t\tcould not find uniprot for SHANK\n",
      "\t:: Loading data from cache previously downloaded from www.trpchannel.org\n",
      "\t:: Ready. Resulted `plain text` of type unicode string.                                                                                              \n",
      "\t:: Local file at `/home/mlefebvre/.pypath/cache/c5f2ffd31855a92f7e488289af6d958a-show`.\n",
      "\t\tcould not find uniprot for CaMKIIƢ\n",
      "\t\tcould not find uniprot for Gơi3\n",
      "\t\tcould not find uniprot for ƢII-spectrin\n",
      "\t\tcould not find uniprot for ƢIII-spectrin\n",
      "\t\tcould not find uniprot for ơ-actinin-4\n",
      "\t\tcould not find uniprot for ơ2-actin\n",
      "\t:: Loading data from cache previously downloaded from www.trpchannel.org\n",
      "\t:: Ready. Resulted `plain text` of type unicode string.                                                                                              \n",
      "\t:: Local file at `/home/mlefebvre/.pypath/cache/ce6ceb6edff7641e5526d53c5a68f460-show`.\n",
      "\t\tcould not find uniprot for PKCơ\n",
      "\t\tcould not find uniprot for TRPC2\n",
      "\t:: Loading data from cache previously downloaded from www.trpchannel.org\n",
      "\t:: Ready. Resulted `plain text` of type unicode string.                                                                                              \n",
      "\t:: Local file at `/home/mlefebvre/.pypath/cache/7f61ed4b9bf1b751d96529758c866ce5-show`.\n"
     ]
    },
    {
     "name": "stderr",
     "output_type": "stream",
     "text": [
      "        Downloading `show` from www.trpchannel.org -- 0.00B downloaded: : 383kit [00:02, 20.9kit/s]\n"
     ]
    },
    {
     "name": "stdout",
     "output_type": "stream",
     "text": [
      "\t:: Ready. Resulted `plain text` of type unicode string.                                                                                              \n",
      "\t:: Local file at `/home/mlefebvre/.pypath/cache/07a8b3ce8b01eb8c5b54e58fac2278f5-show`.\n",
      "\t\tcould not find uniprot for Actin\n",
      "\t\tcould not find uniprot for Akt\n",
      "\t\tcould not find uniprot for AMPKơ2\n",
      "\t\tcould not find uniprot for CaMKII\n",
      "\t\tcould not find uniprot for Catenin-ơ2\n",
      "\t\tcould not find uniprot for Catenin-Ƥ2\n",
      "\t\tcould not find uniprot for Ƣ-arrestin 2\n",
      "\t\tcould not find uniprot for Ƣ-tubulin-3\n",
      "\t\tcould not find uniprot for KPNƢ1\n",
      "\t\tcould not find uniprot for KvƢ2\n",
      "\t\tcould not find uniprot for ơ-tubulin-1A\n",
      "\t\tcould not find uniprot for ơ-tubulin-1B\n",
      "\t\tcould not find uniprot for ơENaC\n",
      "\t\tcould not find uniprot for PI3K-p85Ƣ\n",
      "\t\tcould not find uniprot for PI3K-p85ơ\n",
      "\t\tcould not find uniprot for PKARIIơ\n",
      "\t\tcould not find uniprot for PKC\n",
      "\t\tcould not find uniprot for PKCƥ\n",
      "\t\tcould not find uniprot for PPARơ\n",
      "\t\tcould not find uniprot for PRKD1/PKCƬ\n",
      "\t\tcould not find uniprot for Tubulin\n",
      "\t:: Loading data from cache previously downloaded from www.trpchannel.org\n",
      "\t:: Ready. Resulted `plain text` of type unicode string.                                                                                              \n",
      "\t:: Local file at `/home/mlefebvre/.pypath/cache/788e78790c8b92e236360a36dfcc1256-show`.\n",
      "\t:: Loading data from cache previously downloaded from www.trpchannel.org\n",
      "\t:: Ready. Resulted `plain text` of type unicode string.                                                                                              \n",
      "\t:: Local file at `/home/mlefebvre/.pypath/cache/7ead76a9f4f53bed612d584d81532e75-show`.\n",
      "\t:: Loading data from cache previously downloaded from www.trpchannel.org\n",
      "\t:: Ready. Resulted `plain text` of type unicode string.                                                                                              \n",
      "\t:: Local file at `/home/mlefebvre/.pypath/cache/21482ce48ae07c59c560a6f88668cf17-show`.\n",
      "\t\tcould not find uniprot for ƣ-actin\n",
      "\t\tcould not find uniprot for Ƣ-actin\n",
      "\t\tcould not find uniprot for Ƣ-arrestin 1\n",
      "\t\tcould not find uniprot for ơ2-integrin\n"
     ]
    },
    {
     "name": "stderr",
     "output_type": "stream",
     "text": [
      "        Downloading `show` from www.trpchannel.org -- 0.00B downloaded: : 166kit [00:01, 20.3kit/s]\n"
     ]
    },
    {
     "name": "stdout",
     "output_type": "stream",
     "text": [
      "\t:: Ready. Resulted `plain text` of type unicode string.                                                                                              \n",
      "\t:: Local file at `/home/mlefebvre/.pypath/cache/227671676e74327da717392ec065629c-show`.\n",
      "\t:: Loading data from cache previously downloaded from www.trpchannel.org\n",
      "\t:: Ready. Resulted `plain text` of type unicode string.                                                                                              \n",
      "\t:: Local file at `/home/mlefebvre/.pypath/cache/00bdaab72698946e2c53a3ba1e161996-show`.\n"
     ]
    },
    {
     "name": "stderr",
     "output_type": "stream",
     "text": [
      "        Downloading `show` from www.trpchannel.org -- 0.00B downloaded: : 82.8kit [00:01, 13.6kit/s]\n"
     ]
    },
    {
     "name": "stdout",
     "output_type": "stream",
     "text": [
      "\t:: Ready. Resulted `plain text` of type unicode string.                                                                                              \n",
      "\t:: Local file at `/home/mlefebvre/.pypath/cache/fecb73d49aba8341fc1db62417212ff8-show`.\n"
     ]
    },
    {
     "name": "stderr",
     "output_type": "stream",
     "text": [
      "        Downloading `show` from www.trpchannel.org -- 0.00B downloaded: : 100kit [00:01, 16.6kit/s]\n"
     ]
    },
    {
     "name": "stdout",
     "output_type": "stream",
     "text": [
      "\t:: Ready. Resulted `plain text` of type unicode string.                                                                                              \n",
      "\t:: Local file at `/home/mlefebvre/.pypath/cache/a358ff6a4e27f47cf3ee45365f6ac052-show`.\n",
      "\t:: Loading data from cache previously downloaded from www.trpchannel.org\n",
      "\t:: Ready. Resulted `plain text` of type unicode string.                                                                                              \n",
      "\t:: Local file at `/home/mlefebvre/.pypath/cache/adf5d53c1038cdf2a3c0935761f240ab-show`.\n",
      "\t:: Loading data from cache previously downloaded from www.trpchannel.org\n",
      "\t:: Ready. Resulted `plain text` of type unicode string.                                                                                              \n",
      "\t:: Local file at `/home/mlefebvre/.pypath/cache/d06c932e82cdc2a2073b1dcd1f3a4de6-show`.\n",
      "\t\tcould not find uniprot for 14-3-3ƣ\n",
      "\t\tcould not find uniprot for ƣENaC\n"
     ]
    },
    {
     "name": "stderr",
     "output_type": "stream",
     "text": [
      "        Downloading `show` from www.trpchannel.org -- 0.00B downloaded: : 57.0kit [00:01, 14.0kit/s]\n"
     ]
    },
    {
     "name": "stdout",
     "output_type": "stream",
     "text": [
      "\t:: Ready. Resulted `plain text` of type unicode string.                                                                                              \n",
      "\t:: Local file at `/home/mlefebvre/.pypath/cache/2d43a4d3fbf33eefd82daa86efe3622f-show`.\n"
     ]
    },
    {
     "name": "stderr",
     "output_type": "stream",
     "text": [
      "        Downloading `show` from www.trpchannel.org -- 0.00B downloaded: : 97.5kit [00:01, 17.5kit/s]\n"
     ]
    },
    {
     "name": "stdout",
     "output_type": "stream",
     "text": [
      "\t:: Ready. Resulted `plain text` of type unicode string.                                                                                              \n",
      "\t:: Local file at `/home/mlefebvre/.pypath/cache/4eda1e60f9b24541231a1253f943b8e0-show`.\n",
      "\t:: Loading data from cache previously downloaded from www.trpchannel.org\n",
      "\t:: Ready. Resulted `plain text` of type unicode string.                                                                                              \n",
      "\t:: Local file at `/home/mlefebvre/.pypath/cache/2363983add5b88011be3eec09f638a05-show`.\n",
      "\t\tcould not find uniprot for PLCƤ1\n"
     ]
    },
    {
     "name": "stderr",
     "output_type": "stream",
     "text": [
      "        Downloading `show` from www.trpchannel.org -- 0.00B downloaded: : 99.7kit [00:01, 21.9kit/s]\n"
     ]
    },
    {
     "name": "stdout",
     "output_type": "stream",
     "text": [
      "\t:: Ready. Resulted `plain text` of type unicode string.                                                                                              \n",
      "\t:: Local file at `/home/mlefebvre/.pypath/cache/b1448c259747e453e680439cf5c5cb91-show`.\n"
     ]
    },
    {
     "name": "stderr",
     "output_type": "stream",
     "text": [
      "        Downloading `show` from www.trpchannel.org -- 0.00B downloaded: : 197kit [00:01, 21.6kit/s]\n"
     ]
    },
    {
     "name": "stdout",
     "output_type": "stream",
     "text": [
      "\t:: Ready. Resulted `plain text` of type unicode string.                                                                                              \n",
      "\t:: Local file at `/home/mlefebvre/.pypath/cache/cb9900b1b9f2cef7716d2c6f40942f89-show`.\n",
      "\t\tcould not find uniprot for NovelProtein/NP9\n",
      "\t\tcould not find uniprot for Unnamed protein (BAE)\n",
      "\t:: Loading data from cache previously downloaded from www.trpchannel.org\n",
      "\t:: Ready. Resulted `plain text` of type unicode string.                                                                                              \n",
      "\t:: Local file at `/home/mlefebvre/.pypath/cache/69788e06e95a5311786f04508170199e-show`.\n",
      "\t:: Loading data from cache previously downloaded from www.trpchannel.org\n",
      "\t:: Ready. Resulted `plain text` of type unicode string.                                                                                              \n",
      "\t:: Local file at `/home/mlefebvre/.pypath/cache/91bcafcd37e96d2c2a27763379b66f16-show`.\n",
      "\t:: Loading data from cache previously downloaded from www.trpchannel.org\n",
      "\t:: Ready. Resulted `plain text` of type unicode string.                                                                                              \n",
      "\t:: Local file at `/home/mlefebvre/.pypath/cache/62a420224285648723fa67eb83a988b9-show`.\n",
      "\t\tcould not find uniprot for eIF2ơ\n",
      "\t\tcould not find uniprot for ƣ-adaptin\n",
      "\t\tcould not find uniprot for Ƣ-Trcp1\n",
      "\t\tcould not find uniprot for Ƣ-Trcp2\n",
      "\t\tcould not find uniprot for H2-D1\n",
      "\t\tcould not find uniprot for H2-K1\n",
      "\t\tcould not find uniprot for ơ-actinin-2\n"
     ]
    },
    {
     "name": "stderr",
     "output_type": "stream",
     "text": [
      "        Downloading `show` from www.trpchannel.org -- 0.00B downloaded: : 122kit [00:01, 21.1kit/s]\n"
     ]
    },
    {
     "name": "stdout",
     "output_type": "stream",
     "text": [
      "\t:: Ready. Resulted `plain text` of type unicode string.                                                                                              \n",
      "\t:: Local file at `/home/mlefebvre/.pypath/cache/80ba011a21cfecb35f405c1a1e49aecb-show`.\n"
     ]
    },
    {
     "name": "stderr",
     "output_type": "stream",
     "text": [
      "        Downloading `show` from www.trpchannel.org -- 0.00B downloaded: : 87.2kit [00:01, 12.4kit/s]\n"
     ]
    },
    {
     "name": "stdout",
     "output_type": "stream",
     "text": [
      "\t:: Ready. Resulted `plain text` of type unicode string.                                                                                              \n",
      "\t:: Local file at `/home/mlefebvre/.pypath/cache/909a3c98fd81f2a635605bcc0c5a268c-show`.\n",
      "\t:: Loading data from cache previously downloaded from www.trpchannel.org\n",
      "\t:: Ready. Resulted `plain text` of type unicode string.                                                                                              \n",
      "\t:: Local file at `/home/mlefebvre/.pypath/cache/adb2b5376d5b4e53192c2bef37d3c492-show`.\n",
      "\t:: Loading 'uniprot-sec' to 'uniprot-pri' mapping table\n"
     ]
    },
    {
     "name": "stderr",
     "output_type": "stream",
     "text": [
      "        Downloading `` from www.uniprot.org -- 0.00B downloaded: : 0.00it [00:00, ?it/s]\n"
     ]
    },
    {
     "name": "stdout",
     "output_type": "stream",
     "text": [
      "\t:: Ready. Resulted `plain text` of type unicode string.                                                                                              \n",
      "\t:: Local file at `/home/mlefebvre/.pypath/cache/15ff42ede8eb6a22b432a886075c2203-`.\n"
     ]
    },
    {
     "name": "stderr",
     "output_type": "stream",
     "text": [
      "        Downloading `sec_ac.txt` from ftp.uniprot.org -- 29.32MB downloaded: 100%|██████████| 29.3M/29.3M [00:10<00:00, 2.33Mit/s]\n"
     ]
    },
    {
     "name": "stdout",
     "output_type": "stream",
     "text": [
      "\t:: Ready. Resulted `plain text` of type file object.                                                                                                 \n",
      "\t:: Local file at `/home/mlefebvre/.pypath/cache/49314fe217bf0f2a5544a2c4314b4adf-sec_ac.txt`.\n"
     ]
    },
    {
     "name": "stderr",
     "output_type": "stream",
     "text": [
      "        Reading from file -- finished: : 0.00it [00:00, ?it/s]\n"
     ]
    },
    {
     "name": "stdout",
     "output_type": "stream",
     "text": [
      "\t:: Loading 'genesymbol' to 'trembl' mapping table\n"
     ]
    },
    {
     "name": "stderr",
     "output_type": "stream",
     "text": [
      "        Downloading `` from www.uniprot.org -- 0.00B downloaded: : 2.03Mit [00:34, 69.9kit/s]\n"
     ]
    },
    {
     "name": "stdout",
     "output_type": "stream",
     "text": [
      "\t:: Ready. Resulted `plain text` of type unicode string.                                                                                              \n",
      "\t:: Local file at `/home/mlefebvre/.pypath/cache/ef6ae0ad05e8af48aff2d74a77bd4520-`.\n"
     ]
    },
    {
     "name": "stderr",
     "output_type": "stream",
     "text": [
      "        Processing nodes -- finished: 100%|██████████| 370/370 [00:00<00:00, 71.8kit/s]\n",
      "        Processing edges -- finished: 100%|██████████| 370/370 [00:00<00:00, 47.1kit/s]\n",
      "        Processing attributes -- finished: 100%|██████████| 370/370 [00:00<00:00, 3.93kit/s]\n"
     ]
    },
    {
     "name": "stdout",
     "output_type": "stream",
     "text": [
      " > SPIKE\n",
      "\t:: Loading data from cache previously downloaded from www.cs.tau.ac.il\n",
      "\t:: Extracting zip data                                                                                                                               \n",
      "\t:: Error in `pypath.dataio.spike_interactions()`. Skipping to next resource.\n",
      "\t:: ('File is not a zip file',)\n",
      "  File \"/home/mlefebvre/anaconda2/envs/pybravo/lib/python3.6/site-packages/pypath/main.py\", line 2284, in read_data_file\n",
      "    infile = inputFunc(**settings.inputArgs)\n",
      "  File \"/home/mlefebvre/anaconda2/envs/pybravo/lib/python3.6/site-packages/pypath/dataio.py\", line 7639, in spike_interactions\n",
      "    url, silent=False, large=True, files_needed=['LatestSpikeDB.xml'])\n",
      "  File \"/home/mlefebvre/anaconda2/envs/pybravo/lib/python3.6/site-packages/pypath/curl.py\", line 770, in __init__\n",
      "    self.process_file()\n",
      "  File \"/home/mlefebvre/anaconda2/envs/pybravo/lib/python3.6/site-packages/pypath/curl.py\", line 1221, in process_file\n",
      "    self.extract_file()\n",
      "  File \"/home/mlefebvre/anaconda2/envs/pybravo/lib/python3.6/site-packages/pypath/curl.py\", line 1243, in extract_file\n",
      "    self.extract()\n",
      "  File \"/home/mlefebvre/anaconda2/envs/pybravo/lib/python3.6/site-packages/pypath/curl.py\", line 564, in extract\n",
      "    getattr(self, 'open_%s' % self.type)()\n",
      "  File \"/home/mlefebvre/anaconda2/envs/pybravo/lib/python3.6/site-packages/pypath/curl.py\", line 604, in open_zip\n",
      "    self.zipfile = zipfile.ZipFile(self.fileobj, 'r')\n",
      "  File \"/home/mlefebvre/anaconda2/envs/pybravo/lib/python3.6/zipfile.py\", line 1131, in __init__\n",
      "    self._RealGetContents()\n",
      "  File \"/home/mlefebvre/anaconda2/envs/pybravo/lib/python3.6/zipfile.py\", line 1198, in _RealGetContents\n",
      "    raise BadZipFile(\"File is not a zip file\")\n",
      "\n",
      "\t### ERROR ###### spike_interactions: No such file or dataio function! :(      \n",
      " > SignaLink3\n"
     ]
    },
    {
     "name": "stderr",
     "output_type": "stream",
     "text": [
      "        Reading file -- finished: 100%|██████████| 16.3M/16.3M [00:01<00:00, 12.1Mit/s]\n"
     ]
    },
    {
     "name": "stdout",
     "output_type": "stream",
     "text": [
      "\t:: Loading 'genesymbol' to 'swissprot' mapping table\n"
     ]
    },
    {
     "name": "stderr",
     "output_type": "stream",
     "text": [
      "        Downloading `` from www.uniprot.org -- 0.00B downloaded: : 277kit [00:11, 21.8kit/s]\n"
     ]
    },
    {
     "name": "stdout",
     "output_type": "stream",
     "text": [
      "\t:: Ready. Resulted `plain text` of type unicode string.                                                                                              \n",
      "\t:: Local file at `/home/mlefebvre/.pypath/cache/c4e5738ebca52db4a3ebc6b5b07757e9-`.\n",
      "\t:: Loading 'genesymbol-syn' to 'swissprot' mapping table\n"
     ]
    },
    {
     "name": "stderr",
     "output_type": "stream",
     "text": [
      "        Downloading `` from www.uniprot.org -- 0.00B downloaded: : 292kit [00:11, 27.4kit/s]\n"
     ]
    },
    {
     "name": "stdout",
     "output_type": "stream",
     "text": [
      "\t:: Ready. Resulted `plain text` of type unicode string.                                                                                              \n",
      "\t:: Local file at `/home/mlefebvre/.pypath/cache/8927495f7a090077145f56f74d2842c4-`.\n",
      "\t:: Loading 'genesymbol' to 'uniprot' mapping table\n"
     ]
    },
    {
     "name": "stderr",
     "output_type": "stream",
     "text": [
      "        Downloading `` from www.uniprot.org -- 0.00B downloaded: : 277kit [00:09, 25.8kit/s]\n"
     ]
    },
    {
     "name": "stdout",
     "output_type": "stream",
     "text": [
      "\t:: Ready. Resulted `plain text` of type unicode string.                                                                                              \n",
      "\t:: Local file at `/home/mlefebvre/.pypath/cache/c4e5738ebca52db4a3ebc6b5b07757e9-`.\n"
     ]
    },
    {
     "name": "stderr",
     "output_type": "stream",
     "text": [
      "        Processing nodes -- finished: 100%|██████████| 6.94k/6.94k [00:00<00:00, 195kit/s]\n",
      "        Processing edges -- finished: 100%|██████████| 6.94k/6.94k [00:00<00:00, 26.4kit/s]\n",
      "        Processing attributes -- finished: 100%|██████████| 6.94k/6.94k [00:03<00:00, 1.97kit/s]\n"
     ]
    },
    {
     "name": "stdout",
     "output_type": "stream",
     "text": [
      " > Guide2Pharma\n"
     ]
    },
    {
     "name": "stderr",
     "output_type": "stream",
     "text": [
      "        Downloading `interactions.csv` from www.guidetopharmacology.org -- 3.69MB downloaded: : 3.91Mit [00:02, 1.90Mit/s]                         \n"
     ]
    },
    {
     "name": "stdout",
     "output_type": "stream",
     "text": [
      "\t:: Ready. Resulted `plain text` of type file object.                                                                                                 \n",
      "\t:: Local file at `/home/mlefebvre/.pypath/cache/61ddc6eb0ff8ef877c52f5d1a81b9db2-interactions.csv`.\n"
     ]
    },
    {
     "name": "stderr",
     "output_type": "stream",
     "text": [
      "        Processing nodes -- finished: : 0.00it [00:00, ?it/s]\n",
      "        Processing edges -- finished: : 0.00it [00:00, ?it/s]\n",
      "        Processing attributes -- finished: : 0.00it [00:00, ?it/s]\n"
     ]
    },
    {
     "name": "stdout",
     "output_type": "stream",
     "text": [
      " > CA1\n"
     ]
    },
    {
     "name": "stderr",
     "output_type": "stream",
     "text": [
      "        Downloading `Maayan_SOM_External_Files.zip` from science.sciencemag.org -- 508.71kB downloaded: : 584kit [00:01, 325kit/s]                         \n"
     ]
    },
    {
     "name": "stdout",
     "output_type": "stream",
     "text": [
      "\t:: Ready. Resulted `zip extracted data` of type dict of unicode strings.                                                                             \n",
      "\t:: Local file at `/home/mlefebvre/.pypath/cache/a221dcf8846ad398634f9997a1011b9e-Maayan_SOM_External_Files.zip`.\n"
     ]
    },
    {
     "name": "stderr",
     "output_type": "stream",
     "text": [
      "        Processing nodes -- finished: 100%|██████████| 1.48k/1.48k [00:00<00:00, 241kit/s]\n",
      "        Processing edges -- finished: 100%|██████████| 1.48k/1.48k [00:00<00:00, 122kit/s]\n",
      "        Processing attributes -- finished: 100%|██████████| 1.48k/1.48k [00:00<00:00, 2.59kit/s]\n"
     ]
    },
    {
     "name": "stdout",
     "output_type": "stream",
     "text": [
      " > ARN\n"
     ]
    },
    {
     "name": "stderr",
     "output_type": "stream",
     "text": [
      "        Processing nodes -- finished: 100%|██████████| 95.0/95.0 [00:00<00:00, 30.2kit/s]\n",
      "        Processing edges -- finished: 100%|██████████| 95.0/95.0 [00:00<00:00, 22.2kit/s]\n",
      "        Processing attributes -- finished: 100%|██████████| 95.0/95.0 [00:00<00:00, 1.57kit/s]\n"
     ]
    },
    {
     "name": "stdout",
     "output_type": "stream",
     "text": [
      " > NRF2ome\n"
     ]
    },
    {
     "name": "stderr",
     "output_type": "stream",
     "text": [
      "        Processing nodes -- finished: 100%|██████████| 109/109 [00:00<00:00, 32.2kit/s]\n",
      "        Processing edges -- finished: 100%|██████████| 109/109 [00:00<00:00, 16.4kit/s]\n",
      "        Processing attributes -- finished: 100%|██████████| 109/109 [00:00<00:00, 1.33kit/s]\n"
     ]
    },
    {
     "name": "stdout",
     "output_type": "stream",
     "text": [
      " > Macrophage\n"
     ]
    },
    {
     "name": "stderr",
     "output_type": "stream",
     "text": [
      "        Downloading `12918_2010_452_MOESM2_ESM.XLS` from static-content.springer.com -- 1.22MB downloaded: : 1.48Mit [00:00, 2.71Mit/s]                        \n"
     ]
    },
    {
     "name": "stdout",
     "output_type": "stream",
     "text": [
      "\t:: Ready. Resulted `plain text` of type file object.                                                                                                 \n",
      "\t:: Local file at `/home/mlefebvre/.pypath/cache/e7b73bcce14b977a3e384518d40f3637-12918_2010_452_MOESM2_ESM.XLS`.\n",
      "\t:: Loading 'genesymbol-syn' to 'uniprot' mapping table\n"
     ]
    },
    {
     "name": "stderr",
     "output_type": "stream",
     "text": [
      "        Processing nodes -- finished: 100%|██████████| 4.86k/4.86k [00:00<00:00, 374kit/s]\n",
      "        Processing edges -- finished: 100%|██████████| 4.86k/4.86k [00:00<00:00, 156kit/s]\n",
      "        Processing attributes -- finished: 100%|██████████| 4.86k/4.86k [00:00<00:00, 6.14kit/s]\n"
     ]
    },
    {
     "name": "stdout",
     "output_type": "stream",
     "text": [
      " > DeathDomain\n"
     ]
    },
    {
     "name": "stderr",
     "output_type": "stream",
     "text": [
      "        Downloading `show` from www.deathdomain.org -- 682.28kB downloaded: : 684kit [00:03, 175kit/s]                         \n"
     ]
    },
    {
     "name": "stdout",
     "output_type": "stream",
     "text": [
      "\t:: Ready. Resulted `plain text` of type unicode string.                                                                                              \n",
      "\t:: Local file at `/home/mlefebvre/.pypath/cache/13a21b2a1cae61e0b6ee14f0c6230507-show`.\n"
     ]
    },
    {
     "name": "stderr",
     "output_type": "stream",
     "text": [
      "        Downloading `show` from www.deathdomain.org -- 791.99kB downloaded: : 1.24Mit [00:02, 418kit/s]                        \n"
     ]
    },
    {
     "name": "stdout",
     "output_type": "stream",
     "text": [
      "\t:: Ready. Resulted `plain text` of type unicode string.                                                                                              \n",
      "\t:: Local file at `/home/mlefebvre/.pypath/cache/a8a54754a427fd1fd6c4a03cdf4f002f-show`.\n"
     ]
    },
    {
     "name": "stderr",
     "output_type": "stream",
     "text": [
      "        Downloading `show` from www.deathdomain.org -- 272.82kB downloaded: : 330kit [00:01, 176kit/s]                         \n"
     ]
    },
    {
     "name": "stdout",
     "output_type": "stream",
     "text": [
      "\t:: Ready. Resulted `plain text` of type unicode string.                                                                                              \n",
      "\t:: Local file at `/home/mlefebvre/.pypath/cache/a0fb2adccfb56fea33fc5666e3242485-show`.\n"
     ]
    },
    {
     "name": "stderr",
     "output_type": "stream",
     "text": [
      "        Downloading `show` from www.deathdomain.org -- 218.11kB downloaded: : 220kit [00:01, 120kit/s]                         \n"
     ]
    },
    {
     "name": "stdout",
     "output_type": "stream",
     "text": [
      "\t:: Ready. Resulted `plain text` of type unicode string.                                                                                              \n",
      "\t:: Local file at `/home/mlefebvre/.pypath/cache/16a30a05c470466ec3a7a59f7775c757-show`.\n"
     ]
    },
    {
     "name": "stderr",
     "output_type": "stream",
     "text": [
      "        Processing nodes -- finished: 100%|██████████| 236/236 [00:00<00:00, 44.6kit/s]\n",
      "        Processing edges -- finished: 100%|██████████| 236/236 [00:00<00:00, 40.9kit/s]\n",
      "        Processing attributes -- finished: 100%|██████████| 236/236 [00:00<00:00, 2.30kit/s]\n"
     ]
    },
    {
     "name": "stdout",
     "output_type": "stream",
     "text": [
      " > PDZBase\n"
     ]
    },
    {
     "name": "stderr",
     "output_type": "stream",
     "text": [
      "        Downloading `allinteractions` from abc.med.cornell.edu -- 433.27kB downloaded: : 578kit [00:01, 524kit/s]                         \n"
     ]
    },
    {
     "name": "stdout",
     "output_type": "stream",
     "text": [
      "\t:: Ready. Resulted `plain text` of type unicode string.                                                                                              \n",
      "\t:: Local file at `/home/mlefebvre/.pypath/cache/d16213901cd27de19ef825068fd8faa6-allinteractions`.\n"
     ]
    },
    {
     "name": "stderr",
     "output_type": "stream",
     "text": [
      "        Processing nodes -- finished: 100%|██████████| 125/125 [00:00<00:00, 33.4kit/s]\n",
      "        Processing edges -- finished: 100%|██████████| 125/125 [00:00<00:00, 29.9kit/s]\n",
      "        Processing attributes -- finished: 100%|██████████| 125/125 [00:00<00:00, 1.27kit/s]\n"
     ]
    },
    {
     "name": "stdout",
     "output_type": "stream",
     "text": [
      " > Signor\n"
     ]
    },
    {
     "name": "stderr",
     "output_type": "stream",
     "text": [
      "        Downloading `download_entity.php` from signor.uniroma2.it -- 0.00B downloaded: : 8.63Mit [00:03, 3.75Mit/s]\n"
     ]
    },
    {
     "name": "stdout",
     "output_type": "stream",
     "text": [
      "\t:: Ready. Resulted `plain text` of type file object.                                                                                                 \n",
      "\t:: Local file at `/home/mlefebvre/.pypath/cache/a357fe979f74a823bf4a42150a6dcf33-download_entity.php`.\n"
     ]
    },
    {
     "name": "stderr",
     "output_type": "stream",
     "text": [
      "        Processing nodes -- finished: 100%|██████████| 10.1k/10.1k [00:00<00:00, 188kit/s]\n",
      "        Processing edges -- finished: 100%|██████████| 10.1k/10.1k [00:00<00:00, 72.0kit/s]\n",
      "        Processing attributes -- finished: 100%|██████████| 10.1k/10.1k [00:06<00:00, 1.62kit/s]\n"
     ]
    },
    {
     "name": "stdout",
     "output_type": "stream",
     "text": [
      " > HPMR\n"
     ]
    },
    {
     "name": "stderr",
     "output_type": "stream",
     "text": [
      "        Downloading HPMR data -- finished: 100%|██████████| 1.27k/1.27k [21:56<00:00, 1.26it/s]\n",
      "        Processing nodes -- finished: 100%|██████████| 579/579 [00:00<00:00, 124kit/s]\n",
      "        Processing edges -- finished: 100%|██████████| 579/579 [00:00<00:00, 81.8kit/s]\n",
      "        Processing attributes -- finished: 100%|██████████| 579/579 [00:00<00:00, 922it/s]\n"
     ]
    },
    {
     "name": "stdout",
     "output_type": "stream",
     "text": [
      " > CellPhoneDB\n"
     ]
    },
    {
     "name": "stderr",
     "output_type": "stream",
     "text": [
      "        Downloading `interactions_cellphonedb.csv` from www.cellphonedb.org -- 128.54kB downloaded: : 214kit [00:00, 792kit/s]                        \n"
     ]
    },
    {
     "name": "stdout",
     "output_type": "stream",
     "text": [
      "\t:: Ready. Resulted `plain text` of type file object.                                                                                                 \n",
      "\t:: Local file at `/home/mlefebvre/.pypath/cache/142eb923569634ee61ca1d56843de13a-interactions_cellphonedb.csv`.\n"
     ]
    },
    {
     "name": "stderr",
     "output_type": "stream",
     "text": [
      "        Downloading `heterodimers.csv` from www.cellphonedb.org -- 54.27kB downloaded: : 109kit [00:00, 249kit/s]                          \n"
     ]
    },
    {
     "name": "stdout",
     "output_type": "stream",
     "text": [
      "\t:: Ready. Resulted `plain text` of type file object.                                                                                                 \n",
      "\t:: Local file at `/home/mlefebvre/.pypath/cache/183907e20d3c18bd773b7e085fc3a650-heterodimers.csv`.\n"
     ]
    },
    {
     "name": "stderr",
     "output_type": "stream",
     "text": [
      "        Processing nodes -- finished: 100%|██████████| 148/148 [00:00<00:00, 37.1kit/s]\n",
      "        Processing edges -- finished: 100%|██████████| 148/148 [00:00<00:00, 34.7kit/s]\n",
      "        Processing attributes -- finished: 100%|██████████| 148/148 [00:00<00:00, 1.14kit/s]\n"
     ]
    },
    {
     "name": "stdout",
     "output_type": "stream",
     "text": [
      " > Ramilowski2015\n"
     ]
    },
    {
     "name": "stderr",
     "output_type": "stream",
     "text": [
      "        Downloading `ncomms8866-s3.xlsx` from media.nature.com -- 0.00B downloaded: : 531kit [00:00, 291kit/s]\n"
     ]
    },
    {
     "name": "stdout",
     "output_type": "stream",
     "text": [
      "\t:: Ready. Resulted `plain text` of type file object.                                                                                                 \n",
      "\t:: Local file at `/home/mlefebvre/.pypath/cache/2a72408fb2700d17cff8c9b48701de70-ncomms8866-s3.xlsx`.\n"
     ]
    },
    {
     "name": "stderr",
     "output_type": "stream",
     "text": [
      "        Processing nodes -- finished: 100%|██████████| 341/341 [00:00<00:00, 108kit/s]\n",
      "        Processing edges -- finished: 100%|██████████| 341/341 [00:00<00:00, 54.5kit/s]\n",
      "        Processing attributes -- finished: 100%|██████████| 341/341 [00:00<00:00, 1.08kit/s]\n"
     ]
    },
    {
     "name": "stdout",
     "output_type": "stream",
     "text": [
      "\n",
      " :: Comparing with reference lists... done.\n",
      "\n",
      " > 12687 interactions between 4351 nodes\n",
      " from 12 resources have been loaded,\n",
      " for details see the log: ./log/dr8gc.log\n",
      "Exploration depth 0\n"
     ]
    },
    {
     "name": "stderr",
     "output_type": "stream",
     "text": [
      "        Setting directions -- finished: 100%|██████████| 12.7k/12.7k [00:18<00:00, 704it/s]\n"
     ]
    },
    {
     "name": "stdout",
     "output_type": "stream",
     "text": [
      "Depth explored\n",
      "Exploration depth 1\n",
      "Depth explored\n",
      "Exploration depth 2\n",
      "Depth explored\n",
      "Exploration depth 3\n",
      "Depth explored\n",
      "Exploration depth 4\n",
      "Depth explored\n",
      "Exploration depth 5\n",
      "Depth explored\n",
      "Exploration depth 6\n",
      "Depth explored\n",
      "Exploration depth 7\n",
      "Depth explored\n",
      "Exploring alted due to maximum depth\n",
      "--- Upstream signaling network in 39.32 seconds ---\n"
     ]
    }
   ],
   "source": [
    "# Init pypath\n",
    "pa = pypath.PyPath()\n",
    "\n",
    "# Load databases\n",
    "with curl.cache_off():\n",
    "   pa.load_resources(data_formats.pathway)\n"
   ]
  },
  {
   "cell_type": "code",
   "execution_count": 6,
   "metadata": {},
   "outputs": [
    {
     "name": "stdout",
     "output_type": "stream",
     "text": [
      "Exploration depth 0\n",
      "Depth explored\n",
      "Exploration depth 1\n",
      "Exploring done\n",
      "--- Upstream signaling network in 0.07 seconds ---\n"
     ]
    }
   ],
   "source": [
    "start_time = time.time()\n",
    "network = _upstream_signaling(pa, MAX_DEPTH, INPUT_GENES)\n",
    "elapsed_time = round((time.time() - start_time), 2)\n",
    "print(\"--- Upstream signaling network in %s seconds ---\" % elapsed_time)\n",
    "_print_to_csv(network, outfile_path)\n",
    "_get_stats(network, INPUT_GENES, stats_path)"
   ]
  },
  {
   "cell_type": "code",
   "execution_count": null,
   "metadata": {},
   "outputs": [],
   "source": []
  }
 ],
 "metadata": {
  "celltoolbar": "Format de la Cellule Texte Brut",
  "kernelspec": {
   "display_name": "Python 3",
   "language": "python",
   "name": "python3"
  },
  "language_info": {
   "codemirror_mode": {
    "name": "ipython",
    "version": 3
   },
   "file_extension": ".py",
   "mimetype": "text/x-python",
   "name": "python",
   "nbconvert_exporter": "python",
   "pygments_lexer": "ipython3",
   "version": "3.6.8"
  }
 },
 "nbformat": 4,
 "nbformat_minor": 2
}
