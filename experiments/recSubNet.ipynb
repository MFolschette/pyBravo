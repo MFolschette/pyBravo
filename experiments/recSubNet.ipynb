{
 "cells": [
  {
   "cell_type": "markdown",
   "metadata": {
    "collapsed": true
   },
   "source": [
    "# Un scénario complet"
   ]
  },
  {
   "cell_type": "markdown",
   "metadata": {},
   "source": [
    "Quelques informations et paramètres pour commencer "
   ]
  },
  {
   "cell_type": "code",
   "execution_count": 1,
   "metadata": {},
   "outputs": [
    {
     "ename": "ImportError",
     "evalue": "No module named 'Entete'",
     "output_type": "error",
     "traceback": [
      "\u001b[0;31m---------------------------------------------------------------------------\u001b[0m",
      "\u001b[0;31mImportError\u001b[0m                               Traceback (most recent call last)",
      "\u001b[0;32m<ipython-input-1-4b404332570b>\u001b[0m in \u001b[0;36m<module>\u001b[0;34m()\u001b[0m\n\u001b[0;32m----> 1\u001b[0;31m \u001b[0;32mfrom\u001b[0m \u001b[0mEntete\u001b[0m \u001b[0;32mimport\u001b[0m \u001b[0;34m*\u001b[0m\u001b[0;34m\u001b[0m\u001b[0m\n\u001b[0m",
      "\u001b[0;31mImportError\u001b[0m: No module named 'Entete'"
     ]
    }
   ],
   "source": [
    "from Entete import *"
   ]
  },
  {
   "cell_type": "markdown",
   "metadata": {},
   "source": [
    "Tous les includes"
   ]
  },
  {
   "cell_type": "code",
   "execution_count": 2,
   "metadata": {},
   "outputs": [],
   "source": [
    "#Param_SBMLfile = \"/Users/jeremiebourdon/Downloads/Hep-G2.xml\""
   ]
  },
  {
   "cell_type": "code",
   "execution_count": 3,
   "metadata": {},
   "outputs": [
    {
     "ename": "NameError",
     "evalue": "name 'timer' is not defined",
     "output_type": "error",
     "traceback": [
      "\u001b[0;31m---------------------------------------------------------------------------\u001b[0m",
      "\u001b[0;31mNameError\u001b[0m                                 Traceback (most recent call last)",
      "\u001b[0;32m<ipython-input-3-dbbe473dc19d>\u001b[0m in \u001b[0;36m<module>\u001b[0;34m()\u001b[0m\n\u001b[1;32m      1\u001b[0m \u001b[0;31m## DEBUG ONLY\u001b[0m\u001b[0;34m\u001b[0m\u001b[0;34m\u001b[0m\u001b[0m\n\u001b[0;32m----> 2\u001b[0;31m \u001b[0mbegintotal\u001b[0m \u001b[0;34m=\u001b[0m \u001b[0mtimer\u001b[0m\u001b[0;34m(\u001b[0m\u001b[0;34m)\u001b[0m\u001b[0;34m\u001b[0m\u001b[0m\n\u001b[0m\u001b[1;32m      3\u001b[0m \u001b[0meprint\u001b[0m\u001b[0;34m(\u001b[0m\u001b[0;34m\"Testing\"\u001b[0m\u001b[0;34m,\u001b[0m\u001b[0mParam_SBMLfile\u001b[0m\u001b[0;34m,\u001b[0m\u001b[0;34m\"for\"\u001b[0m\u001b[0;34m,\u001b[0m\u001b[0mParam_Drug\u001b[0m\u001b[0;34m)\u001b[0m\u001b[0;34m\u001b[0m\u001b[0m\n\u001b[1;32m      4\u001b[0m \u001b[0;34m\u001b[0m\u001b[0m\n\u001b[1;32m      5\u001b[0m \u001b[0;31m## END DEBUG ONLY\u001b[0m\u001b[0;34m\u001b[0m\u001b[0;34m\u001b[0m\u001b[0m\n",
      "\u001b[0;31mNameError\u001b[0m: name 'timer' is not defined"
     ]
    }
   ],
   "source": [
    "## DEBUG ONLY\n",
    "begintotal = timer()\n",
    "eprint(\"Testing\",Param_SBMLfile,\"for\",Param_Drug)\n",
    "\n",
    "## END DEBUG ONLY"
   ]
  },
  {
   "cell_type": "markdown",
   "metadata": {},
   "source": [
    "Chargement des listes de correspondances"
   ]
  },
  {
   "cell_type": "code",
   "execution_count": 4,
   "metadata": {},
   "outputs": [
    {
     "ename": "ImportError",
     "evalue": "No module named 'AllTables'",
     "output_type": "error",
     "traceback": [
      "\u001b[0;31m---------------------------------------------------------------------------\u001b[0m",
      "\u001b[0;31mImportError\u001b[0m                               Traceback (most recent call last)",
      "\u001b[0;32m<ipython-input-4-93339dc37d9b>\u001b[0m in \u001b[0;36m<module>\u001b[0;34m()\u001b[0m\n\u001b[1;32m      1\u001b[0m \u001b[0;31m#from AllTables import *\u001b[0m\u001b[0;34m\u001b[0m\u001b[0;34m\u001b[0m\u001b[0m\n\u001b[0;32m----> 2\u001b[0;31m \u001b[0;32mfrom\u001b[0m \u001b[0mAllTables\u001b[0m \u001b[0;32mimport\u001b[0m \u001b[0;34m*\u001b[0m\u001b[0;34m\u001b[0m\u001b[0m\n\u001b[0m",
      "\u001b[0;31mImportError\u001b[0m: No module named 'AllTables'"
     ]
    }
   ],
   "source": [
    "#from AllTables import *\n",
    "from AllTables import *"
   ]
  },
  {
   "cell_type": "code",
   "execution_count": null,
   "metadata": {},
   "outputs": [],
   "source": []
  },
  {
   "cell_type": "code",
   "execution_count": 5,
   "metadata": {},
   "outputs": [],
   "source": [
    "Param_Pourcentage = 0.95"
   ]
  },
  {
   "cell_type": "markdown",
   "metadata": {},
   "source": [
    "Construction de la liste des cibles"
   ]
  },
  {
   "cell_type": "code",
   "execution_count": 6,
   "metadata": {},
   "outputs": [
    {
     "ename": "NameError",
     "evalue": "name 'eprint' is not defined",
     "output_type": "error",
     "traceback": [
      "\u001b[0;31m---------------------------------------------------------------------------\u001b[0m",
      "\u001b[0;31mNameError\u001b[0m                                 Traceback (most recent call last)",
      "\u001b[0;32m<ipython-input-6-a32fe35964f4>\u001b[0m in \u001b[0;36m<module>\u001b[0;34m()\u001b[0m\n\u001b[1;32m      6\u001b[0m \u001b[0;34m\u001b[0m\u001b[0m\n\u001b[1;32m      7\u001b[0m \u001b[0;34m\u001b[0m\u001b[0m\n\u001b[0;32m----> 8\u001b[0;31m \u001b[0meprint\u001b[0m\u001b[0;34m(\u001b[0m\u001b[0;34m\"Entering : Association RxN <-> Enzymes list construction\"\u001b[0m\u001b[0;34m)\u001b[0m\u001b[0;34m\u001b[0m\u001b[0m\n\u001b[0m\u001b[1;32m      9\u001b[0m \u001b[0;34m\u001b[0m\u001b[0m\n\u001b[1;32m     10\u001b[0m \u001b[0mSBMLfile\u001b[0m \u001b[0;34m=\u001b[0m \u001b[0mParam_SBMLfile\u001b[0m\u001b[0;34m\u001b[0m\u001b[0m\n",
      "\u001b[0;31mNameError\u001b[0m: name 'eprint' is not defined"
     ]
    }
   ],
   "source": [
    "# étape 1 : construction du fichier d'association Reactions <-> EC numbers\n",
    "\n",
    "# obsolete : La liste RXN -> liste gènes est désormais récupérée directement depuis HMRDatabase\n",
    "\n",
    "# dictionnaire HMR_to_Ensembl\n",
    "\n",
    "\n",
    "\n",
    "eprint(\"Entering : Association RxN <-> Enzymes list construction\")\n",
    "\n",
    "SBMLfile = Param_SBMLfile\n",
    "\n",
    "#SBMLfile = raw_input(\"Enter the SBML filename ? \")\n",
    "\n",
    "def ConstructAssociationList(SBMLfile, RXN_EC_file=\"/tmp/RXN_EC.txt\"):\n",
    "\n",
    "    import os\n",
    "    os.system(\"../scripts/Construct_List_RXN_Enzymes.sh \"+SBMLfile+\" \"+RXN_EC_file)\n",
    "    fd = open(RXN_EC_file,\"r\")\n",
    "    lines = fd.readlines()\n",
    "\n",
    "    genes = dict()\n",
    "    for l in lines:\n",
    "        t=l.split(\" \")\n",
    "        cum=''\n",
    "        for i in range(1,len(t)-1):\n",
    "            cum=cum+t[i]+\" \"\n",
    "        genes[t[0]]=cum\n",
    "    return genes\n",
    "\n",
    "genes=ConstructAssociationList(SBMLfile,RXN_EC_file)\n"
   ]
  },
  {
   "cell_type": "code",
   "execution_count": 7,
   "metadata": {},
   "outputs": [
    {
     "name": "stderr",
     "output_type": "stream",
     "text": [
      "Entering : Single Reaction Analysis\n",
      "Execution time (Single Reaction Analysis) =  40.433124470999246 seconds\n"
     ]
    }
   ],
   "source": [
    "# Etape 2 : Single Reaction Analysis\n",
    "\n",
    "eprint(\"Entering : Single Reaction Analysis\")\n",
    "\n",
    "## DEBUG ONLY\n",
    "begin = timer()\n",
    "## END DEBUG ONLY\n",
    "\n",
    "\n",
    "# perfoming a single_reaction_deletion analysis of the network\n",
    "\n",
    "model = cobra.io.read_sbml_model(Param_SBMLfile)\n",
    "\n",
    "# the objective coefficient must be properly set\n",
    "model.reactions.CancerBiomass_OF.objective_coefficient=1\n",
    "\n",
    "# reference biomass growth\n",
    "fba=model.optimize().f\n",
    "\n",
    "# single reaction deletion analysis\n",
    "\n",
    "\n",
    "if (Param_DoReconstruction and Param_Pourcentage<1):\n",
    "    rates, status = cobra.flux_analysis.single_reaction_deletion(model,solver=whichsolver)\n",
    "else:\n",
    "    rates=dict()\n",
    "    for r in model.reactions:\n",
    "        rates[r.id]=0\n",
    "        \n",
    "## DEBUG ONLY\n",
    "end = timer()\n",
    "eprint(\"Execution time (Single Reaction Analysis) = \",end-begin,\"seconds\")\n",
    "## END DEBUG ONLY"
   ]
  },
  {
   "cell_type": "code",
   "execution_count": null,
   "metadata": {},
   "outputs": [],
   "source": []
  },
  {
   "cell_type": "code",
   "execution_count": null,
   "metadata": {},
   "outputs": [],
   "source": []
  },
  {
   "cell_type": "code",
   "execution_count": null,
   "metadata": {},
   "outputs": [],
   "source": [
    "\n"
   ]
  },
  {
   "cell_type": "code",
   "execution_count": 8,
   "metadata": {},
   "outputs": [],
   "source": [
    "# Etape 3 : Extraction des enzymes régulateurs (nécessite étape 1 et 2)\n",
    "\n",
    "def getRegulators(rates, percentage=1.1):\n",
    "    regulators = dict()\n",
    "\n",
    "    cpt=0\n",
    "    for r in rates:\n",
    "        if (rates.get(r)<percentage*fba):\n",
    "            if (HMR_to_Ensembl.get(r)!=''):\n",
    "                # print(r,':',rates.get(r),\" \",genes.get(r))\n",
    "                cpt=cpt+1\n",
    "                l=HMR_to_Ensembl.get(r)\n",
    "                if (l):\n",
    "                    for i in l:\n",
    "                        if (i != ''):\n",
    "                            regulators[i]=1\n",
    "    return regulators\n",
    "\n",
    "\n",
    "def getRegulators_obsolete(rates, percentage=1.1):\n",
    "    regulators = dict()\n",
    "\n",
    "    cpt=0\n",
    "    for r in rates:\n",
    "        if (rates.get(r)<percentage*fba):\n",
    "            if (genes.get(r)!=''):\n",
    "                # print(r,':',rates.get(r),\" \",genes.get(r))\n",
    "                cpt=cpt+1\n",
    "                l=genes.get(r).split(' ')\n",
    "                for i in l:\n",
    "                    if (i != ''):\n",
    "                        regulators[i]=1\n",
    "    return regulators\n",
    "\n",
    "if (Param_DoReconstruction):\n",
    "    regulators = getRegulators(rates, Param_Pourcentage)"
   ]
  },
  {
   "cell_type": "code",
   "execution_count": null,
   "metadata": {},
   "outputs": [],
   "source": []
  },
  {
   "cell_type": "code",
   "execution_count": 9,
   "metadata": {},
   "outputs": [
    {
     "name": "stderr",
     "output_type": "stream",
     "text": [
      "Missing  ENSG00000123009\n",
      "Missing  ENSG00000165862\n",
      "Target gene list size = 187\n"
     ]
    }
   ],
   "source": [
    "# Etape 4 : récupération de la liste de gènes régulateurs\n",
    "def GeneListFromEC(ecnumber):\n",
    "    if (ecnumber.find('-')>0):\n",
    "        cum=list()\n",
    "        for i in range(1,500):\n",
    "            gl=ECTCDBToEnsembl.get(ecnumber.replace('-',str(i)))\n",
    "            if (gl != None and len(gl)>0):\n",
    "                cum+=gl\n",
    "        return cum\n",
    "    else:\n",
    "        gl=ECTCDBToEnsembl.get(ecnumber)\n",
    "        if (gl == None):\n",
    "            gl=list()\n",
    "        return gl\n",
    "\n",
    "if (Param_DoReconstruction):\n",
    "    TargetGenesEnsembl=list()\n",
    "    for ec in regulators:\n",
    "#        TargetGenesEnsembl+=GeneListFromEC(ec.lower())\n",
    "        TargetGenesEnsembl+=[ec.replace(\"'\",\"%27\")]\n",
    "    \n",
    "    TargetGenes = [EnsemblToGeneNames.get(x) for x in TargetGenesEnsembl]\n",
    "    TargetGenes=list()\n",
    "    for x in TargetGenesEnsembl:\n",
    "        if (genelist.get(x)):\n",
    "            TargetGenes.append(genelist.get(x)[0])\n",
    "        else:\n",
    "            eprint('Missing ',x)\n",
    "    \n",
    "    TargetGenes=set(TargetGenes)\n",
    "    TargetGenes=list(TargetGenes)\n",
    "    \n",
    "    TargetGenesEnsembl=set(TargetGenesEnsembl)\n",
    "    TargetGenesEnsembl=list(TargetGenesEnsembl)\n",
    "    \n",
    "    eprint(\"Target gene list size =\",len(TargetGenes))\n",
    "    \n",
    "    fd = open(Param_TargetFilename,\"w\")\n",
    "    for g in TargetGenes:\n",
    "        fd.write(g+\"\\n\")\n",
    "    fd.close()\n",
    "    fd = open(Param_TargetFilename+\"_EnsemblId\",\"w\")\n",
    "    for g in TargetGenesEnsembl:\n",
    "        fd.write(g+\"\\n\")\n",
    "    fd.close()\n",
    "    \n",
    "    "
   ]
  },
  {
   "cell_type": "code",
   "execution_count": null,
   "metadata": {},
   "outputs": [],
   "source": []
  },
  {
   "cell_type": "markdown",
   "metadata": {
    "collapsed": true
   },
   "source": [
    "Regulatory network reconstruction using PathwayCommons SPARQL endpoint"
   ]
  },
  {
   "cell_type": "code",
   "execution_count": 10,
   "metadata": {},
   "outputs": [],
   "source": [
    "# Algorithms\n",
    "\n",
    "Aliases = dict()\n",
    "for g in GeneAltNameToName:\n",
    "    if not Aliases.get(GeneAltNameToName.get(g)):\n",
    "        Aliases[GeneAltNameToName.get(g)] = list()\n",
    "    Aliases[GeneAltNameToName.get(g)].append(g)\n",
    "\n",
    "\n",
    "\n",
    "def GetTFControllers(EnsemblId):\n",
    "    commonPCPrefixes = \"\"\"\n",
    "PREFIX rdf: <http://www.w3.org/1999/02/22-rdf-syntax-ns#>\n",
    "PREFIX rdfs: <http://www.w3.org/2000/01/rdf-schema#>\n",
    "PREFIX owl: <http://www.w3.org/2002/07/owl#>\n",
    "PREFIX xsd: <http://www.w3.org/2001/XMLSchema#>\n",
    "PREFIX dc: <http://purl.org/dc/elements/1.1/>\n",
    "PREFIX dcterms: <http://purl.org/dc/terms/>\n",
    "PREFIX foaf: <http://xmlns.com/foaf/0.1/>\n",
    "PREFIX skos: <http://www.w3.org/2004/02/skos/core#>\n",
    "PREFIX bp3: <http://www.biopax.org/release/biopax-level3.owl#>\n",
    "PREFIX taxon: <http://identifiers.org/taxonomy/>\n",
    "PREFIX reactome: <http://identifiers.org/reactome/>\n",
    "PREFIX release: <http://www.reactome.org/biopax/49/48887#>\n",
    "\n",
    "PREFIX up: <http://purl.uniprot.org/core/> \n",
    "PREFIX uniprot: <http://purl.uniprot.org/uniprot/>\n",
    "PREFIX bp: <http://www.biopax.org/release/biopax-level3.owl#>\n",
    "PREFIX chebi: <http://purl.obolibrary.org/obo/CHEBI_>\n",
    "PREFIX obo2: <http://purl.obolibrary.org/obo#>\n",
    "\"\"\"\n",
    "\n",
    "    Request = \"\"\"\n",
    "SELECT ?tempReac ?type ?controlledName ?controllerName ?source WHERE{ \n",
    "    FILTER( (?controlledName = 'Transcription of %%GENETARGETNAME%%'^^<http://www.w3.org/2001/XMLSchema#string>)\n",
    "        and (?controllerName != '%%GENETARGETNAME%%')\n",
    "        and (?source != 'mirtarbase') ) .\n",
    "    ?tempReac a bp:TemplateReactionRegulation .\n",
    "    ?tempReac bp:displayName ?reacName ; \n",
    "        bp:controlled ?controlled ; \n",
    "        bp:controller ?controller ; \n",
    "        bp:controlType ?type ; \n",
    "        bp:dataSource ?source .\n",
    "    ?controlled bp:displayName ?controlledName .\n",
    "    ?controller bp:displayName ?controllerName . }\n",
    "GROUP BY ?controlledName ?controllerName\n",
    "\"\"\"\n",
    "    RequestToBePerformed=commonPCPrefixes+Request.replace(\"%%GENETARGETNAME%%\",EnsemblId)\n",
    "    sparql = SPARQLWrapper(PC_Endpoint)\n",
    "    sparql.setQuery(RequestToBePerformed)\n",
    "    sparql.setReturnFormat(JSON)\n",
    "    query = sparql.query().convert()\n",
    "    results=list()\n",
    "    listofgenes=list()\n",
    "    ListBindings=query.get('results').get('bindings')\n",
    "    for l in ListBindings:\n",
    "        controllerName = (l.get('controllerName').get('value'))\n",
    "        controlType= (l.get('type').get('value'))\n",
    "        rule = controllerName+\"_\"+controlType+\"_\"+EnsemblId\n",
    "        if (rule not in results):\n",
    "            results.append(rule)\n",
    "        if (controllerName not in listofgenes):\n",
    "            listofgenes.append(controllerName)\n",
    "    return results,listofgenes\n",
    "\n",
    "def getParentGraph(l,limit=30):\n",
    "    i=0\n",
    "    allgenes=dict()\n",
    "    for g in l:\n",
    "        allgenes[g]=1\n",
    "    listofrelations=list()\n",
    "    unmapped=list()\n",
    "    while (i<len(l) and i<limit):\n",
    "        gene=l[i]\n",
    "        L=Aliases.get(GeneAltNameToName.get(gene))\n",
    "        relations=list()\n",
    "        newgenes=list()\n",
    "        for g in L:\n",
    "            a,b=GetTFControllers(g)\n",
    "            relations=relations+a\n",
    "            newgenes=newgenes+b\n",
    "        \n",
    "        relations=list(set(relations))\n",
    "        newgenes=list(set(newgenes))\n",
    "#        relations,newgenes = GetTFControllers(GeneAltNameToName.get(gene))\n",
    "        if (len(relations) == 0):\n",
    "            unmapped.append(gene)\n",
    "        listofrelations+=relations\n",
    "        for g in newgenes:\n",
    "            if (allgenes.get(g) != 1): # (g not in l):\n",
    "                l.append(g)\n",
    "                allgenes[g]=1\n",
    "        i+=1\n",
    "    return listofrelations,l,unmapped\n",
    "\n",
    "\n",
    "\n",
    "\n",
    "# Improved version\n",
    "\n",
    "def GetTFControllersList(EnsemblId):\n",
    "    commonPCPrefixes = \"\"\"\n",
    "PREFIX rdf: <http://www.w3.org/1999/02/22-rdf-syntax-ns#>\n",
    "PREFIX rdfs: <http://www.w3.org/2000/01/rdf-schema#>\n",
    "PREFIX owl: <http://www.w3.org/2002/07/owl#>\n",
    "PREFIX xsd: <http://www.w3.org/2001/XMLSchema#>\n",
    "PREFIX dc: <http://purl.org/dc/elements/1.1/>\n",
    "PREFIX dcterms: <http://purl.org/dc/terms/>\n",
    "PREFIX foaf: <http://xmlns.com/foaf/0.1/>\n",
    "PREFIX skos: <http://www.w3.org/2004/02/skos/core#>\n",
    "PREFIX bp3: <http://www.biopax.org/release/biopax-level3.owl#>\n",
    "PREFIX taxon: <http://identifiers.org/taxonomy/>\n",
    "PREFIX reactome: <http://identifiers.org/reactome/>\n",
    "PREFIX release: <http://www.reactome.org/biopax/49/48887#>\n",
    "\n",
    "PREFIX up: <http://purl.uniprot.org/core/> \n",
    "PREFIX uniprot: <http://purl.uniprot.org/uniprot/>\n",
    "PREFIX bp: <http://www.biopax.org/release/biopax-level3.owl#>\n",
    "PREFIX chebi: <http://purl.obolibrary.org/obo/CHEBI_>\n",
    "PREFIX obo2: <http://purl.obolibrary.org/obo#>\n",
    "\"\"\"\n",
    "# SELECT ?tempReac ?type ?controlledName ?controllerName ?source FROM <http://PC> \n",
    "\n",
    "    Request = \"\"\"\n",
    "SELECT ?tempReac ?type ?controlledName ?controllerName ?source\n",
    "WHERE{ \n",
    "    FILTER(\n",
    "    (\"\"\"\n",
    "    for i in range(0,len(EnsemblId)-1):\n",
    "        EnsemblId[i]=EnsemblId[i].replace(\"'\",\"%27\")\n",
    "        Request=Request+\"\"\"(?controlledName = 'Transcription of %%GENETARGETNAME%%'^^<http://www.w3.org/2001/XMLSchema#string>) or \n",
    "        \"\"\".replace(\"%%GENETARGETNAME%%\",EnsemblId[i])\n",
    "#        Request=Request+\"\"\"(?controllerName = '%%GENETARGETNAME%%'^^<http://www.w3.org/2001/XMLSchema#string>) or \n",
    "#        \"\"\".replace(\"%%GENETARGETNAME%%\",EnsemblId[i])\n",
    "#    Request=Request+\"\"\"(?controllerName = '%%GENETARGETNAME%%'^^<http://www.w3.org/2001/XMLSchema#string>) or \n",
    "#    \"\"\".replace(\"%%GENETARGETNAME%%\",EnsemblId[len(EnsemblId)-1])\n",
    "    Request=Request+\"(?controlledName = 'Transcription of %%GENETARGETNAME%%'^^<http://www.w3.org/2001/XMLSchema#string>)\".replace(\"%%GENETARGETNAME%%\",EnsemblId[len(EnsemblId)-1])\n",
    "    Request=Request+\"\"\")\n",
    "        and (?source != 'mirtarbase') ) .\n",
    "    ?tempReac a bp:TemplateReactionRegulation .\n",
    "    ?tempReac bp:displayName ?reacName ; \n",
    "        bp:controlled ?controlled ; \n",
    "        bp:controller ?controller ; \n",
    "        bp:controlType ?type ; \n",
    "        bp:dataSource ?source .\n",
    "    ?controlled bp:displayName ?controlledName .\n",
    "    ?controller bp:displayName ?controllerName . }\n",
    "    \n",
    "GROUP BY ?controlledName ?controllerName\n",
    "\"\"\"\n",
    "#    print(Request)\n",
    "#    RequestToBePerformed=commonPCPrefixes+Request.replace(\"%%GENETARGETNAME%%\",EnsemblId)\n",
    "    RequestToBePerformed=commonPCPrefixes+Request\n",
    "    sparql = SPARQLWrapper(PC_Endpoint)\n",
    "    sparql.setQuery(RequestToBePerformed)\n",
    "    sparql.setReturnFormat(JSON)\n",
    "    sparql.setMethod(\"POST\")\n",
    "    query = sparql.query().convert()\n",
    "    results=list()\n",
    "    listofgenes=list()\n",
    "    ListBindings=query.get('results').get('bindings')\n",
    "    for l in ListBindings:\n",
    "        controllerName = (l.get('controllerName').get('value'))\n",
    "        controlType= (l.get('type').get('value'))\n",
    "        controlledGene=(l.get('controlledName').get('value')).replace(\"Transcription of \",\"\")\n",
    "        rule = controllerName+\"_\"+controlType +\"_\"+GeneAltNameToName.get(controlledGene)\n",
    "        if (rule not in results):\n",
    "            results.append(rule)\n",
    "        if (controllerName not in listofgenes):\n",
    "            listofgenes.append(controllerName)\n",
    "    return results,listofgenes\n",
    "\n",
    "# New Improved version\n",
    "\n",
    "def GetTFControllersList(EnsemblId):\n",
    "    commonPCPrefixes = \"\"\"\n",
    "PREFIX bp: <http://www.biopax.org/release/biopax-level3.owl#>\n",
    "PREFIX rdf: <http://www.w3.org/1999/02/22-rdf-syntax-ns#>\n",
    "PREFIX xsd: <http://www.w3.org/2001/XMLSchema#>\n",
    "\"\"\"\n",
    "\n",
    "    Request = \"\"\"\n",
    "SELECT ?tempReac ?type ?controlledName ?controllerName ?source ?controllerType ?controlledType\n",
    "WHERE{ \n",
    "    FILTER (\n",
    "    (\"\"\"\n",
    "    for i in range(0,len(EnsemblId)-1):\n",
    "        EnsemblId[i]=EnsemblId[i].replace(\"'\",\"%27\")\n",
    "#        Request=Request+\"\"\"((?controlledName = '%%GENETARGETNAME%%'^^xsd:string) and (?controllerName != '%%GENETARGETNAME%%'^^xsd:string) ) or \n",
    "        Request=Request+\"\"\"((?controlledName = '%%GENETARGETNAME%%'^^xsd:string) ) or \n",
    "        \"\"\".replace(\"%%GENETARGETNAME%%\",EnsemblId[i])\n",
    "\n",
    "#    Request=Request+\"((?controlledName = '%%GENETARGETNAME%%'^^xsd:string) and (?controllerName != '%%GENETARGETNAME%%'^^xsd:string) )\".replace(\"%%GENETARGETNAME%%\",EnsemblId[len(EnsemblId)-1])\n",
    "    Request=Request+\"((?controlledName = '%%GENETARGETNAME%%'^^xsd:string) )\".replace(\"%%GENETARGETNAME%%\",EnsemblId[len(EnsemblId)-1])\n",
    "    Request=Request+\"\"\")\n",
    "        and (str(?source) != \\\"http://pathwaycommons.org/pc2/mirtarbase\\\") \n",
    "        and ((str(?controlledType) = \"http://www.biopax.org/release/biopax-level3.owl#Protein\") or (str(?controlledType) = \"http://www.biopax.org/release/biopax-level3.owl#Rna\"))\n",
    "        and ((str(?controllerType) = \"http://www.biopax.org/release/biopax-level3.owl#Protein\") or (str(?controllerType) = \"http://www.biopax.org/release/biopax-level3.owl#Rna\"))\n",
    ") .\n",
    "?tempReac a bp:TemplateReactionRegulation .\n",
    "?tempReac rdf:type ?ctype ; bp:controlled ?controlled ; bp:controller ?controller ; bp:controlType ?type ; bp:dataSource ?source .\n",
    "?controlled bp:participant ?participant ; bp:dataSource ?controlledsource .\n",
    "?participant bp:displayName ?controlledName; rdf:type ?controlledType .\n",
    "?controller bp:displayName ?controllerName ; rdf:type ?controllerType ; bp:dataSource ?controllersource .\n",
    "}    \n",
    "GROUP BY ?controlledName ?controllerName\n",
    "\"\"\"\n",
    "#    print(Request)\n",
    "#    RequestToBePerformed=commonPCPrefixes+Request.replace(\"%%GENETARGETNAME%%\",EnsemblId)\n",
    "    RequestToBePerformed=commonPCPrefixes+Request\n",
    "    sparql = SPARQLWrapper(PC_Endpoint)\n",
    "    sparql.setQuery(RequestToBePerformed)\n",
    "    sparql.setReturnFormat(JSON)\n",
    "    sparql.setMethod(\"POST\")\n",
    "    query = sparql.query().convert()\n",
    "    results=list()\n",
    "    listofgenes=list()\n",
    "    ListBindings=query.get('results').get('bindings')\n",
    "    for l in ListBindings:\n",
    "        controllerName = (l.get('controllerName').get('value')).replace(\" protein\",\"\").replace(\" alternative form\",\"\")\n",
    "        controlType= (l.get('type').get('value'))\n",
    "        controlledGene=(l.get('controlledName').get('value')).replace(\"Transcription of \",\"\")\n",
    "        rule = controllerName+\"_\"+controlType +\"_\"+GeneAltNameToName.get(controlledGene)\n",
    "        if (rule not in results):\n",
    "            results.append(rule)\n",
    "        if (controllerName not in listofgenes):\n",
    "            listofgenes.append(controllerName)\n",
    "    return results,listofgenes\n",
    "\n",
    "\n",
    "\"\"\"\n",
    "PREFIX bp: <http://www.biopax.org/release/biopax-level3.owl#>\n",
    "PREFIX rdf: <http://www.w3.org/1999/02/22-rdf-syntax-ns#\\n\"\n",
    "PREFIX xsd: <http://www.w3.org/2001/XMLSchema#>\n",
    "CONSTRUCT {\n",
    " ?tempReac rdf:type ?type ; bp:controlled ?controlled ; bp:controller ?controller ; bp:dataSource ?source ; bp:controlType ?controlType .\n",
    "  ?controlled a ?controlledType ; bp:displayName ?controlledName ; bp:dataSource ?controlledsource .\n",
    "  ?controller a ?controllerType ; bp:displayName ?controllerName ; bp:dataSource ?controllersource .\n",
    "} WHERE{ \n",
    "  FILTER( (?controlledName = \\\"\"+TF+\"\\\"^^xsd:string)\n",
    "  && (?controllerName != \\\"\"+TF+\"\\\"^^xsd:string)\n",
    "  && (str(?source) != \\\"http://pathwaycommons.org/pc2/mirtarbase\\\") ) .\n",
    "?tempReac a bp:TemplateReactionRegulation .\n",
    "?tempReac rdf:type ?type ; bp:controlled ?controlled ; bp:controller ?controller ; bp:controlType ?controlType ; bp:dataSource ?source .\n",
    "?controlled bp:participant ?participant ; bp:dataSource ?controlledsource .\n",
    "?participant bp:displayName ?controlledName; rdf:type ?controlledType .\n",
    "?controller bp:displayName ?controllerName ; rdf:type ?controllerType ; bp:dataSource ?controllersource .\n",
    "}\n",
    "\"\"\"\n",
    "\n",
    "\n",
    "\n",
    "\n",
    "\n",
    "def getParentGraphList(l,limit=30):\n",
    "    pas=50\n",
    "    i=0\n",
    "    allgenes=dict()\n",
    "    for g in l:\n",
    "        allgenes[g]=1\n",
    "    listofrelations=list()\n",
    "    unmapped=list()\n",
    "    while (i<len(l) and i<limit):\n",
    "        eprint(\"Treated \",i,\" genes, still \",(len(l)-i),\" limit = \",limit)\n",
    "        L=list()\n",
    "        for j in range(0,pas):\n",
    "            if (i+j<len(l)):\n",
    "                gene=l[i+j]\n",
    "                if (Aliases.get(GeneAltNameToName.get(gene)) != None):\n",
    "                    L=L+Aliases.get(GeneAltNameToName.get(gene))\n",
    "        relations,newgenes=GetTFControllersList(L)\n",
    "        if (len(relations) == 0):\n",
    "            unmapped.append(gene)\n",
    "        listofrelations+=relations\n",
    "        for g in newgenes:\n",
    "            g=GeneAltNameToName.get(g)\n",
    "            if (g not in l): #(allgenes.get(g) != 1): # \n",
    "                l.append(g)\n",
    "                allgenes[g]=1\n",
    "        i+=pas\n",
    "    return listofrelations,l,unmapped\n",
    "\n",
    "\n",
    "\n",
    "\n",
    "\n",
    "\n",
    "\n",
    "\n"
   ]
  },
  {
   "cell_type": "code",
   "execution_count": 11,
   "metadata": {},
   "outputs": [
    {
     "name": "stderr",
     "output_type": "stream",
     "text": [
      "Entering : RRG reconstruction\n",
      "Treated  0  genes, still  187  limit =  50000\n",
      "Treated  50  genes, still  203  limit =  50000\n",
      "Treated  100  genes, still  200  limit =  50000\n",
      "Treated  150  genes, still  187  limit =  50000\n",
      "Treated  200  genes, still  180  limit =  50000\n",
      "Treated  250  genes, still  149  limit =  50000\n",
      "Treated  300  genes, still  105  limit =  50000\n",
      "Treated  350  genes, still  55  limit =  50000\n",
      "Treated  400  genes, still  8  limit =  50000\n",
      "Execution time for RRG reconstruction =  68.81937293299961 seconds\n",
      "Reconstructed graph contains 409 genes, 4155 interactions\n"
     ]
    }
   ],
   "source": [
    "eprint(\"Entering : RRG reconstruction\")\n",
    "\n",
    "\n",
    "## DEBUG ONLY\n",
    "begin = timer()\n",
    "## END DEBUG ONLY\n",
    "\n",
    "if (Param_DoReconstruction):\n",
    "    TargetGenesName = TargetGenes #[EnsemblToGeneNames.get(x) for x in TargetGenes if (len(x) > 2)]\n",
    "    \n",
    "    a,b,u=getParentGraphList(TargetGenesName,50000)\n",
    "    \n",
    "    ## DEBUG ONLY\n",
    "    end = timer()\n",
    "    eprint(\"Execution time for RRG reconstruction = \",end-begin,\"seconds\")\n",
    "    ## END DEBUG ONLY\n",
    "    \n",
    "    eprint('Reconstructed graph contains',len(b),'genes,',len(a),'interactions')\n",
    "    \n",
    "    \n",
    "    # write the file for compatibility purpose\n",
    "    \n",
    "    fd = open(Param_RRGFilename,\"w\")\n",
    "    for r in a:\n",
    "        relation=r.split(\"_\")\n",
    "#        if (relation[1] != \"ACTIVATION\"):\n",
    "#        eprint(relation)\n",
    "        fd.write(relation[0]+\";\"+relation[2]+\"\\n\")\n",
    "    fd.close()\n"
   ]
  },
  {
   "cell_type": "code",
   "execution_count": 12,
   "metadata": {},
   "outputs": [
    {
     "name": "stderr",
     "output_type": "stream",
     "text": [
      "Execution completed in 113.84074216299996 seconds\n"
     ]
    }
   ],
   "source": [
    "endtotal = timer()\n",
    "eprint(\"Execution completed in\",endtotal-begintotal,\"seconds\")"
   ]
  },
  {
   "cell_type": "code",
   "execution_count": null,
   "metadata": {},
   "outputs": [],
   "source": []
  },
  {
   "cell_type": "code",
   "execution_count": null,
   "metadata": {
    "collapsed": true
   },
   "outputs": [],
   "source": []
  },
  {
   "cell_type": "code",
   "execution_count": 13,
   "metadata": {},
   "outputs": [],
   "source": [
    "tg = Allmeds.get(Param_Drug).get('TargetsGenes')"
   ]
  },
  {
   "cell_type": "code",
   "execution_count": null,
   "metadata": {},
   "outputs": [],
   "source": []
  },
  {
   "cell_type": "code",
   "execution_count": null,
   "metadata": {},
   "outputs": [],
   "source": []
  },
  {
   "cell_type": "code",
   "execution_count": 14,
   "metadata": {},
   "outputs": [],
   "source": [
    "possibleTargets=dict()\n",
    "for m in Allmeds:\n",
    "    tg = Allmeds.get(m).get('TargetsGenes')\n",
    "    malist = [GeneAltNameToName.get(x) for x in b if GeneAltNameToName.get(x) in tg]\n",
    "    for g in malist:\n",
    "        if not possibleTargets.get(g):\n",
    "            possibleTargets[g]=list()\n",
    "        possibleTargets[g].append(m)\n",
    "#    if (len(malist)>0):\n",
    "#        print(m,malist)"
   ]
  },
  {
   "cell_type": "code",
   "execution_count": 15,
   "metadata": {},
   "outputs": [
    {
     "data": {
      "text/plain": [
       "{'CEL': ['Xenical (TN)'],\n",
       " 'DGAT1': ['Pradigastat sodium (USAN)', 'Pradigastat (USAN)'],\n",
       " 'IFNG': ['Fontolizumab (USAN/INN)'],\n",
       " 'IL1B': ['Ilaris (TN)', 'Gevokizumab (USAN/INN)'],\n",
       " 'NPC1L1': ['Zetia (TN)'],\n",
       " 'NR1H4': ['Chenix (TN)', 'Ocaliva (TN)', 'Turofexorate isopropyl (USAN/INN)'],\n",
       " 'NR3C1': ['Clobetasone (INN)',\n",
       "  'Mometasone (INN)',\n",
       "  'Haldrone (TN)',\n",
       "  'Loteprednol (INN)',\n",
       "  'Dexamedium [veterinary] (TN)',\n",
       "  'Vanos (TN)',\n",
       "  'Sintisone (TN)',\n",
       "  'Elocon (TN)',\n",
       "  'Afusona (TN)',\n",
       "  'Tixocortol (INN)',\n",
       "  'Triamcinolone acetonide sodium phosphate (USAN)',\n",
       "  'Omnaris (TN)',\n",
       "  'Olux (TN)',\n",
       "  'Cortifoam (TN)',\n",
       "  'Kohakusanin (TN)',\n",
       "  'Veramyst (TN)',\n",
       "  'Vanceril (TN)',\n",
       "  'Uticort (TN)',\n",
       "  'Methylprednisolone suleptanate (USAN/INN)',\n",
       "  'Beclometason (TN)',\n",
       "  'Betamethasone acetate (JAN/USP)',\n",
       "  'Delvosteron [veterinary] (TN)',\n",
       "  'Cordran (TN)',\n",
       "  'Prednisone 21-acetate',\n",
       "  'Methylprednisolone sodium phosphate (USAN)',\n",
       "  'Depo-medrol (TN)',\n",
       "  'Hydrocortisone succinate (JP17)',\n",
       "  'Hydrocortisone caproate (JAN)',\n",
       "  'Meprednisone (USP/INN)',\n",
       "  'Flumetasone (INN)',\n",
       "  'Ultracortenol (TN)',\n",
       "  'Zalucs (TN)',\n",
       "  'Oxylone (TN)',\n",
       "  'Methylprednisolone succinate (JP17)',\n",
       "  'Solu-medrol (TN)',\n",
       "  'Flarex (TN)',\n",
       "  'Cloradryn (TN)',\n",
       "  'Hydrocortisone hemisuccinate (USP)',\n",
       "  'Vexol (TN)',\n",
       "  'Delta-cortef (TN)',\n",
       "  'Decaject-L.A. (TN)',\n",
       "  'Psorcon (TN)',\n",
       "  'Astonin-H (TN)',\n",
       "  'Hifmeta (TN)',\n",
       "  'Efficort (TN)',\n",
       "  'Nasacort (TN)',\n",
       "  'Aristocort (TN)',\n",
       "  'Fluocortin butyl (USAN)',\n",
       "  'Alphadrol (TN)',\n",
       "  'Cyclocort (TN)',\n",
       "  'Rinderon-DP (TN)',\n",
       "  'Santeson (TN)',\n",
       "  'Tixocortol pivalate (USAN)',\n",
       "  'Halometasone (INN)',\n",
       "  'Dexafort [veterinary] (TN)',\n",
       "  'Resocortol (INN)',\n",
       "  'Verdeso (TN)',\n",
       "  'Kindavate (TN)',\n",
       "  'Farnerate (TN)',\n",
       "  'Flovent (TN)',\n",
       "  'Dexamethasone cipecilate (JAN/INN)',\n",
       "  'Kenacort (TN)',\n",
       "  'Lotemax (TN)',\n",
       "  'Plenadren (TN)',\n",
       "  'Cortone acetate (TN)',\n",
       "  'Dexamethasone acefurate (USAN/INN)',\n",
       "  'Topicort (TN)',\n",
       "  'Deflazacort (USAN/INN)',\n",
       "  'Durezol (TN)',\n",
       "  'Cortodoxone (USAN)',\n",
       "  'Ultradil (TN)',\n",
       "  'Pred forte (TN)',\n",
       "  'Uceris (TN)',\n",
       "  'Pediapred (TN)',\n",
       "  'Predenema (TN)',\n",
       "  'Maxidex (TN)',\n",
       "  'Rayos (TN)',\n",
       "  'Fluprednidene (INN)',\n",
       "  'Nasonex (TN)',\n",
       "  'Clocortolone acetate (USAN)',\n",
       "  'Decadronal (TN)',\n",
       "  'Colircusi Dexametasona (TN)',\n",
       "  'Westcort (TN)',\n",
       "  'Dillar (TN)',\n",
       "  'Ultravate (TN)',\n",
       "  'Dagrocorat (USAN/INN)',\n",
       "  'Cortivazol (USAN)',\n",
       "  'Locoid (TN)',\n",
       "  'Cloderm (TN)',\n",
       "  'Fluocortolone caproate (USAN)',\n",
       "  'Limethason (TN)',\n",
       "  'Halobetasol',\n",
       "  'Deflamene (TN)',\n",
       "  'Fluprednisolone valerate (USAN)',\n",
       "  'Resocortol butyrate (USAN)',\n",
       "  'Decadron-phosphate (TN)',\n",
       "  'Alclometasone (INN)',\n",
       "  'Solu-cortef (TN)',\n",
       "  'Rinderon-V (TN)',\n",
       "  'HMS (TN)',\n",
       "  'Voalla ointment (TN)',\n",
       "  'Celestone (TN)',\n",
       "  'Fluclorolone acetonide (INN)',\n",
       "  'Aristospan (TN)',\n",
       "  'Fluocortin (INN)',\n",
       "  'Hydeltra-TBA (TN)',\n",
       "  'Nasalide (TN)',\n",
       "  'Advantan (TN)',\n",
       "  'Diflucortolone (USAN)',\n",
       "  'Prednisolone succinate (JP17)',\n",
       "  'Hydrocortisone cypionate',\n",
       "  'Murode (TN)',\n",
       "  'Dexamethasone beloxil (USAN)',\n",
       "  'Spirazon (TN)',\n",
       "  'Halopredone (INN)',\n",
       "  'Fenicort (TN)',\n",
       "  'Pandel (TN)',\n",
       "  'Hydrocortone phosphate (TN)',\n",
       "  'Voren [veterinary] (TN)',\n",
       "  'Diflucortolone pivalate (USAN)',\n",
       "  'Haloart (TN)',\n",
       "  'Fluticaps (TN)',\n",
       "  'Fluocortolone (USAN/INN)',\n",
       "  'Flunisolide acetate (USAN)',\n",
       "  'Mapracorat (USAN)',\n",
       "  'Locorten (TN)',\n",
       "  'Fosdagrocorat (USAN/INN)',\n",
       "  'Decoderm (TN)',\n",
       "  'Cortisone (TN)',\n",
       "  'Medrol (TN)',\n",
       "  'Synalar (TN)',\n",
       "  'Aclovate (TN)',\n",
       "  'Dermatop (TN)',\n",
       "  'Clobecort Amex (TN)',\n",
       "  'Prednylidene (INN)',\n",
       "  'Clocortolone (INN)',\n",
       "  'Florinef acetate (TN)',\n",
       "  'Antebate (TN)'],\n",
       " 'PARP1': ['Rubraca (TN)',\n",
       "  'Niraparib (USAN)',\n",
       "  'Rucaparib phosphate (USAN)',\n",
       "  'Lynparza (TN)',\n",
       "  'Veliparib (USAN/INN)',\n",
       "  'Iniparib (USAN/INN)',\n",
       "  'Talazoparib (USAN/INN)',\n",
       "  'Talazoparib tosylate (USAN)'],\n",
       " 'PNLIP': ['Xenical (TN)'],\n",
       " 'SLC22A1': ['Metformin (USAN/INN)', 'Glucophage (TN)', 'Eloxatin (TN)'],\n",
       " 'SP1': ['Terameprocol (INN/USAN)'],\n",
       " 'STAT3': ['Napabucasin (JAN/USAN/INN)'],\n",
       " 'TNF': ['Revlimid (TN)',\n",
       "  'Humira (TN)',\n",
       "  'Placulumab (USAN/INN)',\n",
       "  'Enbrel (TN)',\n",
       "  'Simponi (TN)',\n",
       "  'Ozoralizumab (USAN)',\n",
       "  'Afelimomab (INN)',\n",
       "  'Remicade (TN)',\n",
       "  'Cimzia (TN)',\n",
       "  'Pegsunercept (USAN)',\n",
       "  'Onercept (USAN/INN)',\n",
       "  'Nerelimomab (USAN/INN)',\n",
       "  'Lenercept (USAN/INN)'],\n",
       " 'TP53': ['Cenersen sodium (USAN)']}"
      ]
     },
     "execution_count": 15,
     "metadata": {},
     "output_type": "execute_result"
    }
   ],
   "source": [
    "possibleTargets"
   ]
  },
  {
   "cell_type": "code",
   "execution_count": null,
   "metadata": {
    "collapsed": true
   },
   "outputs": [],
   "source": []
  },
  {
   "cell_type": "code",
   "execution_count": 16,
   "metadata": {},
   "outputs": [],
   "source": [
    "\n",
    "import json\n",
    "with open(\"../tmp/PossibleTargets.json\", 'w') as outfile:\n",
    "    json.dump(possibleTargets, outfile)\n"
   ]
  },
  {
   "cell_type": "code",
   "execution_count": 17,
   "metadata": {},
   "outputs": [],
   "source": [
    "ListReg=list()\n",
    "for g in regulators:\n",
    "    if (EnsemblToGeneNamesList.get(g) != None):\n",
    "        ListReg=ListReg+EnsemblToGeneNamesList.get(g)"
   ]
  },
  {
   "cell_type": "code",
   "execution_count": 18,
   "metadata": {},
   "outputs": [
    {
     "data": {
      "text/plain": [
       "194"
      ]
     },
     "execution_count": 18,
     "metadata": {},
     "output_type": "execute_result"
    }
   ],
   "source": [
    "len(ListReg)"
   ]
  },
  {
   "cell_type": "code",
   "execution_count": 19,
   "metadata": {
    "collapsed": true
   },
   "outputs": [],
   "source": [
    "possibleTargetsAvant=dict()\n",
    "for m in Allmeds:\n",
    "    tg = Allmeds.get(m).get('TargetsGenes')\n",
    "    malist = [GeneAltNameToName.get(x) for x in ListReg if GeneAltNameToName.get(x) in tg]\n",
    "    for g in malist:\n",
    "        if not possibleTargetsAvant.get(g):\n",
    "            possibleTargetsAvant[g]=list()\n",
    "        possibleTargetsAvant[g].append(m)"
   ]
  },
  {
   "cell_type": "code",
   "execution_count": 20,
   "metadata": {},
   "outputs": [
    {
     "data": {
      "text/plain": [
       "{'CEL': ['Xenical (TN)'],\n",
       " 'DGAT1': ['Pradigastat sodium (USAN)', 'Pradigastat (USAN)'],\n",
       " 'NPC1L1': ['Zetia (TN)'],\n",
       " 'PNLIP': ['Xenical (TN)'],\n",
       " 'SLC22A1': ['Metformin (USAN/INN)', 'Glucophage (TN)', 'Eloxatin (TN)']}"
      ]
     },
     "execution_count": 20,
     "metadata": {},
     "output_type": "execute_result"
    }
   ],
   "source": [
    "possibleTargetsAvant"
   ]
  },
  {
   "cell_type": "code",
   "execution_count": null,
   "metadata": {},
   "outputs": [],
   "source": []
  },
  {
   "cell_type": "code",
   "execution_count": null,
   "metadata": {},
   "outputs": [],
   "source": []
  },
  {
   "cell_type": "code",
   "execution_count": 21,
   "metadata": {},
   "outputs": [
    {
     "name": "stdout",
     "output_type": "stream",
     "text": [
      "Le nombre total de cibles potentielles après reconstruction est 14\n"
     ]
    }
   ],
   "source": [
    "print(\"Le nombre total de cibles potentielles après reconstruction est\",len(possibleTargets))"
   ]
  },
  {
   "cell_type": "code",
   "execution_count": 22,
   "metadata": {},
   "outputs": [
    {
     "name": "stdout",
     "output_type": "stream",
     "text": [
      "Le nombre total de cibles potentielles avant reconstruction est 5\n"
     ]
    }
   ],
   "source": [
    "print(\"Le nombre total de cibles potentielles avant reconstruction est\",len(possibleTargetsAvant))"
   ]
  },
  {
   "cell_type": "code",
   "execution_count": null,
   "metadata": {},
   "outputs": [],
   "source": []
  },
  {
   "cell_type": "code",
   "execution_count": 23,
   "metadata": {
    "collapsed": true
   },
   "outputs": [],
   "source": [
    "Drugs=list()\n",
    "for t in possibleTargets:\n",
    "    lg=possibleTargets.get(t)\n",
    "    for g in lg:\n",
    "        Drugs.append(g)\n",
    "        \n",
    "Drugs=list(set(Drugs))"
   ]
  },
  {
   "cell_type": "code",
   "execution_count": 24,
   "metadata": {},
   "outputs": [
    {
     "data": {
      "text/plain": [
       "175"
      ]
     },
     "execution_count": 24,
     "metadata": {},
     "output_type": "execute_result"
    }
   ],
   "source": [
    "len(Drugs)"
   ]
  },
  {
   "cell_type": "code",
   "execution_count": 25,
   "metadata": {},
   "outputs": [
    {
     "name": "stdout",
     "output_type": "stream",
     "text": [
      "Le réseau de régulation possède 370 gènes\n",
      "Le réseau de régulation possède 4155 interactions\n"
     ]
    }
   ],
   "source": [
    "import networkx as nx\n",
    "\n",
    "# construction du graphe de régulation\n",
    "\n",
    "G=nx.DiGraph()\n",
    "\n",
    "for i in a:\n",
    "    source,typ,target=i.split(\"_\")\n",
    "    G.add_edge(source,target)\n",
    "\n",
    "print(\"Le réseau de régulation possède\",len(G.nodes()),\"gènes\")\n",
    "\n",
    "print(\"Le réseau de régulation possède\",len(G.edges()),\"interactions\")"
   ]
  },
  {
   "cell_type": "code",
   "execution_count": null,
   "metadata": {},
   "outputs": [],
   "source": []
  },
  {
   "cell_type": "code",
   "execution_count": null,
   "metadata": {},
   "outputs": [],
   "source": []
  },
  {
   "cell_type": "code",
   "execution_count": 26,
   "metadata": {},
   "outputs": [],
   "source": [
    "# essai : ici, on prend l'ensemble des drogues de KeggDrug et on regarde tous les gènes impactés par au moins une drogue\n",
    "\n",
    "L=list()\n",
    "for g in possibleTargets:\n",
    "    L.append(g)\n",
    "\n",
    "L=L+nx.algorithms.node_boundary(G,L)"
   ]
  },
  {
   "cell_type": "code",
   "execution_count": 27,
   "metadata": {},
   "outputs": [
    {
     "name": "stdout",
     "output_type": "stream",
     "text": [
      "Le sous-réseau de régulation impacté possède 187 gènes\n",
      "Le sous-réseau de régulation impacté possède 2078 interactions\n"
     ]
    }
   ],
   "source": [
    "# G2 sera le sous-graphe induit par L (i.e., le sous-graphe de G dont tous les sommets sont dans L)\n",
    "\n",
    "G2=G.copy()\n",
    "G2.remove_nodes_from(n for n in G.nodes() if n not in L)\n",
    "\n",
    "print(\"Le sous-réseau de régulation impacté possède\",len(G2.nodes()),\"gènes\")\n",
    "print(\"Le sous-réseau de régulation impacté possède\",len(G2.edges()),\"interactions\")"
   ]
  },
  {
   "cell_type": "code",
   "execution_count": null,
   "metadata": {},
   "outputs": [],
   "source": []
  },
  {
   "cell_type": "code",
   "execution_count": null,
   "metadata": {},
   "outputs": [],
   "source": []
  },
  {
   "cell_type": "code",
   "execution_count": 28,
   "metadata": {},
   "outputs": [
    {
     "data": {
      "text/plain": [
       "194"
      ]
     },
     "execution_count": 28,
     "metadata": {},
     "output_type": "execute_result"
    }
   ],
   "source": [
    "GenesCibles=list()\n",
    "for e in regulators:\n",
    "    LR=EnsemblToGeneNamesList.get(e)\n",
    "    if (LR != None):\n",
    "        GenesCibles=GenesCibles+LR\n",
    "\n",
    "len(GenesCibles)"
   ]
  },
  {
   "cell_type": "code",
   "execution_count": null,
   "metadata": {},
   "outputs": [],
   "source": []
  },
  {
   "cell_type": "code",
   "execution_count": null,
   "metadata": {},
   "outputs": [],
   "source": []
  },
  {
   "cell_type": "code",
   "execution_count": null,
   "metadata": {
    "collapsed": true
   },
   "outputs": [],
   "source": []
  },
  {
   "cell_type": "code",
   "execution_count": 29,
   "metadata": {},
   "outputs": [
    {
     "ename": "NameError",
     "evalue": "name 'MetFlux' is not defined",
     "output_type": "error",
     "traceback": [
      "\u001b[0;31m---------------------------------------------------------------------------\u001b[0m",
      "\u001b[0;31mNameError\u001b[0m                                 Traceback (most recent call last)",
      "\u001b[0;32m<ipython-input-29-b3d9e3e3777d>\u001b[0m in \u001b[0;36m<module>\u001b[0;34m()\u001b[0m\n\u001b[0;32m----> 1\u001b[0;31m \u001b[0mMetFlux\u001b[0m\u001b[0;34m[\u001b[0m\u001b[0;34m\"NEFA\"\u001b[0m\u001b[0;34m]\u001b[0m\u001b[0;34m=\u001b[0m\u001b[0;36m9.435\u001b[0m\u001b[0;34m\u001b[0m\u001b[0m\n\u001b[0m\u001b[1;32m      2\u001b[0m \u001b[0mMetFlux\u001b[0m\u001b[0;34m[\u001b[0m\u001b[0;34m\"glucose\"\u001b[0m\u001b[0;34m]\u001b[0m\u001b[0;34m=\u001b[0m\u001b[0;36m61.967\u001b[0m\u001b[0;34m\u001b[0m\u001b[0m\n\u001b[1;32m      3\u001b[0m \u001b[0mMetFlux\u001b[0m\u001b[0;34m[\u001b[0m\u001b[0;34m\"linoleate\"\u001b[0m\u001b[0;34m]\u001b[0m\u001b[0;34m=\u001b[0m\u001b[0;34m-\u001b[0m\u001b[0;36m1.4771\u001b[0m\u001b[0;34m\u001b[0m\u001b[0m\n\u001b[1;32m      4\u001b[0m \u001b[0mMetFlux\u001b[0m\u001b[0;34m[\u001b[0m\u001b[0;34m\"histidine\"\u001b[0m\u001b[0;34m]\u001b[0m\u001b[0;34m=\u001b[0m\u001b[0;34m-\u001b[0m\u001b[0;36m0.42186\u001b[0m\u001b[0;34m\u001b[0m\u001b[0m\n\u001b[1;32m      5\u001b[0m \u001b[0mMetFlux\u001b[0m\u001b[0;34m[\u001b[0m\u001b[0;34m\"isoleucine\"\u001b[0m\u001b[0;34m]\u001b[0m\u001b[0;34m=\u001b[0m\u001b[0;34m-\u001b[0m\u001b[0;36m4.5346\u001b[0m\u001b[0;34m\u001b[0m\u001b[0m\n",
      "\u001b[0;31mNameError\u001b[0m: name 'MetFlux' is not defined"
     ]
    }
   ],
   "source": [
    "MetFlux[\"NEFA\"]=9.435\n",
    "MetFlux[\"glucose\"]=61.967\n",
    "MetFlux[\"linoleate\"]=-1.4771\n",
    "MetFlux[\"histidine\"]=-0.42186\n",
    "MetFlux[\"isoleucine\"]=-4.5346\n",
    "MetFlux[\"leucine\"]=-4.8616\n",
    "MetFlux[\"lysine\"]=-3.7669\n",
    "MetFlux[\"methionine\"]=-1.512\n",
    "MetFlux[\"phenylalanine\"]=-0.42186\n",
    "MetFlux[\"threonine\"]=-2.1126\n",
    "MetFlux[\"tryptophan\"]=-0.42186\n",
    "MetFlux[\"valine\"]=-2.5502\n",
    "MetFlux[\"H2O\"]=0.012347\n",
    "MetFlux[\"O2\"]=-47.1389\n",
    "MetFlux[\"CO2\"]=-32.3697\n",
    "MetFlux[\"alanine\"]=-2.0184\n",
    "MetFlux[\"asparagine\"]=1.24\n",
    "MetFlux[\"glutamine\"]=18.1648\n",
    "MetFlux[\"tyrosine\"]=1.7553\n",
    "MetFlux[\"cysteine\"]=-0.66829\n",
    "MetFlux[\"arginine\"]=2.7083\n",
    "MetFlux[\"glycine\"]=1.4082\n",
    "MetFlux[\"proline\"]=0.20996\n",
    "MetFlux[\"serine\"]=5.5838\n",
    "MetFlux[\"aspartate\"]=1.8467\n",
    "MetFlux[\"glutamate\"]=1.411\n",
    "MetFlux[\"Pi\"]=-0.012347\n",
    "MetFlux[\"NH3\"]=-2.8121\n",
    "MetFlux[\"HCO3-\"]=-0.80866\n",
    "MetFlux[\"choline\"]=0.42717\n",
    "MetFlux[\"ethanolamine\"]=-4.8705\n",
    "MetFlux[\"acetate\"]=-47.4465\n",
    "MetFlux[\"ornithine\"]=-30.0037\n",
    "MetFlux[\"5-formyl-THF\"]=0.24872\n",
    "MetFlux[\"acetoacetate\"]=-0.42157\n",
    "MetFlux[\"L-lactate\"]=-41.7375\n",
    "MetFlux[\"fructose\"]=-38.4359\n",
    "MetFlux[\"ADP-ribose\"]=0.012519\n",
    "MetFlux[\"folate\"]=0.0022124\n",
    "MetFlux[\"homoserine\"]=0.6349\n",
    "MetFlux[\"citrulline\"]=0.082847\n",
    "MetFlux[\"2-hydroxybutyrate\"]=-3.4158\n",
    "MetFlux[\"5-methyl-THF\"]=-0.66829\n",
    "MetFlux[\"adenine\"]=-0.00093523\n",
    "MetFlux[\"adenosine\"]=-0.00040792\n",
    "MetFlux[\"ADP\"]=0.0012202\n",
    "MetFlux[\"AKG\"]=-0.0015523\n",
    "MetFlux[\"AMP\"]=-0.0012202\n",
    "MetFlux[\"CMP\"]=-0.0015891\n",
    "MetFlux[\"cytidine\"]=0.0021187\n",
    "MetFlux[\"deoxycytidine\"]=0.0018937\n",
    "MetFlux[\"deoxyuridine\"]=0.0020755\n",
    "MetFlux[\"GDP\"]=0.0020071\n",
    "MetFlux[\"GMP\"]=-0.00063611\n",
    "MetFlux[\"hypoxanthine\"]=0.021934\n",
    "MetFlux[\"inosine\"]=-0.00024905\n",
    "MetFlux[\"THF\"]=0.41736\n",
    "MetFlux[\"thymine\"]=-0.000079265\n",
    "MetFlux[\"thymidine\"]=0.0015529\n",
    "MetFlux[\"UDP\"]=0.0045704\n",
    "MetFlux[\"UMP\"]=-0.0045704\n",
    "MetFlux[\"uracil\"]=-0.0084013\n",
    "MetFlux[\"urea\"]=-2.3693\n",
    "MetFlux[\"uridine\"]=0.0068026\n",
    "MetFlux[\"UTP\"]=0.61997\n",
    "MetFlux[\"XTP\"]=0.28912\n",
    "MetFlux[\"ADP-glucose\"]=0.31787\n",
    "MetFlux[\"D-glucitol\"]=-0.014345\n"
   ]
  },
  {
   "cell_type": "code",
   "execution_count": null,
   "metadata": {},
   "outputs": [],
   "source": [
    "model = cobra.io.read_sbml_model('/Users/jeremiebourdon/Downloads/Hep-G2.xml')\n",
    "\n",
    "\n",
    "MetFlux=dict()\n",
    "MetFlux[\"propanoate\"]=0.000078515\n",
    "MetFlux[\"NEFA\"]=9.435\n",
    "MetFlux[\"glucose\"]=61.967\n",
    "MetFlux[\"linoleate\"]=-1.4771\n",
    "MetFlux[\"histidine\"]=-0.42186\n",
    "MetFlux[\"isoleucine\"]=-4.5346\n",
    "MetFlux[\"leucine\"]=-4.8616\n",
    "MetFlux[\"lysine\"]=-3.7669\n",
    "MetFlux[\"methionine\"]=-1.512\n",
    "MetFlux[\"phenylalanine\"]=-0.42186\n",
    "MetFlux[\"threonine\"]=-2.1126\n",
    "MetFlux[\"tryptophan\"]=-0.42186\n",
    "MetFlux[\"valine\"]=-2.5502\n",
    "MetFlux[\"H2O\"]=0.012347\n",
    "MetFlux[\"O2\"]=-47.1389\n",
    "MetFlux[\"CO2\"]=-32.3697\n",
    "MetFlux[\"alanine\"]=-2.0184\n",
    "MetFlux[\"asparagine\"]=1.24\n",
    "MetFlux[\"glutamine\"]=18.1648\n",
    "#MetFlux[\"tyrosine\"]=1.7553\n",
    "MetFlux[\"cysteine\"]=-0.66829\n",
    "MetFlux[\"arginine\"]=2.7083\n",
    "MetFlux[\"glycine\"]=1.4082\n",
    "MetFlux[\"proline\"]=0.20996\n",
    "MetFlux[\"serine\"]=5.5838\n",
    "#MetFlux[\"aspartate\"]=1.8467\n",
    "MetFlux[\"glutamate\"]=1.411\n",
    "MetFlux[\"Pi\"]=-0.012347\n",
    "MetFlux[\"NH3\"]=-2.8121\n",
    "#MetFlux[\"HCO3-\"]=-0.80866\n",
    "MetFlux[\"choline\"]=0.42717\n",
    "MetFlux[\"ethanolamine\"]=-4.8705\n",
    "MetFlux[\"acetate\"]=-47.4465\n",
    "MetFlux[\"ornithine\"]=-30.0037\n",
    "#MetFlux[\"5-formyl-THF\"]=0.24872\n",
    "MetFlux[\"acetoacetate\"]=-0.42157\n",
    "MetFlux[\"L-lactate\"]=-41.7375\n",
    "MetFlux[\"fructose\"]=-38.4359\n",
    "#MetFlux[\"ADP-ribose\"]=0.012519\n",
    "MetFlux[\"folate\"]=0.0022124\n",
    "#MetFlux[\"homoserine\"]=0.6349\n",
    "#MetFlux[\"citrulline\"]=0.082847\n",
    "MetFlux[\"2-hydroxybutyrate\"]=-3.4158\n",
    "MetFlux[\"5-methyl-THF\"]=-0.66829\n",
    "MetFlux[\"adenine\"]=-0.00093523\n",
    "MetFlux[\"adenosine\"]=-0.00040792\n",
    "MetFlux[\"ADP\"]=0.0012202\n",
    "MetFlux[\"AKG\"]=-0.0015523\n",
    "MetFlux[\"AMP\"]=-0.0012202\n",
    "MetFlux[\"CMP\"]=-0.0015891\n",
    "MetFlux[\"cytidine\"]=0.0021187\n",
    "MetFlux[\"deoxycytidine\"]=0.0018937\n",
    "MetFlux[\"deoxyuridine\"]=0.0020755\n",
    "MetFlux[\"GDP\"]=0.0020071\n",
    "MetFlux[\"GMP\"]=-0.00063611\n",
    "MetFlux[\"hypoxanthine\"]=0.021934\n",
    "MetFlux[\"inosine\"]=-0.00024905\n",
    "MetFlux[\"THF\"]=0.41736\n",
    "MetFlux[\"thymine\"]=-0.000079265\n",
    "MetFlux[\"thymidine\"]=0.0015529\n",
    "MetFlux[\"UDP\"]=0.0045704\n",
    "MetFlux[\"UMP\"]=-0.0045704\n",
    "MetFlux[\"uracil\"]=-0.0084013\n",
    "#MetFlux[\"urea\"]=-2.3693\n",
    "MetFlux[\"uridine\"]=0.0068026\n",
    "MetFlux[\"UTP\"]=0.61997\n",
    "#MetFlux[\"XTP\"]=0.28912\n",
    "#MetFlux[\"ADP-glucose\"]=0.31787\n",
    "MetFlux[\"D-glucitol\"]=-0.014345\n",
    "\n",
    "modelC=model.copy()\n",
    "for met in MetFlux:\n",
    "    find=0\n",
    "    for m in modelC.metabolites:\n",
    "        if (m.name == met and m.compartment == \"s\"):\n",
    "            for r in m.reactions:\n",
    "                if (len(r.reactants) == 0):        \n",
    "                    #print(m.id+\":\"+m.name, r.id, r.build_reaction_string(), r.lower_bound, r.upper_bound, -MetFlux[met])\n",
    "                    diff=0.1*abs(MetFlux[met])\n",
    "                    r.lower_bound=MetFlux[met]-diff\n",
    "                    r.upper_bound=MetFlux[met]+diff\n",
    "                    find+=1\n",
    "    if find == 0:\n",
    "        print(\"no match for \",met)\n",
    "modelC.reactions.biomass_components.objective_coefficient = -1\n",
    "fmin=modelC.optimize()\n",
    "modelC.reactions.biomass_components.objective_coefficient = 1\n",
    "fmax=modelC.optimize()    \n",
    "print(met,\":\",fmin.f,fmax.f)\n",
    "# print(model.compartments)\n",
    "\n",
    "model.reactions.biomass_components.objective_coefficient=-1\n",
    "print(model.reactions.biomass_components.build_reaction_string())\n",
    "print(model.reactions.biomass_components.upper_bound)\n",
    "\n",
    "model = cobra.io.read_sbml_model('/Users/jeremiebourdon/Downloads/liver_-_hepatocytes_2 4.xml')\n",
    "model.optimize()\n",
    "\n",
    "cobra.flux_analysis.flux_variability_analysis(model)"
   ]
  },
  {
   "cell_type": "code",
   "execution_count": null,
   "metadata": {
    "collapsed": true
   },
   "outputs": [],
   "source": []
  }
 ],
 "metadata": {
  "anaconda-cloud": {},
  "kernelspec": {
   "display_name": "Python 3",
   "language": "python",
   "name": "python3"
  },
  "language_info": {
   "codemirror_mode": {
    "name": "ipython",
    "version": 3
   },
   "file_extension": ".py",
   "mimetype": "text/x-python",
   "name": "python",
   "nbconvert_exporter": "python",
   "pygments_lexer": "ipython3",
   "version": "3.5.5"
  }
 },
 "nbformat": 4,
 "nbformat_minor": 1
}
