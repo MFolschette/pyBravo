{
 "cells": [
  {
   "cell_type": "markdown",
   "metadata": {
    "collapsed": true
   },
   "source": [
    "# Un scénario complet"
   ]
  },
  {
   "cell_type": "markdown",
   "metadata": {},
   "source": [
    "Quelques informations et paramètres pour commencer "
   ]
  },
  {
   "cell_type": "code",
   "execution_count": 1,
   "metadata": {
    "collapsed": false
   },
   "outputs": [],
   "source": [
    "from Entete import *"
   ]
  },
  {
   "cell_type": "markdown",
   "metadata": {},
   "source": [
    "Tous les includes"
   ]
  },
  {
   "cell_type": "code",
   "execution_count": 2,
   "metadata": {
    "collapsed": true
   },
   "outputs": [],
   "source": [
    "#Param_SBMLfile = \"/Users/jeremiebourdon/Downloads/Hep-G2.xml\""
   ]
  },
  {
   "cell_type": "code",
   "execution_count": 3,
   "metadata": {
    "collapsed": false
   },
   "outputs": [
    {
     "name": "stderr",
     "output_type": "stream",
     "text": [
      "Testing ../data/iLiverCancer1715.xml for Sorafenib (USAN/INN)\n"
     ]
    }
   ],
   "source": [
    "## DEBUG ONLY\n",
    "begintotal = timer()\n",
    "eprint(\"Testing\",Param_SBMLfile,\"for\",Param_Drug)\n",
    "\n",
    "## END DEBUG ONLY"
   ]
  },
  {
   "cell_type": "markdown",
   "metadata": {},
   "source": [
    "Chargement des listes de correspondances"
   ]
  },
  {
   "cell_type": "code",
   "execution_count": 5,
   "metadata": {
    "collapsed": false
   },
   "outputs": [
    {
     "name": "stderr",
     "output_type": "stream",
     "text": [
      "Importing all the correspondance tables\n"
     ]
    }
   ],
   "source": [
    "#from AllTables import *\n",
    "from AllTables import *"
   ]
  },
  {
   "cell_type": "code",
   "execution_count": null,
   "metadata": {
    "collapsed": false
   },
   "outputs": [],
   "source": []
  },
  {
   "cell_type": "code",
   "execution_count": 6,
   "metadata": {
    "collapsed": false
   },
   "outputs": [],
   "source": [
    "Param_Pourcentage = 0.95"
   ]
  },
  {
   "cell_type": "markdown",
   "metadata": {},
   "source": [
    "Construction de la liste des cibles"
   ]
  },
  {
   "cell_type": "code",
   "execution_count": 7,
   "metadata": {
    "collapsed": false
   },
   "outputs": [
    {
     "name": "stderr",
     "output_type": "stream",
     "text": [
      "Entering : Association RxN <-> Enzymes list construction\n"
     ]
    }
   ],
   "source": [
    "# étape 1 : construction du fichier d'association Reactions <-> EC numbers\n",
    "\n",
    "# obsolete : La liste RXN -> liste gènes est désormais récupérée directement depuis HMRDatabase\n",
    "\n",
    "# dictionnaire HMR_to_Ensembl\n",
    "\n",
    "\n",
    "eprint(\"Entering : Association RxN <-> Enzymes list construction\")\n",
    "\n",
    "SBMLfile = Param_SBMLfile\n",
    "\n",
    "#SBMLfile = raw_input(\"Enter the SBML filename ? \")\n",
    "\n",
    "def ConstructAssociationList(SBMLfile, RXN_EC_file=\"/tmp/RXN_EC.txt\"):\n",
    "\n",
    "    import os\n",
    "    os.system(\"../scripts/Construct_List_RXN_Enzymes.sh \"+SBMLfile+\" \"+RXN_EC_file)\n",
    "    fd = open(RXN_EC_file,\"r\")\n",
    "    lines = fd.readlines()\n",
    "\n",
    "    genes = dict()\n",
    "    for l in lines:\n",
    "        t=l.split(\" \")\n",
    "        cum=''\n",
    "        for i in range(1,len(t)-1):\n",
    "            cum=cum+t[i]+\" \"\n",
    "        genes[t[0]]=cum\n",
    "    return genes\n",
    "\n",
    "genes=ConstructAssociationList(SBMLfile,RXN_EC_file)\n"
   ]
  },
  {
   "cell_type": "code",
   "execution_count": 8,
   "metadata": {
    "collapsed": false
   },
   "outputs": [
    {
     "name": "stderr",
     "output_type": "stream",
     "text": [
      "Entering : Single Reaction Analysis\n",
      "Execution time (Single Reaction Analysis) =  41.34574938900005 seconds\n"
     ]
    }
   ],
   "source": [
    "# Etape 2 : Single Reaction Analysis\n",
    "\n",
    "eprint(\"Entering : Single Reaction Analysis\")\n",
    "\n",
    "## DEBUG ONLY\n",
    "begin = timer()\n",
    "## END DEBUG ONLY\n",
    "\n",
    "\n",
    "# perfoming a single_reaction_deletion analysis of the network\n",
    "\n",
    "model = cobra.io.read_sbml_model(Param_SBMLfile)\n",
    "\n",
    "# the objective coefficient must be properly set\n",
    "model.reactions.CancerBiomass_OF.objective_coefficient=1\n",
    "\n",
    "# reference biomass growth\n",
    "fba=model.optimize().f\n",
    "\n",
    "# single reaction deletion analysis\n",
    "\n",
    "\n",
    "if (Param_DoReconstruction and Param_Pourcentage<1):\n",
    "    rates, status = cobra.flux_analysis.single_reaction_deletion(model,solver=whichsolver)\n",
    "else:\n",
    "    rates=dict()\n",
    "    for r in model.reactions:\n",
    "        rates[r.id]=0\n",
    "        \n",
    "## DEBUG ONLY\n",
    "end = timer()\n",
    "eprint(\"Execution time (Single Reaction Analysis) = \",end-begin,\"seconds\")\n",
    "## END DEBUG ONLY"
   ]
  },
  {
   "cell_type": "code",
   "execution_count": null,
   "metadata": {
    "collapsed": false
   },
   "outputs": [],
   "source": []
  },
  {
   "cell_type": "code",
   "execution_count": null,
   "metadata": {
    "collapsed": false
   },
   "outputs": [],
   "source": []
  },
  {
   "cell_type": "code",
   "execution_count": null,
   "metadata": {
    "collapsed": false
   },
   "outputs": [],
   "source": [
    "\n"
   ]
  },
  {
   "cell_type": "code",
   "execution_count": 9,
   "metadata": {
    "collapsed": false
   },
   "outputs": [],
   "source": [
    "# Etape 3 : Extraction des enzymes régulateurs (nécessite étape 1 et 2)\n",
    "\n",
    "def getRegulators(rates, percentage=1.1):\n",
    "    regulators = dict()\n",
    "\n",
    "    cpt=0\n",
    "    for r in rates:\n",
    "        if (rates.get(r)<percentage*fba):\n",
    "            if (HMR_to_Ensembl.get(r)!=''):\n",
    "                # print(r,':',rates.get(r),\" \",genes.get(r))\n",
    "                cpt=cpt+1\n",
    "                l=HMR_to_Ensembl.get(r)\n",
    "                if (l):\n",
    "                    for i in l:\n",
    "                        if (i != ''):\n",
    "                            regulators[i]=1\n",
    "    return regulators\n",
    "\n",
    "\n",
    "def getRegulators_obsolete(rates, percentage=1.1):\n",
    "    regulators = dict()\n",
    "\n",
    "    cpt=0\n",
    "    for r in rates:\n",
    "        if (rates.get(r)<percentage*fba):\n",
    "            if (genes.get(r)!=''):\n",
    "                # print(r,':',rates.get(r),\" \",genes.get(r))\n",
    "                cpt=cpt+1\n",
    "                l=genes.get(r).split(' ')\n",
    "                for i in l:\n",
    "                    if (i != ''):\n",
    "                        regulators[i]=1\n",
    "    return regulators\n",
    "\n",
    "if (Param_DoReconstruction):\n",
    "    regulators = getRegulators(rates, Param_Pourcentage)"
   ]
  },
  {
   "cell_type": "code",
   "execution_count": null,
   "metadata": {
    "collapsed": false
   },
   "outputs": [],
   "source": []
  },
  {
   "cell_type": "code",
   "execution_count": 10,
   "metadata": {
    "collapsed": false
   },
   "outputs": [
    {
     "name": "stderr",
     "output_type": "stream",
     "text": [
      "Missing  ENSG00000123009\n",
      "Missing  ENSG00000165862\n",
      "Target gene list size = 187\n"
     ]
    }
   ],
   "source": [
    "# Etape 4 : récupération de la liste de gènes régulateurs\n",
    "def GeneListFromEC(ecnumber):\n",
    "    if (ecnumber.find('-')>0):\n",
    "        cum=list()\n",
    "        for i in range(1,500):\n",
    "            gl=ECTCDBToEnsembl.get(ecnumber.replace('-',str(i)))\n",
    "            if (gl != None and len(gl)>0):\n",
    "                cum+=gl\n",
    "        return cum\n",
    "    else:\n",
    "        gl=ECTCDBToEnsembl.get(ecnumber)\n",
    "        if (gl == None):\n",
    "            gl=list()\n",
    "        return gl\n",
    "\n",
    "if (Param_DoReconstruction):\n",
    "    TargetGenesEnsembl=list()\n",
    "    for ec in regulators:\n",
    "#        TargetGenesEnsembl+=GeneListFromEC(ec.lower())\n",
    "        TargetGenesEnsembl+=[ec.replace(\"'\",\"%27\")]\n",
    "    \n",
    "    TargetGenes = [EnsemblToGeneNames.get(x) for x in TargetGenesEnsembl]\n",
    "    TargetGenes=list()\n",
    "    for x in TargetGenesEnsembl:\n",
    "        if (genelist.get(x)):\n",
    "            TargetGenes.append(genelist.get(x)[0])\n",
    "        else:\n",
    "            eprint('Missing ',x)\n",
    "    \n",
    "    TargetGenes=set(TargetGenes)\n",
    "    TargetGenes=list(TargetGenes)\n",
    "    \n",
    "    TargetGenesEnsembl=set(TargetGenesEnsembl)\n",
    "    TargetGenesEnsembl=list(TargetGenesEnsembl)\n",
    "    \n",
    "    eprint(\"Target gene list size =\",len(TargetGenes))\n",
    "    \n",
    "    fd = open(Param_TargetFilename,\"w\")\n",
    "    for g in TargetGenes:\n",
    "        fd.write(g+\"\\n\")\n",
    "    fd.close()\n",
    "    fd = open(Param_TargetFilename+\"_EnsemblId\",\"w\")\n",
    "    for g in TargetGenesEnsembl:\n",
    "        fd.write(g+\"\\n\")\n",
    "    fd.close()\n",
    "    \n",
    "    "
   ]
  },
  {
   "cell_type": "code",
   "execution_count": null,
   "metadata": {
    "collapsed": false
   },
   "outputs": [],
   "source": []
  },
  {
   "cell_type": "markdown",
   "metadata": {
    "collapsed": true
   },
   "source": [
    "Regulatory network reconstruction using PathwayCommons SPARQL endpoint"
   ]
  },
  {
   "cell_type": "code",
   "execution_count": 14,
   "metadata": {
    "collapsed": false
   },
   "outputs": [],
   "source": [
    "# Algorithms\n",
    "\n",
    "Aliases = dict()\n",
    "for g in GeneAltNameToName:\n",
    "    if not Aliases.get(GeneAltNameToName.get(g)):\n",
    "        Aliases[GeneAltNameToName.get(g)] = list()\n",
    "    Aliases[GeneAltNameToName.get(g)].append(g)\n",
    "\n",
    "def GetTFControllersList(EnsemblId):\n",
    "    commonPCPrefixes = \"\"\"\n",
    "PREFIX bp: <http://www.biopax.org/release/biopax-level3.owl#>\n",
    "PREFIX rdf: <http://www.w3.org/1999/02/22-rdf-syntax-ns#>\n",
    "PREFIX xsd: <http://www.w3.org/2001/XMLSchema#>\n",
    "\"\"\"\n",
    "\n",
    "    Request = \"\"\"\n",
    "SELECT ?tempReac ?type ?controlledName ?controllerName ?source ?controllerType ?controlledType\n",
    "WHERE{ \n",
    "    FILTER (\n",
    "    (\"\"\"\n",
    "    for i in range(0,len(EnsemblId)-1):\n",
    "        EnsemblId[i]=EnsemblId[i].replace(\"'\",\"%27\")\n",
    "#        Request=Request+\"\"\"((?controlledName = '%%GENETARGETNAME%%'^^xsd:string) and (?controllerName != '%%GENETARGETNAME%%'^^xsd:string) ) or \n",
    "        Request=Request+\"\"\"((?controlledName = '%%GENETARGETNAME%%'^^xsd:string) ) or \n",
    "        \"\"\".replace(\"%%GENETARGETNAME%%\",EnsemblId[i])\n",
    "\n",
    "#    Request=Request+\"((?controlledName = '%%GENETARGETNAME%%'^^xsd:string) and (?controllerName != '%%GENETARGETNAME%%'^^xsd:string) )\".replace(\"%%GENETARGETNAME%%\",EnsemblId[len(EnsemblId)-1])\n",
    "    Request=Request+\"((?controlledName = '%%GENETARGETNAME%%'^^xsd:string) )\".replace(\"%%GENETARGETNAME%%\",EnsemblId[len(EnsemblId)-1])\n",
    "    Request=Request+\"\"\")\n",
    "        and (str(?source) != \\\"http://pathwaycommons.org/pc2/mirtarbase\\\") \n",
    "        and ((str(?controlledType) = \"http://www.biopax.org/release/biopax-level3.owl#Protein\") or (str(?controlledType) = \"http://www.biopax.org/release/biopax-level3.owl#Rna\"))\n",
    "        and ((str(?controllerType) = \"http://www.biopax.org/release/biopax-level3.owl#Protein\") or (str(?controllerType) = \"http://www.biopax.org/release/biopax-level3.owl#Rna\"))\n",
    ") .\n",
    "?tempReac a bp:TemplateReactionRegulation .\n",
    "?tempReac rdf:type ?ctype ; bp:controlled ?controlled ; bp:controller ?controller ; bp:controlType ?type ; bp:dataSource ?source .\n",
    "?controlled bp:participant ?participant ; bp:dataSource ?controlledsource .\n",
    "?participant bp:displayName ?controlledName; rdf:type ?controlledType .\n",
    "?controller bp:displayName ?controllerName ; rdf:type ?controllerType ; bp:dataSource ?controllersource .\n",
    "}    \n",
    "GROUP BY ?controlledName ?controllerName\n",
    "\"\"\"\n",
    "#    print(Request)\n",
    "#    RequestToBePerformed=commonPCPrefixes+Request.replace(\"%%GENETARGETNAME%%\",EnsemblId)\n",
    "    RequestToBePerformed=commonPCPrefixes+Request\n",
    "    sparql = SPARQLWrapper(PC_Endpoint)\n",
    "    sparql.setQuery(RequestToBePerformed)\n",
    "    sparql.setReturnFormat(JSON)\n",
    "    sparql.setMethod(\"POST\")\n",
    "    query = sparql.query().convert()\n",
    "    results=list()\n",
    "    listofgenes=list()\n",
    "    ListBindings=query.get('results').get('bindings')\n",
    "    for l in ListBindings:\n",
    "        controllerName = (l.get('controllerName').get('value')).replace(\" protein\",\"\").replace(\" alternative form\",\"\")\n",
    "        controlType= (l.get('type').get('value'))\n",
    "        controlledGene=(l.get('controlledName').get('value')).replace(\"Transcription of \",\"\")\n",
    "        rule = controllerName+\"_\"+controlType +\"_\"+GeneAltNameToName.get(controlledGene)\n",
    "        if (rule not in results):\n",
    "            results.append(rule)\n",
    "        if (controllerName not in listofgenes):\n",
    "            listofgenes.append(controllerName)\n",
    "    return results,listofgenes\n",
    "\n",
    "\n",
    "\n",
    "\n",
    "\n",
    "def getParentGraphList(l,limit=30):\n",
    "    pas=50\n",
    "    i=0\n",
    "    allgenes=dict()\n",
    "    for g in l:\n",
    "        allgenes[g]=1\n",
    "    listofrelations=list()\n",
    "    unmapped=list()\n",
    "    while (i<len(l) and i<limit):\n",
    "        eprint(\"Treated \",i,\" genes, still \",(len(l)-i),\" limit = \",limit)\n",
    "        L=list()\n",
    "        for j in range(0,pas):\n",
    "            if (i+j<len(l)):\n",
    "                gene=l[i+j]\n",
    "                if (Aliases.get(GeneAltNameToName.get(gene)) != None):\n",
    "                    L=L+Aliases.get(GeneAltNameToName.get(gene))\n",
    "        relations,newgenes=GetTFControllersList(L)\n",
    "        if (len(relations) == 0):\n",
    "            unmapped.append(gene)\n",
    "        listofrelations+=relations\n",
    "        for g in newgenes:\n",
    "            g=GeneAltNameToName.get(g)\n",
    "            if (g not in l): #(allgenes.get(g) != 1): # \n",
    "                l.append(g)\n",
    "                allgenes[g]=1\n",
    "        i+=pas\n",
    "    return listofrelations,l,unmapped\n",
    "\n",
    "\n",
    "\n",
    "\n",
    "\n",
    "\n",
    "\n",
    "\n"
   ]
  },
  {
   "cell_type": "code",
   "execution_count": 15,
   "metadata": {
    "collapsed": false
   },
   "outputs": [
    {
     "name": "stderr",
     "output_type": "stream",
     "text": [
      "Entering : RRG reconstruction\n",
      "Treated  0  genes, still  406  limit =  50000\n",
      "Treated  50  genes, still  356  limit =  50000\n",
      "Treated  100  genes, still  306  limit =  50000\n",
      "Treated  150  genes, still  256  limit =  50000\n",
      "Treated  200  genes, still  206  limit =  50000\n",
      "Treated  250  genes, still  156  limit =  50000\n",
      "Treated  300  genes, still  106  limit =  50000\n",
      "Treated  350  genes, still  56  limit =  50000\n",
      "Treated  400  genes, still  6  limit =  50000\n",
      "Execution time for RRG reconstruction =  44.63559660200008 seconds\n",
      "Reconstructed graph contains 406 genes, 4197 interactions\n"
     ]
    }
   ],
   "source": [
    "eprint(\"Entering : RRG reconstruction\")\n",
    "\n",
    "\n",
    "## DEBUG ONLY\n",
    "begin = timer()\n",
    "## END DEBUG ONLY\n",
    "\n",
    "if (Param_DoReconstruction):\n",
    "    TargetGenesName = TargetGenes #[EnsemblToGeneNames.get(x) for x in TargetGenes if (len(x) > 2)]\n",
    "    \n",
    "    a,b,u=getParentGraphList(TargetGenesName,50000)\n",
    "    \n",
    "    ## DEBUG ONLY\n",
    "    end = timer()\n",
    "    eprint(\"Execution time for RRG reconstruction = \",end-begin,\"seconds\")\n",
    "    ## END DEBUG ONLY\n",
    "    \n",
    "    eprint('Reconstructed graph contains',len(b),'genes,',len(a),'interactions')\n",
    "    \n",
    "    \n",
    "    # write the file for compatibility purpose\n",
    "    \n",
    "    fd = open(Param_RRGFilename,\"w\")\n",
    "    for r in a:\n",
    "        relation=r.split(\"_\")\n",
    "#        if (relation[1] != \"ACTIVATION\"):\n",
    "#        eprint(relation)\n",
    "        fd.write(relation[0]+\";\"+relation[2]+\"\\n\")\n",
    "    fd.close()\n"
   ]
  },
  {
   "cell_type": "code",
   "execution_count": 16,
   "metadata": {
    "collapsed": false
   },
   "outputs": [
    {
     "name": "stderr",
     "output_type": "stream",
     "text": [
      "Execution completed in 269.29098863200124 seconds\n"
     ]
    }
   ],
   "source": [
    "endtotal = timer()\n",
    "eprint(\"Execution completed in\",endtotal-begintotal,\"seconds\")"
   ]
  },
  {
   "cell_type": "code",
   "execution_count": null,
   "metadata": {
    "collapsed": false
   },
   "outputs": [],
   "source": []
  },
  {
   "cell_type": "code",
   "execution_count": null,
   "metadata": {
    "collapsed": true
   },
   "outputs": [],
   "source": []
  },
  {
   "cell_type": "code",
   "execution_count": 17,
   "metadata": {
    "collapsed": false
   },
   "outputs": [],
   "source": [
    "tg = Allmeds.get(Param_Drug).get('TargetsGenes')"
   ]
  },
  {
   "cell_type": "code",
   "execution_count": null,
   "metadata": {
    "collapsed": false
   },
   "outputs": [],
   "source": []
  },
  {
   "cell_type": "code",
   "execution_count": null,
   "metadata": {
    "collapsed": false
   },
   "outputs": [],
   "source": []
  },
  {
   "cell_type": "code",
   "execution_count": 18,
   "metadata": {
    "collapsed": false
   },
   "outputs": [],
   "source": [
    "possibleTargets=dict()\n",
    "for m in Allmeds:\n",
    "    tg = Allmeds.get(m).get('TargetsGenes')\n",
    "    malist = [GeneAltNameToName.get(x) for x in b if GeneAltNameToName.get(x) in tg]\n",
    "    for g in malist:\n",
    "        if not possibleTargets.get(g):\n",
    "            possibleTargets[g]=list()\n",
    "        possibleTargets[g].append(m)\n",
    "#    if (len(malist)>0):\n",
    "#        print(m,malist)"
   ]
  },
  {
   "cell_type": "code",
   "execution_count": 19,
   "metadata": {
    "collapsed": false
   },
   "outputs": [
    {
     "data": {
      "text/plain": [
       "{'AKR1B1': ['Minalrestat (USAN/INN)',\n",
       "  'Zenarestat (USAN/INN)',\n",
       "  'Alond (TN)',\n",
       "  'Sorbinil (USAN/INN)',\n",
       "  'Alredase (TN)',\n",
       "  'Aldos (TN)',\n",
       "  'Kinedak (TN)',\n",
       "  'Ranirestat (JAN/INN)',\n",
       "  'CT 112',\n",
       "  'Alrestatin sodium (USAN)',\n",
       "  'Ponalrestat (USAN/INN)',\n",
       "  'Lidorestat (USAN)'],\n",
       " 'CEL': ['Xenical (TN)'],\n",
       " 'DGAT1': ['Pradigastat sodium (USAN)', 'Pradigastat (USAN)'],\n",
       " 'IFNG': ['Fontolizumab (USAN/INN)'],\n",
       " 'IL1B': ['Ilaris (TN)', 'Gevokizumab (USAN/INN)'],\n",
       " 'NPC1L1': ['Zetia (TN)'],\n",
       " 'NR1H4': ['Ocaliva (TN)', 'Chenix (TN)', 'Turofexorate isopropyl (USAN/INN)'],\n",
       " 'NR3C1': ['Fosdagrocorat (USAN/INN)',\n",
       "  'Meprednisone (USP/INN)',\n",
       "  'Fluocortolone caproate (USAN)',\n",
       "  'Dexamethasone beloxil (USAN)',\n",
       "  'Deflamene (TN)',\n",
       "  'Hydrocortisone cypionate',\n",
       "  'Decadron-phosphate (TN)',\n",
       "  'Tixocortol (INN)',\n",
       "  'Vexol (TN)',\n",
       "  'Medrol (TN)',\n",
       "  'Fluocortin (INN)',\n",
       "  'Prednisolone succinate (JP17)',\n",
       "  'Uticort (TN)',\n",
       "  'Prednisone 21-acetate',\n",
       "  'Dermatop (TN)',\n",
       "  'Solu-cortef (TN)',\n",
       "  'Fenicort (TN)',\n",
       "  'Aristospan (TN)',\n",
       "  'Cortivazol (USAN)',\n",
       "  'Alphadrol (TN)',\n",
       "  'Kenacort (TN)',\n",
       "  'Sintisone (TN)',\n",
       "  'Cortone acetate (TN)',\n",
       "  'Fluocortin butyl (USAN)',\n",
       "  'Ultracortenol (TN)',\n",
       "  'Cortisone (TN)',\n",
       "  'Westcort (TN)',\n",
       "  'Hydrocortisone succinate (JP17)',\n",
       "  'Predenema (TN)',\n",
       "  'Haloart (TN)',\n",
       "  'Plenadren (TN)',\n",
       "  'Flunisolide acetate (USAN)',\n",
       "  'Decoderm (TN)',\n",
       "  'Betamethasone acetate (JAN/USP)',\n",
       "  'Colircusi Dexametasona (TN)',\n",
       "  'Hydrocortisone caproate (JAN)',\n",
       "  'Aclovate (TN)',\n",
       "  'Halopredone (INN)',\n",
       "  'Delvosteron [veterinary] (TN)',\n",
       "  'Clobecort Amex (TN)',\n",
       "  'Pred forte (TN)',\n",
       "  'Dexamedium [veterinary] (TN)',\n",
       "  'Methylprednisolone suleptanate (USAN/INN)',\n",
       "  'Omnaris (TN)',\n",
       "  'Haldrone (TN)',\n",
       "  'Afusona (TN)',\n",
       "  'Mapracorat (USAN)',\n",
       "  'Verdeso (TN)',\n",
       "  'Ultravate (TN)',\n",
       "  'Delta-cortef (TN)',\n",
       "  'Decaject-L.A. (TN)',\n",
       "  'Flumetasone (INN)',\n",
       "  'Florinef acetate (TN)',\n",
       "  'Fluticaps (TN)',\n",
       "  'Limethason (TN)',\n",
       "  'Topicort (TN)',\n",
       "  'Clocortolone acetate (USAN)',\n",
       "  'Zalucs (TN)',\n",
       "  'Halometasone (INN)',\n",
       "  'Beclometason (TN)',\n",
       "  'Veramyst (TN)',\n",
       "  'Kohakusanin (TN)',\n",
       "  'Uceris (TN)',\n",
       "  'Hydrocortisone hemisuccinate (USP)',\n",
       "  'Locorten (TN)',\n",
       "  'Voalla ointment (TN)',\n",
       "  'Dexamethasone acefurate (USAN/INN)',\n",
       "  'Solu-medrol (TN)',\n",
       "  'HMS (TN)',\n",
       "  'Resocortol (INN)',\n",
       "  'Synalar (TN)',\n",
       "  'Dexamethasone cipecilate (JAN/INN)',\n",
       "  'Antebate (TN)',\n",
       "  'Psorcon (TN)',\n",
       "  'Olux (TN)',\n",
       "  'Rayos (TN)',\n",
       "  'Triamcinolone acetonide sodium phosphate (USAN)',\n",
       "  'Cyclocort (TN)',\n",
       "  'Pandel (TN)',\n",
       "  'Diflucortolone pivalate (USAN)',\n",
       "  'Kindavate (TN)',\n",
       "  'Murode (TN)',\n",
       "  'Vanos (TN)',\n",
       "  'Cortodoxone (USAN)',\n",
       "  'Rinderon-DP (TN)',\n",
       "  'Deflazacort (USAN/INN)',\n",
       "  'Nasalide (TN)',\n",
       "  'Dexafort [veterinary] (TN)',\n",
       "  'Dillar (TN)',\n",
       "  'Prednylidene (INN)',\n",
       "  'Cordran (TN)',\n",
       "  'Fluclorolone acetonide (INN)',\n",
       "  'Locoid (TN)',\n",
       "  'Cloradryn (TN)',\n",
       "  'Santeson (TN)',\n",
       "  'Flarex (TN)',\n",
       "  'Hydrocortone phosphate (TN)',\n",
       "  'Astonin-H (TN)',\n",
       "  'Loteprednol (INN)',\n",
       "  'Nasonex (TN)',\n",
       "  'Farnerate (TN)',\n",
       "  'Fluprednisolone valerate (USAN)',\n",
       "  'Advantan (TN)',\n",
       "  'Cortifoam (TN)',\n",
       "  'Mometasone (INN)',\n",
       "  'Celestone (TN)',\n",
       "  'Methylprednisolone succinate (JP17)',\n",
       "  'Aristocort (TN)',\n",
       "  'Spirazon (TN)',\n",
       "  'Fluocortolone (USAN/INN)',\n",
       "  'Vanceril (TN)',\n",
       "  'Lotemax (TN)',\n",
       "  'Cloderm (TN)',\n",
       "  'Ultradil (TN)',\n",
       "  'Fluprednidene (INN)',\n",
       "  'Oxylone (TN)',\n",
       "  'Halobetasol',\n",
       "  'Clobetasone (INN)',\n",
       "  'Efficort (TN)',\n",
       "  'Resocortol butyrate (USAN)',\n",
       "  'Maxidex (TN)',\n",
       "  'Voren [veterinary] (TN)',\n",
       "  'Pediapred (TN)',\n",
       "  'Hifmeta (TN)',\n",
       "  'Tixocortol pivalate (USAN)',\n",
       "  'Rinderon-V (TN)',\n",
       "  'Dagrocorat (USAN/INN)',\n",
       "  'Decadronal (TN)',\n",
       "  'Hydeltra-TBA (TN)',\n",
       "  'Nasacort (TN)',\n",
       "  'Elocon (TN)',\n",
       "  'Depo-medrol (TN)',\n",
       "  'Methylprednisolone sodium phosphate (USAN)',\n",
       "  'Durezol (TN)',\n",
       "  'Alclometasone (INN)',\n",
       "  'Clocortolone (INN)',\n",
       "  'Diflucortolone (USAN)',\n",
       "  'Flovent (TN)'],\n",
       " 'PARP1': ['Rubraca (TN)',\n",
       "  'Lynparza (TN)',\n",
       "  'Rucaparib phosphate (USAN)',\n",
       "  'Talazoparib tosylate (USAN)',\n",
       "  'Niraparib (USAN)',\n",
       "  'Iniparib (USAN/INN)',\n",
       "  'Talazoparib (USAN/INN)',\n",
       "  'Veliparib (USAN/INN)'],\n",
       " 'PNLIP': ['Xenical (TN)'],\n",
       " 'SLC22A1': ['Eloxatin (TN)', 'Metformin (USAN/INN)', 'Glucophage (TN)'],\n",
       " 'SP1': ['Terameprocol (INN/USAN)'],\n",
       " 'STAT3': ['Napabucasin (JAN/USAN/INN)'],\n",
       " 'TNF': ['Humira (TN)',\n",
       "  'Enbrel (TN)',\n",
       "  'Onercept (USAN/INN)',\n",
       "  'Ozoralizumab (USAN)',\n",
       "  'Placulumab (USAN/INN)',\n",
       "  'Cimzia (TN)',\n",
       "  'Pegsunercept (USAN)',\n",
       "  'Nerelimomab (USAN/INN)',\n",
       "  'Afelimomab (INN)',\n",
       "  'Lenercept (USAN/INN)',\n",
       "  'Remicade (TN)',\n",
       "  'Simponi (TN)',\n",
       "  'Revlimid (TN)'],\n",
       " 'TP53': ['Cenersen sodium (USAN)']}"
      ]
     },
     "execution_count": 19,
     "metadata": {},
     "output_type": "execute_result"
    }
   ],
   "source": [
    "possibleTargets"
   ]
  },
  {
   "cell_type": "code",
   "execution_count": null,
   "metadata": {
    "collapsed": true
   },
   "outputs": [],
   "source": []
  },
  {
   "cell_type": "code",
   "execution_count": 20,
   "metadata": {
    "collapsed": false
   },
   "outputs": [],
   "source": [
    "\n",
    "import json\n",
    "with open(\"../tmp/PossibleTargets.json\", 'w') as outfile:\n",
    "    json.dump(possibleTargets, outfile)\n"
   ]
  },
  {
   "cell_type": "code",
   "execution_count": 21,
   "metadata": {
    "collapsed": false
   },
   "outputs": [],
   "source": [
    "ListReg=list()\n",
    "for g in regulators:\n",
    "    if (EnsemblToGeneNamesList.get(g) != None):\n",
    "        ListReg=ListReg+EnsemblToGeneNamesList.get(g)"
   ]
  },
  {
   "cell_type": "code",
   "execution_count": 22,
   "metadata": {
    "collapsed": false
   },
   "outputs": [
    {
     "data": {
      "text/plain": [
       "194"
      ]
     },
     "execution_count": 22,
     "metadata": {},
     "output_type": "execute_result"
    }
   ],
   "source": [
    "len(ListReg)"
   ]
  },
  {
   "cell_type": "code",
   "execution_count": 23,
   "metadata": {
    "collapsed": true
   },
   "outputs": [],
   "source": [
    "possibleTargetsAvant=dict()\n",
    "for m in Allmeds:\n",
    "    tg = Allmeds.get(m).get('TargetsGenes')\n",
    "    malist = [GeneAltNameToName.get(x) for x in ListReg if GeneAltNameToName.get(x) in tg]\n",
    "    for g in malist:\n",
    "        if not possibleTargetsAvant.get(g):\n",
    "            possibleTargetsAvant[g]=list()\n",
    "        possibleTargetsAvant[g].append(m)"
   ]
  },
  {
   "cell_type": "code",
   "execution_count": 24,
   "metadata": {
    "collapsed": false
   },
   "outputs": [
    {
     "data": {
      "text/plain": [
       "{'CEL': ['Xenical (TN)'],\n",
       " 'DGAT1': ['Pradigastat sodium (USAN)', 'Pradigastat (USAN)'],\n",
       " 'NPC1L1': ['Zetia (TN)'],\n",
       " 'PNLIP': ['Xenical (TN)'],\n",
       " 'SLC22A1': ['Eloxatin (TN)', 'Metformin (USAN/INN)', 'Glucophage (TN)']}"
      ]
     },
     "execution_count": 24,
     "metadata": {},
     "output_type": "execute_result"
    }
   ],
   "source": [
    "possibleTargetsAvant"
   ]
  },
  {
   "cell_type": "code",
   "execution_count": null,
   "metadata": {
    "collapsed": false
   },
   "outputs": [],
   "source": []
  },
  {
   "cell_type": "code",
   "execution_count": null,
   "metadata": {
    "collapsed": false
   },
   "outputs": [],
   "source": []
  },
  {
   "cell_type": "code",
   "execution_count": 25,
   "metadata": {
    "collapsed": false
   },
   "outputs": [
    {
     "name": "stdout",
     "output_type": "stream",
     "text": [
      "Le nombre total de cibles potentielles après reconstruction est 15\n"
     ]
    }
   ],
   "source": [
    "print(\"Le nombre total de cibles potentielles après reconstruction est\",len(possibleTargets))"
   ]
  },
  {
   "cell_type": "code",
   "execution_count": 26,
   "metadata": {
    "collapsed": false
   },
   "outputs": [
    {
     "name": "stdout",
     "output_type": "stream",
     "text": [
      "Le nombre total de cibles potentielles avant reconstruction est 5\n"
     ]
    }
   ],
   "source": [
    "print(\"Le nombre total de cibles potentielles avant reconstruction est\",len(possibleTargetsAvant))"
   ]
  },
  {
   "cell_type": "code",
   "execution_count": null,
   "metadata": {
    "collapsed": false
   },
   "outputs": [],
   "source": []
  },
  {
   "cell_type": "code",
   "execution_count": 27,
   "metadata": {
    "collapsed": true
   },
   "outputs": [],
   "source": [
    "\n",
    "\n",
    "Drugs=list()\n",
    "for t in possibleTargets:\n",
    "    lg=possibleTargets.get(t)\n",
    "    for g in lg:\n",
    "        Drugs.append(g)\n",
    "        \n",
    "Drugs=list(set(Drugs))"
   ]
  },
  {
   "cell_type": "code",
   "execution_count": 28,
   "metadata": {
    "collapsed": false
   },
   "outputs": [
    {
     "data": {
      "text/plain": [
       "187"
      ]
     },
     "execution_count": 28,
     "metadata": {},
     "output_type": "execute_result"
    }
   ],
   "source": [
    "len(Drugs)"
   ]
  },
  {
   "cell_type": "code",
   "execution_count": 29,
   "metadata": {
    "collapsed": false
   },
   "outputs": [
    {
     "name": "stdout",
     "output_type": "stream",
     "text": [
      "Le réseau de régulation possède 375 gènes\n",
      "Le réseau de régulation possède 4197 interactions\n"
     ]
    }
   ],
   "source": [
    "import networkx as nx\n",
    "\n",
    "# construction du graphe de régulation\n",
    "\n",
    "G=nx.DiGraph()\n",
    "\n",
    "for i in a:\n",
    "    source,typ,target=i.split(\"_\")\n",
    "    G.add_edge(source,target)\n",
    "\n",
    "print(\"Le réseau de régulation possède\",len(G.nodes()),\"gènes\")\n",
    "\n",
    "print(\"Le réseau de régulation possède\",len(G.edges()),\"interactions\")"
   ]
  },
  {
   "cell_type": "code",
   "execution_count": null,
   "metadata": {
    "collapsed": false
   },
   "outputs": [],
   "source": []
  },
  {
   "cell_type": "code",
   "execution_count": null,
   "metadata": {
    "collapsed": false
   },
   "outputs": [],
   "source": []
  },
  {
   "cell_type": "code",
   "execution_count": 30,
   "metadata": {
    "collapsed": false
   },
   "outputs": [],
   "source": [
    "# essai : ici, on prend l'ensemble des drogues de KeggDrug et on regarde tous les gènes impactés par au moins une drogue\n",
    "# NB : ici, on fournit pour L une liste de gènes précurseurs (cibles)\n",
    "\n",
    "L=list()\n",
    "for g in possibleTargets:\n",
    "    L.append(g)\n",
    "\n",
    "L=L+nx.algorithms.node_boundary(G,L)"
   ]
  },
  {
   "cell_type": "code",
   "execution_count": 31,
   "metadata": {
    "collapsed": false
   },
   "outputs": [
    {
     "name": "stdout",
     "output_type": "stream",
     "text": [
      "Le sous-réseau de régulation impacté possède 188 gènes\n",
      "Le sous-réseau de régulation impacté possède 2035 interactions\n"
     ]
    }
   ],
   "source": [
    "# G2 sera le sous-graphe induit par L (i.e., le sous-graphe de G dont tous les sommets sont dans L)\n",
    "\n",
    "G2=G.copy()\n",
    "G2.remove_nodes_from(n for n in G.nodes() if n not in L)\n",
    "\n",
    "print(\"Le sous-réseau de régulation impacté possède\",len(G2.nodes()),\"gènes\")\n",
    "print(\"Le sous-réseau de régulation impacté possède\",len(G2.edges()),\"interactions\")"
   ]
  },
  {
   "cell_type": "code",
   "execution_count": null,
   "metadata": {
    "collapsed": false
   },
   "outputs": [],
   "source": []
  },
  {
   "cell_type": "code",
   "execution_count": null,
   "metadata": {
    "collapsed": false
   },
   "outputs": [],
   "source": []
  },
  {
   "cell_type": "code",
   "execution_count": 32,
   "metadata": {
    "collapsed": false
   },
   "outputs": [
    {
     "data": {
      "text/plain": [
       "194"
      ]
     },
     "execution_count": 32,
     "metadata": {},
     "output_type": "execute_result"
    }
   ],
   "source": [
    "GenesCibles=list()\n",
    "for e in regulators:\n",
    "    LR=EnsemblToGeneNamesList.get(e)\n",
    "    if (LR != None):\n",
    "        GenesCibles=GenesCibles+LR\n",
    "\n",
    "len(GenesCibles)"
   ]
  },
  {
   "cell_type": "code",
   "execution_count": null,
   "metadata": {
    "collapsed": false
   },
   "outputs": [],
   "source": []
  }
 ],
 "metadata": {
  "anaconda-cloud": {},
  "kernelspec": {
   "display_name": "Python [default]",
   "language": "python",
   "name": "python3"
  },
  "language_info": {
   "codemirror_mode": {
    "name": "ipython",
    "version": 3
   },
   "file_extension": ".py",
   "mimetype": "text/x-python",
   "name": "python",
   "nbconvert_exporter": "python",
   "pygments_lexer": "ipython3",
   "version": "3.5.2"
  }
 },
 "nbformat": 4,
 "nbformat_minor": 1
}
